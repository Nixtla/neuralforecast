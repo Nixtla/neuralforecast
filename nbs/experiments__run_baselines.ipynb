{
 "cells": [
  {
   "cell_type": "code",
   "execution_count": null,
   "metadata": {},
   "outputs": [],
   "source": [
    "#default_exp experiments.run_baselines"
   ]
  },
  {
   "cell_type": "code",
   "execution_count": null,
   "metadata": {},
   "outputs": [],
   "source": [
    "# export\n",
    "import numpy as np\n",
    "import pandas as pd\n",
    "from tqdm import tqdm\n",
    "\n",
    "#from statsforecast import StatsForecast\n",
    "#from statsforecast.models import seasonal_naive, auto_arima\n",
    "\n",
    "from neuralforecast.data.datasets.favorita import Favorita\n",
    "from neuralforecast.data.datasets.tourismL import TourismL"
   ]
  },
  {
   "cell_type": "code",
   "execution_count": null,
   "metadata": {},
   "outputs": [],
   "source": [
    "# hide\n",
    "import matplotlib.pyplot as plt\n",
    "\n",
    "import pylab as plt\n",
    "from pylab import rcParams\n",
    "plt.style.use('seaborn-whitegrid')\n",
    "\n",
    "from matplotlib import rcParams\n",
    "plt.rcParams['font.family'] = 'serif'\n",
    "\n",
    "FONTSIZE = 22"
   ]
  },
  {
   "cell_type": "markdown",
   "metadata": {},
   "source": [
    "## 1. Read and parse data"
   ]
  },
  {
   "cell_type": "code",
   "execution_count": null,
   "metadata": {},
   "outputs": [],
   "source": [
    "# directory = './data/hierarchical/TourismL'\n",
    "\n",
    "# TourismL.preprocess_data(directory=directory, verbose=False)\n",
    "# data = TourismL.load_process(directory=directory, verbose=True)"
   ]
  },
  {
   "cell_type": "code",
   "execution_count": null,
   "metadata": {},
   "outputs": [],
   "source": [
    "# Y_hier = np.array(data['Y_hier'], dtype=np.float64)\n",
    "\n",
    "# # Declare Y_train\n",
    "# unique_id  = np.repeat(data['hier_labels'], 228-12)\n",
    "# ds         = np.tile(data['dates'][:228-12], 555)\n",
    "# Y_train    = np.array(data['Y_hier'][:,:228-12], dtype=np.float64)\n",
    "# Y_train_df = pd.DataFrame({'unique_id': unique_id, \n",
    "#                            'ds': ds, 'y': Y_train.flatten()})\n",
    "\n",
    "# # Declare Y_test\n",
    "# unique_id = np.repeat(data['hier_labels'], 12)\n",
    "# ds        = np.tile(data['dates'][-12:], 555)\n",
    "# Y_test    = np.array(data['Y_hier'][:,-12:], dtype=np.float64)\n",
    "# Y_test_df = pd.DataFrame({'unique_id': unique_id, \n",
    "#                           'ds': ds, 'y': Y_test.flatten()})"
   ]
  },
  {
   "cell_type": "markdown",
   "metadata": {},
   "source": [
    "## 2. Run baseline model"
   ]
  },
  {
   "cell_type": "code",
   "execution_count": null,
   "metadata": {},
   "outputs": [],
   "source": [
    "# fcst = StatsForecast(Y_train_df.set_index('unique_id'), \n",
    "#                      models=[(auto_arima, 12)], \n",
    "#                      freq='D', n_jobs=4)\n",
    "\n",
    "# Y_hat_df = fcst.forecast(12).reset_index()\n",
    "# Y_hat_df"
   ]
  },
  {
   "cell_type": "code",
   "execution_count": null,
   "metadata": {},
   "outputs": [],
   "source": [
    "# Y_hat = Y_hat_df['auto_arima_season_length-12'].values\n",
    "# Y_hat = Y_hat.reshape(555, 12)"
   ]
  },
  {
   "cell_type": "markdown",
   "metadata": {},
   "source": [
    "## 3. Evaluate baseline model"
   ]
  },
  {
   "cell_type": "markdown",
   "metadata": {},
   "source": [
    "### 3.1 Quantitative evaluation"
   ]
  },
  {
   "cell_type": "code",
   "execution_count": null,
   "metadata": {},
   "outputs": [],
   "source": [
    "# QUANTILES = np.linspace(0.01, 0.99, 10)\n",
    "\n",
    "# Yq_hat  = np.repeat(Y_hat[:,:,None], len(QUANTILES), axis=2)\n",
    "# crps_df = TourismL.get_hierarchical_crps(data=data, Y=Y_test, Y_hat=Yq_hat,\n",
    "#                                          q_to_pred=QUANTILES)\n",
    "# crps_df"
   ]
  },
  {
   "cell_type": "code",
   "execution_count": null,
   "metadata": {},
   "outputs": [],
   "source": [
    "# rmse_df = TourismL.get_hierarchical_rmse(data=data, Y=Y_test, Y_hat=Y_hat)\n",
    "# rmse_df"
   ]
  },
  {
   "cell_type": "markdown",
   "metadata": {},
   "source": [
    "### 3.2 Qualitative evaluation"
   ]
  },
  {
   "cell_type": "code",
   "execution_count": null,
   "metadata": {},
   "outputs": [],
   "source": [
    "# plt.plot(Y_test[0,:], label='True')\n",
    "# plt.plot(Y_hat[0,:], label='Forecast')\n",
    "# plt.legend()\n",
    "# plt.show()"
   ]
  },
  {
   "cell_type": "code",
   "execution_count": null,
   "metadata": {},
   "outputs": [],
   "source": []
  },
  {
   "cell_type": "code",
   "execution_count": null,
   "metadata": {},
   "outputs": [],
   "source": []
  }
 ],
 "metadata": {
  "kernelspec": {
   "display_name": "neuralforecast",
   "language": "python",
   "name": "neuralforecast"
  }
 },
 "nbformat": 4,
 "nbformat_minor": 4
}
