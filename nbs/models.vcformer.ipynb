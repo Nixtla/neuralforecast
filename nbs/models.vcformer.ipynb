{
 "cells": [
  {
   "cell_type": "code",
   "execution_count": null,
   "metadata": {},
   "outputs": [
    {
     "name": "stdout",
     "output_type": "stream",
     "text": [
      "env: PYTORCH_ENABLE_MPS_FALLBACK=1\n"
     ]
    }
   ],
   "source": [
    "#| hide\n",
    "\n",
    "%set_env PYTORCH_ENABLE_MPS_FALLBACK=1"
   ]
  },
  {
   "cell_type": "code",
   "execution_count": null,
   "metadata": {},
   "outputs": [],
   "source": [
    "#| default_exp models.vcformer"
   ]
  },
  {
   "cell_type": "code",
   "execution_count": null,
   "metadata": {},
   "outputs": [],
   "source": [
    "#| hide\n",
    "%load_ext autoreload\n",
    "%autoreload 2"
   ]
  },
  {
   "cell_type": "code",
   "execution_count": null,
   "metadata": {},
   "outputs": [],
   "source": [
    "#| hide\n",
    "from fastcore.test import test_eq\n",
    "from nbdev.showdoc import show_doc"
   ]
  },
  {
   "cell_type": "markdown",
   "metadata": {},
   "source": [
    "# VCFormer\n",
    "\n",
    "VCformer stands for Variable Correlation Transformer and implement the variable correlation attention mechanism to learn correlations between variates. It also implements a Koopman Temporal Detector (KTD) to better address non-stationarity in time series.\n",
    "\n",
    "**References**\n",
    "- [Yingnan Yang, Qingling Zhu, Jianyong Chen. \"VCformer: Variable Correlation Transformer with Inherent Lagged Correlation for Multivariate Time Series Forecasting\"](https://arxiv.org/abs/2405.11470)"
   ]
  },
  {
   "cell_type": "markdown",
   "metadata": {},
   "source": [
    "![Figure 1. Architecture of iTransformer.](imgs_models/vcformer.png)"
   ]
  },
  {
   "cell_type": "code",
   "execution_count": null,
   "metadata": {},
   "outputs": [],
   "source": [
    "#| export\n",
    "\n",
    "import torch\n",
    "import torch.nn as nn\n",
    "import torch.nn.functional as F\n",
    "\n",
    "from math import sqrt\n",
    "\n",
    "from einops import rearrange\n",
    "\n",
    "from neuralforecast.common._modules import MLP, TransEncoder\n",
    "\n",
    "from neuralforecast.losses.pytorch import MAE\n",
    "from neuralforecast.common._base_multivariate import BaseMultivariate"
   ]
  },
  {
   "cell_type": "markdown",
   "metadata": {},
   "source": [
    "# 1. Auxiliary functions\n",
    "## 1.1 Embedding "
   ]
  },
  {
   "cell_type": "code",
   "execution_count": null,
   "metadata": {},
   "outputs": [],
   "source": [
    "#| exporti\n",
    "\n",
    "class DataEmbedding_inverted(nn.Module):\n",
    "    def __init__(self, c_in, d_model, dropout=0.1):\n",
    "        super(DataEmbedding_inverted, self).__init__()\n",
    "        self.value_embedding = nn.Linear(c_in, d_model)\n",
    "        self.dropout = nn.Dropout(p=dropout)\n",
    "\n",
    "    def forward(self, x, x_mark):\n",
    "        x = x.permute(0, 2, 1)\n",
    "        # x: [Batch Variate Time]\n",
    "        if x_mark is None:\n",
    "            # if not time feature\n",
    "            x = self.value_embedding(x)\n",
    "        else:\n",
    "            # if have time feature\n",
    "            x = self.value_embedding(\n",
    "                torch.cat([x, x_mark.permute(0, 2, 1)], 1))\n",
    "        # x: [Batch Variate d_model]\n",
    "        return self.dropout(x)"
   ]
  },
  {
   "cell_type": "markdown",
   "metadata": {},
   "source": [
    "## 1.2 KTD"
   ]
  },
  {
   "cell_type": "code",
   "execution_count": null,
   "metadata": {},
   "outputs": [],
   "source": [
    "#| exporti\n",
    "\n",
    "class KPLayerApprox(nn.Module):\n",
    "    def __init__(self):\n",
    "        super(KPLayerApprox, self).__init__()\n",
    "        self.K = None\n",
    "        self.K_step = None\n",
    "\n",
    "    def forward(self, z):\n",
    "        B, N, input_len, hidden_dim = z.shape\n",
    "        pred_len = input_len\n",
    "        z = rearrange(z, 'b n pn m -> (b n) pn m')\n",
    "        x, y = z[:, :-1], z[:, 1:]\n",
    "\n",
    "        self.K = torch.linalg.lstsq(x, y).solution\n",
    "\n",
    "        if torch.isnan(self.K).any():\n",
    "            print('Encounter K with nan, replace K by identity matrix')\n",
    "            self.K = torch.eye(self.K.shape[1]).to(\n",
    "                self.K.device).unsqueeze(0).repeat(B, 1, 1)\n",
    "\n",
    "        self.K_step = torch.linalg.matrix_power(self.K, pred_len)\n",
    "        if torch.isnan(self.K_step).any():\n",
    "            print('Encounter multistep K with nan, replace it by identity matrix')\n",
    "            self.K_step = torch.eye(self.K_step.shape[1]).to(\n",
    "                self.K_step.device).unsqueeze(0).repeat(B, 1, 1)\n",
    "        z_pred = torch.bmm(z[:, -pred_len:, :], self.K_step)\n",
    "        return z_pred\n",
    "\n",
    "\n",
    "class KTDlayer(nn.Module):\n",
    "    \"\"\"\n",
    "        Koopman Temporal Detector layer\n",
    "    \"\"\"\n",
    "\n",
    "    def __init__(self, enc_in, snap_size, proj_dim, hidden_dim, hidden_layers):\n",
    "        super(KTDlayer, self).__init__()\n",
    "        self.enc_in = enc_in\n",
    "        self.snap_size = snap_size\n",
    "        self.dynamics = KPLayerApprox()\n",
    "        self.encoder = MLP(in_features=snap_size, out_features=proj_dim, activation='Tanh', hidden_size=hidden_dim, num_layers=hidden_layers, dropout=0.05)\n",
    "        self.decoder = MLP(in_features=proj_dim, out_features=snap_size, activation='Tanh', hidden_size=hidden_dim, num_layers=hidden_layers, dropout=0.05)\n",
    "        self.padding_len = snap_size - \\\n",
    "            (enc_in % snap_size) if enc_in % snap_size != 0 else 0\n",
    "\n",
    "    def forward(self, x):\n",
    "        # x: B L D\n",
    "        B, N, D = x.shape\n",
    "\n",
    "        res = torch.cat((x[:, :, D-self.padding_len:], x), dim=-1)\n",
    "\n",
    "        res = rearrange(res, 'b n (p_n p) -> b n p_n p', p=self.snap_size)\n",
    "\n",
    "        res = self.encoder(res)  # b n p_n m, m means hidden dim\n",
    "\n",
    "        # b*n f_n m, f_n means forecast patch num\n",
    "        x_pred = self.dynamics(res)\n",
    "\n",
    "        x_pred = self.decoder(x_pred)     # b*n f_n p\n",
    "\n",
    "        x_pred = rearrange(x_pred, '(b n) f_n p -> b n (f_n p)', b=B)\n",
    "\n",
    "        return x_pred"
   ]
  },
  {
   "cell_type": "markdown",
   "metadata": {},
   "source": [
    "## 1.3 Encoder layer"
   ]
  },
  {
   "cell_type": "code",
   "execution_count": null,
   "metadata": {},
   "outputs": [],
   "source": [
    "#| exporti\n",
    "\n",
    "class EncoderLayer(nn.Module):\n",
    "    def __init__(self, attention, ktd, d_model, d_ff=None, dropout=0.1, activation=\"relu\"):\n",
    "        super(EncoderLayer, self).__init__()\n",
    "        d_ff = d_ff or 4 * d_model\n",
    "        self.attention = attention\n",
    "        self.ktd = ktd\n",
    "        self.lin1 = nn.Linear(d_model, d_ff)\n",
    "        self.lin2 = nn.Linear(d_ff, d_model)\n",
    "        self.conv1 = nn.Conv1d(in_channels=d_model,\n",
    "                               out_channels=d_ff, kernel_size=1)\n",
    "        self.conv2 = nn.Conv1d(\n",
    "            in_channels=d_ff, out_channels=d_model, kernel_size=1)\n",
    "        self.norm1 = nn.LayerNorm(d_model)\n",
    "        self.norm2 = nn.LayerNorm(d_model)\n",
    "        self.norm3 = nn.LayerNorm(d_model)\n",
    "        self.dropout = nn.Dropout(dropout)\n",
    "        self.activation = F.relu if activation == \"relu\" else F.gelu\n",
    "\n",
    "    def forward(self, x, attn_mask=None, tau=None, delta=None):\n",
    "        # VCA module\n",
    "        new_x, attn = self.attention(\n",
    "            x, x, x,\n",
    "            attn_mask=attn_mask,\n",
    "            tau=tau, delta=delta\n",
    "        )\n",
    "        x = x + self.dropout(new_x)\n",
    "        y = x = self.norm1(x)\n",
    "\n",
    "        # KTD Module\n",
    "        x_ktd = y\n",
    "        y = self.dropout(self.ktd(x_ktd))\n",
    "\n",
    "        return self.norm2(x_ktd + y), attn"
   ]
  },
  {
   "cell_type": "markdown",
   "metadata": {},
   "source": [
    "## 1.4 Attention"
   ]
  },
  {
   "cell_type": "code",
   "execution_count": null,
   "metadata": {},
   "outputs": [],
   "source": [
    "#| exporti\n",
    "\n",
    "class TriangularCausalMask():\n",
    "    def __init__(self, B, L, device=\"cpu\"):\n",
    "        mask_shape = [B, 1, L, L]\n",
    "        with torch.no_grad():\n",
    "            self._mask = torch.triu(torch.ones(mask_shape, dtype=torch.bool), diagonal=1).to(device)\n",
    "\n",
    "    @property\n",
    "    def mask(self):\n",
    "        return self._mask\n",
    "\n",
    "class VarCorAttention(nn.Module):\n",
    "    def __init__(self, mask_flag=True, factor=5, scale=None, attention_dropout=0.1, output_attention=False) -> None:\n",
    "        super(VarCorAttention, self).__init__()\n",
    "\n",
    "        self.scale = scale\n",
    "        self.mask_flag = mask_flag\n",
    "        self.output_attention = output_attention\n",
    "        self.dropout = nn.Dropout(attention_dropout)\n",
    "\n",
    "    def origin_compute_cross_cor(self, queries, keys):\n",
    "        q_fft = torch.fft.rfft(queries, dim=-1)\n",
    "        k_fft = torch.fft.rfft(keys, dim=-1)\n",
    "\n",
    "        res = q_fft*k_fft\n",
    "        corr = torch.fft.irfft(res, dim=-1)\n",
    "        corr = corr.mean(dim=-1)\n",
    "        return corr\n",
    "\n",
    "    def compute_cross_cor(self, queries, keys):\n",
    "\n",
    "        q_fft = torch.fft.rfft(queries, dim=-1)\n",
    "        k_fft = torch.fft.rfft(keys, dim=-1)\n",
    "        q_fft = q_fft.unsqueeze(1)  # [D,1,T/2+1]\n",
    "        k_fft = torch.conj(k_fft.unsqueeze(0))  # [1,D,T/2+1]\n",
    "        res = q_fft*k_fft  # [D,D,T/2+1]\n",
    "        corr = torch.fft.irfft(res, dim=-1)\n",
    "        corr = corr.mean(dim=-1)\n",
    "\n",
    "        return corr\n",
    "\n",
    "    def optimized_compute_cross_cor(self, queries, keys):\n",
    "        # Perform batched FFT\n",
    "        q_fft = torch.fft.rfft(queries, dim=-1)\n",
    "        k_fft = torch.fft.rfft(keys, dim=-1)\n",
    "\n",
    "        # Expand dimensions for broadcasting\n",
    "        q_fft = q_fft.unsqueeze(2)  # [B, D, 1, T/2+1]\n",
    "        k_fft = torch.conj(k_fft.unsqueeze(1))  # [B, 1, D, T/2+1]\n",
    "\n",
    "        # Element-wise multiplication and batched inverse FFT\n",
    "        res = q_fft * k_fft  # [B, D, D, T/2+1]\n",
    "        corr = torch.fft.irfft(res, dim=-1)\n",
    "\n",
    "        # Mean across the time dimension\n",
    "        corr = corr.mean(dim=-1)\n",
    "\n",
    "        return corr\n",
    "\n",
    "    def forward(self, queries, keys, values, attn_mask, tau=None, delta=None):\n",
    "\n",
    "        B, D, T = queries.shape\n",
    "        _, S, _ = values.shape\n",
    "        corr = torch.zeros(B, D, D).to(queries.device)\n",
    "        scale = self.scale or 1./sqrt(T)\n",
    "\n",
    "        for i in range(B):\n",
    "            for j in range(D):\n",
    "                corr[[i], [j], :] = self.origin_compute_cross_cor(\n",
    "                    queries[[i], [j], :], keys[[i], :, :])\n",
    "\n",
    "        for i in range(B):\n",
    "            corr[[i], :, :] = self.compute_cross_cor(\n",
    "                queries[[i], :, :], keys[[i], :, :])\n",
    "\n",
    "        if self.mask_flag:\n",
    "            if attn_mask is None:\n",
    "                attn_mask = TriangularCausalMask(B, T, device=queries.device)\n",
    "        corr = torch.softmax(corr*scale, dim=-1)\n",
    "\n",
    "        V = torch.einsum(\"bsd,bde->bse\", corr, values)\n",
    "        if self.output_attention:\n",
    "            return (V.contiguous(), corr)\n",
    "        else:\n",
    "            return (V.contiguous(), None)\n",
    "        \n",
    "class VarCorAttentionLayer(nn.Module):\n",
    "    def __init__(self, attention, d_model, n_heads, d_keys=None,\n",
    "                 d_values=None):\n",
    "        super(VarCorAttentionLayer, self).__init__()\n",
    "\n",
    "        d_keys = d_keys or (d_model // n_heads)\n",
    "        d_values = d_values or (d_model // n_heads)\n",
    "\n",
    "        self.inner_attention = attention\n",
    "        self.query_projection = nn.Linear(d_model, d_keys * n_heads)\n",
    "        self.key_projection = nn.Linear(d_model, d_keys * n_heads)\n",
    "        self.value_projection = nn.Linear(d_model, d_values * n_heads)\n",
    "        self.out_projection = nn.Linear(d_values * n_heads, d_model)\n",
    "        self.n_heads = n_heads\n",
    "\n",
    "    def forward(self, queries, keys, values, attn_mask, tau=None, delta=None):\n",
    "        B, D, L = queries.shape\n",
    "        _, _, S = keys.shape\n",
    "\n",
    "        queries = self.query_projection(queries)\n",
    "        keys = self.key_projection(keys)\n",
    "        values = self.value_projection(values)\n",
    "        out, attn = self.inner_attention(\n",
    "            queries,\n",
    "            keys,\n",
    "            values,\n",
    "            attn_mask,\n",
    "            tau=tau,\n",
    "            delta=delta\n",
    "        )\n",
    "        out = out.view(B, D, -1)\n",
    "\n",
    "        return self.out_projection(out), attn"
   ]
  },
  {
   "cell_type": "markdown",
   "metadata": {},
   "source": [
    "# 2. VCformer"
   ]
  },
  {
   "cell_type": "code",
   "execution_count": null,
   "metadata": {},
   "outputs": [],
   "source": [
    "#| export\n",
    "\n",
    "class VCformer(BaseMultivariate):\n",
    "\n",
    "    \"\"\" VCformer\n",
    "    \n",
    "    **Parameters:**<br>\n",
    "    `h`: int, Forecast horizon. <br>\n",
    "    `input_size`: int, autorregresive inputs size, y=[1,2,3,4] input_size=2 -> y_[t-2:t]=[1,2].<br>\n",
    "    `n_series`: int, number of time-series.<br>\n",
    "    `futr_exog_list`: str list, future exogenous columns.<br>\n",
    "    `hist_exog_list`: str list, historic exogenous columns.<br>\n",
    "    `stat_exog_list`: str list, static exogenous columns.<br>\n",
    "    `hidden_size`: int, dimension of the model.<br>\n",
    "    `n_heads`: int, number of heads.<br>\n",
    "    `e_layers`: int, number of encoder layers.<br>\n",
    "    `d_ff`: int, dimension of fully-connected layer.<br>\n",
    "    `snap_size`: int, snapshot size for Koopman Temporal Detector<br>\n",
    "    `projection_dim`: int, projection dimension of Koopman space<br>\n",
    "    `hidden_enc_dim`: int, hidden dimension of Koopman encoder<br>\n",
    "    `hidden_ktd_layers`: number of hidden layers of Koopman Temporal Detector<br>\n",
    "    `factor`: int, attention factor.<br>\n",
    "    `dropout`: float, dropout rate.<br>\n",
    "    `loss`: PyTorch module, instantiated train loss class from [losses collection](https://nixtla.github.io/neuralforecast/losses.pytorch.html).<br>\n",
    "    `valid_loss`: PyTorch module=`loss`, instantiated valid loss class from [losses collection](https://nixtla.github.io/neuralforecast/losses.pytorch.html).<br>\n",
    "    `max_steps`: int=1000, maximum number of training steps.<br>\n",
    "    `learning_rate`: float=1e-3, Learning rate between (0, 1).<br>\n",
    "    `num_lr_decays`: int=-1, Number of learning rate decays, evenly distributed across max_steps.<br>\n",
    "    `early_stop_patience_steps`: int=-1, Number of validation iterations before early stopping.<br>\n",
    "    `val_check_steps`: int=100, Number of training steps between every validation loss check.<br>\n",
    "    `batch_size`: int=32, number of different series in each batch.<br>\n",
    "    `step_size`: int=1, step size between each window of temporal data.<br>\n",
    "    `scaler_type`: str='identity', type of scaler for temporal inputs normalization see [temporal scalers](https://nixtla.github.io/neuralforecast/common.scalers.html).<br>\n",
    "    `random_seed`: int=1, random_seed for pytorch initializer and numpy generators.<br>\n",
    "    `num_workers_loader`: int=os.cpu_count(), workers to be used by `TimeSeriesDataLoader`.<br>\n",
    "    `drop_last_loader`: bool=False, if True `TimeSeriesDataLoader` drops last non-full batch.<br>\n",
    "    `alias`: str, optional,  Custom name of the model.<br>\n",
    "    `optimizer`: Subclass of 'torch.optim.Optimizer', optional, user specified optimizer instead of the default choice (Adam).<br>\n",
    "    `optimizer_kwargs`: dict, optional, list of parameters used by the user specified `optimizer`.<br>\n",
    "    `lr_scheduler`: Subclass of 'torch.optim.lr_scheduler.LRScheduler', optional, user specified lr_scheduler instead of the default choice (StepLR).<br>\n",
    "    `lr_scheduler_kwargs`: dict, optional, list of parameters used by the user specified `lr_scheduler`.<br>\n",
    "    `**trainer_kwargs`: int,  keyword trainer arguments inherited from [PyTorch Lighning's trainer](https://pytorch-lightning.readthedocs.io/en/stable/api/pytorch_lightning.trainer.trainer.Trainer.html?highlight=trainer).<br>\n",
    "    **References**\n",
    "    - [Yingnan Yang, Qingling Zhu, Jianyong Chen. \"VCformer: Variable Correlation Transformer with Inherent Lagged Correlation for Multivariate Time Series Forecasting\"](https://arxiv.org/abs/2405.11470)\n",
    "    \"\"\"\n",
    "\n",
    "    # Class attributes\n",
    "    SAMPLING_TYPE = 'multivariate'\n",
    "    EXOGENOUS_FUTR = False\n",
    "    EXOGENOUS_HIST = False\n",
    "    EXOGENOUS_STAT = False\n",
    "\n",
    "    def __init__(self,\n",
    "                 h,\n",
    "                 input_size,\n",
    "                 n_series,\n",
    "                 futr_exog_list = None,\n",
    "                 hist_exog_list = None,\n",
    "                 stat_exog_list = None,\n",
    "                 #VCformer\n",
    "                 hidden_size: int = 512,\n",
    "                 n_heads: int = 8,\n",
    "                 e_layers: int = 2,\n",
    "                 d_ff: int = 2048,\n",
    "                 snap_size: int = 16,\n",
    "                 projection_dim: int = 128,\n",
    "                 hidden_enc_dim: int = 256,\n",
    "                 hidden_ktd_layers: int = 1,\n",
    "                 factor: int = 1,\n",
    "                 dropout: float = 0.1,\n",
    "                 loss = MAE(),\n",
    "                 valid_loss = None,\n",
    "                 max_steps: int = 1000,\n",
    "                 learning_rate: float = 1e-3,\n",
    "                 num_lr_decays: int = -1,\n",
    "                 early_stop_patience_steps: int =-1,\n",
    "                 val_check_steps: int = 100,\n",
    "                 batch_size: int = 32,\n",
    "                 step_size: int = 1,\n",
    "                 scaler_type: str = 'identity',\n",
    "                 random_seed: int = 1,\n",
    "                 num_workers_loader: int = 0,\n",
    "                 drop_last_loader: bool = False,\n",
    "                 optimizer = None,\n",
    "                 optimizer_kwargs = None,\n",
    "                 lr_scheduler = None,\n",
    "                 lr_scheduler_kwargs = None,            \n",
    "                 **trainer_kwargs):\n",
    "        \n",
    "        super(VCformer, self).__init__(h=h,\n",
    "                                       input_size=input_size,\n",
    "                                       n_series=n_series,\n",
    "                                       stat_exog_list = None,\n",
    "                                       futr_exog_list = None,\n",
    "                                       hist_exog_list = None,\n",
    "                                       loss=loss,\n",
    "                                       valid_loss=valid_loss,\n",
    "                                       max_steps=max_steps,\n",
    "                                       learning_rate=learning_rate,\n",
    "                                       num_lr_decays=num_lr_decays,\n",
    "                                       early_stop_patience_steps=early_stop_patience_steps,\n",
    "                                       val_check_steps=val_check_steps,\n",
    "                                       batch_size=batch_size,\n",
    "                                       step_size=step_size,\n",
    "                                       scaler_type=scaler_type,\n",
    "                                       random_seed=random_seed,\n",
    "                                       num_workers_loader=num_workers_loader,\n",
    "                                       drop_last_loader=drop_last_loader,\n",
    "                                       optimizer=optimizer,\n",
    "                                       optimizer_kwargs=optimizer_kwargs,\n",
    "                                       lr_scheduler=lr_scheduler,\n",
    "                                       lr_scheduler_kwargs=lr_scheduler_kwargs,\n",
    "                                       **trainer_kwargs)\n",
    "        \n",
    "        self.h = h\n",
    "        self.enc_in = n_series\n",
    "        self.hidden_size = hidden_size\n",
    "        self.dropout = dropout\n",
    "        self.factor = factor\n",
    "        self.n_heads = n_heads\n",
    "        self.snap_size = snap_size\n",
    "        self.projection_dim = projection_dim\n",
    "        self.hidden_enc_dim = hidden_enc_dim\n",
    "        self.hidden_ktd_layers = hidden_ktd_layers\n",
    "        self.d_ff = d_ff\n",
    "        self.e_layers = e_layers\n",
    "\n",
    "        # Architecture\n",
    "        self.enc_embedding = DataEmbedding_inverted(input_size, hidden_size, self.dropout)\n",
    "\n",
    "        self.encoder = TransEncoder(\n",
    "            [\n",
    "                EncoderLayer(\n",
    "                    VarCorAttentionLayer(\n",
    "                        VarCorAttention(factor=self.factor, attention_dropout=self.dropout),\n",
    "                        self.hidden_size,\n",
    "                        self.n_heads\n",
    "                    ),\n",
    "                    KTDlayer(self.hidden_size, self.snap_size, self.projection_dim, self.hidden_enc_dim, self.hidden_ktd_layers),\n",
    "                    self.hidden_size,\n",
    "                    self.d_ff,\n",
    "                    self.dropout,\n",
    "                    activation=F.gelu\n",
    "                ) for l in range(self.e_layers)\n",
    "            ],\n",
    "            norm_layer=torch.nn.LayerNorm(self.hidden_size)\n",
    "        )\n",
    "\n",
    "        self.projection = nn.Linear(self.hidden_size, h, bias=True)\n",
    "\n",
    "    def forecast(self, x_enc, x_mark_enc=None):\n",
    "        # Normalization from Non-stationary Transformer\n",
    "        means = x_enc.mean(1, keepdim=True).detach()\n",
    "        x_enc = x_enc - means\n",
    "        stdev = torch.sqrt(\n",
    "            torch.var(x_enc, dim=1, keepdim=True, unbiased=False) + 1e-5)\n",
    "        x_enc /= stdev\n",
    "\n",
    "        _, _, N = x_enc.shape\n",
    "\n",
    "        # Embedding\n",
    "        enc_out = self.enc_embedding(x_enc, x_mark_enc)\n",
    "\n",
    "        enc_out, attns = self.encoder(enc_out, attn_mask=None)\n",
    "        # reshape enc_out[B,D,T] -> dec_out[B,T,D]\n",
    "        dec_out = self.projection(enc_out).permute(0, 2, 1)[:, :, :N]\n",
    "        # De-Normalization from Non-stationary Transformer\n",
    "        dec_out = dec_out * \\\n",
    "            (stdev[:, 0, :].unsqueeze(1).repeat(1, self.h, 1))\n",
    "        dec_out = dec_out + \\\n",
    "            (means[:, 0, :].unsqueeze(1).repeat(1, self.h, 1))\n",
    "        return dec_out\n",
    "    \n",
    "    def forward(self, windows_batch):\n",
    "        insample_y = windows_batch['insample_y']\n",
    "\n",
    "        y_pred = self.forecast(insample_y)\n",
    "        y_pred = y_pred[:, -self.h:, :]\n",
    "        y_pred = self.loss.domain_map(y_pred)\n",
    "\n",
    "        # domain_map might have squeezed the last dimension in case n_series == 1\n",
    "        if y_pred.ndim == 2:\n",
    "            return y_pred.unsqueeze(-1)\n",
    "        else:\n",
    "            return y_pred"
   ]
  },
  {
   "cell_type": "code",
   "execution_count": null,
   "metadata": {},
   "outputs": [
    {
     "data": {
      "text/markdown": [
       "---\n",
       "\n",
       "### VCformer\n",
       "\n",
       ">      VCformer (h, input_size, n_series, futr_exog_list=None,\n",
       ">                hist_exog_list=None, stat_exog_list=None, hidden_size:int=512,\n",
       ">                n_heads:int=8, e_layers:int=2, d_ff:int=2048, snap_size:int=16,\n",
       ">                projection_dim:int=128, hidden_enc_dim:int=256,\n",
       ">                hidden_ktd_layers:int=1, factor:int=1, dropout:float=0.1,\n",
       ">                loss=MAE(), valid_loss=None, max_steps:int=1000,\n",
       ">                learning_rate:float=0.001, num_lr_decays:int=-1,\n",
       ">                early_stop_patience_steps:int=-1, val_check_steps:int=100,\n",
       ">                batch_size:int=32, step_size:int=1, scaler_type:str='identity',\n",
       ">                random_seed:int=1, num_workers_loader:int=0,\n",
       ">                drop_last_loader:bool=False, optimizer=None,\n",
       ">                optimizer_kwargs=None, lr_scheduler=None,\n",
       ">                lr_scheduler_kwargs=None, **trainer_kwargs)\n",
       "\n",
       "VCformer\n",
       "\n",
       "**Parameters:**<br>\n",
       "`h`: int, Forecast horizon. <br>\n",
       "`input_size`: int, autorregresive inputs size, y=[1,2,3,4] input_size=2 -> y_[t-2:t]=[1,2].<br>\n",
       "`n_series`: int, number of time-series.<br>\n",
       "`futr_exog_list`: str list, future exogenous columns.<br>\n",
       "`hist_exog_list`: str list, historic exogenous columns.<br>\n",
       "`stat_exog_list`: str list, static exogenous columns.<br>\n",
       "`hidden_size`: int, dimension of the model.<br>\n",
       "`n_heads`: int, number of heads.<br>\n",
       "`e_layers`: int, number of encoder layers.<br>\n",
       "`d_ff`: int, dimension of fully-connected layer.<br>\n",
       "`snap_size`: int, snapshot size for Koopman Temporal Detector<br>\n",
       "`projection_dim`: int, projection dimension of Koopman space<br>\n",
       "`hidden_enc_dim`: int, hidden dimension of Koopman encoder<br>\n",
       "`hidden_ktd_layers`: number of hidden layers of Koopman Temporal Detector<br>\n",
       "`factor`: int, attention factor.<br>\n",
       "`dropout`: float, dropout rate.<br>\n",
       "`loss`: PyTorch module, instantiated train loss class from [losses collection](https://nixtla.github.io/neuralforecast/losses.pytorch.html).<br>\n",
       "`valid_loss`: PyTorch module=`loss`, instantiated valid loss class from [losses collection](https://nixtla.github.io/neuralforecast/losses.pytorch.html).<br>\n",
       "`max_steps`: int=1000, maximum number of training steps.<br>\n",
       "`learning_rate`: float=1e-3, Learning rate between (0, 1).<br>\n",
       "`num_lr_decays`: int=-1, Number of learning rate decays, evenly distributed across max_steps.<br>\n",
       "`early_stop_patience_steps`: int=-1, Number of validation iterations before early stopping.<br>\n",
       "`val_check_steps`: int=100, Number of training steps between every validation loss check.<br>\n",
       "`batch_size`: int=32, number of different series in each batch.<br>\n",
       "`step_size`: int=1, step size between each window of temporal data.<br>\n",
       "`scaler_type`: str='identity', type of scaler for temporal inputs normalization see [temporal scalers](https://nixtla.github.io/neuralforecast/common.scalers.html).<br>\n",
       "`random_seed`: int=1, random_seed for pytorch initializer and numpy generators.<br>\n",
       "`num_workers_loader`: int=os.cpu_count(), workers to be used by `TimeSeriesDataLoader`.<br>\n",
       "`drop_last_loader`: bool=False, if True `TimeSeriesDataLoader` drops last non-full batch.<br>\n",
       "`alias`: str, optional,  Custom name of the model.<br>\n",
       "`optimizer`: Subclass of 'torch.optim.Optimizer', optional, user specified optimizer instead of the default choice (Adam).<br>\n",
       "`optimizer_kwargs`: dict, optional, list of parameters used by the user specified `optimizer`.<br>\n",
       "`lr_scheduler`: Subclass of 'torch.optim.lr_scheduler.LRScheduler', optional, user specified lr_scheduler instead of the default choice (StepLR).<br>\n",
       "`lr_scheduler_kwargs`: dict, optional, list of parameters used by the user specified `lr_scheduler`.<br>\n",
       "`**trainer_kwargs`: int,  keyword trainer arguments inherited from [PyTorch Lighning's trainer](https://pytorch-lightning.readthedocs.io/en/stable/api/pytorch_lightning.trainer.trainer.Trainer.html?highlight=trainer).<br>\n",
       "**References**\n",
       "- [Yingnan Yang, Qingling Zhu, Jianyong Chen. \"VCformer: Variable Correlation Transformer with Inherent Lagged Correlation for Multivariate Time Series Forecasting\"](https://arxiv.org/abs/2405.11470)\n",
       "\n",
       "|    | **Type** | **Default** | **Details** |\n",
       "| -- | -------- | ----------- | ----------- |\n",
       "| h |  |  |  |\n",
       "| input_size |  |  |  |\n",
       "| n_series |  |  |  |\n",
       "| futr_exog_list | NoneType | None |  |\n",
       "| hist_exog_list | NoneType | None |  |\n",
       "| stat_exog_list | NoneType | None |  |\n",
       "| hidden_size | int | 512 | VCformer |\n",
       "| n_heads | int | 8 |  |\n",
       "| e_layers | int | 2 |  |\n",
       "| d_ff | int | 2048 |  |\n",
       "| snap_size | int | 16 |  |\n",
       "| projection_dim | int | 128 |  |\n",
       "| hidden_enc_dim | int | 256 |  |\n",
       "| hidden_ktd_layers | int | 1 |  |\n",
       "| factor | int | 1 |  |\n",
       "| dropout | float | 0.1 |  |\n",
       "| loss | MAE | MAE() |  |\n",
       "| valid_loss | NoneType | None |  |\n",
       "| max_steps | int | 1000 |  |\n",
       "| learning_rate | float | 0.001 |  |\n",
       "| num_lr_decays | int | -1 |  |\n",
       "| early_stop_patience_steps | int | -1 |  |\n",
       "| val_check_steps | int | 100 |  |\n",
       "| batch_size | int | 32 |  |\n",
       "| step_size | int | 1 |  |\n",
       "| scaler_type | str | identity |  |\n",
       "| random_seed | int | 1 |  |\n",
       "| num_workers_loader | int | 0 |  |\n",
       "| drop_last_loader | bool | False |  |\n",
       "| optimizer | NoneType | None |  |\n",
       "| optimizer_kwargs | NoneType | None |  |\n",
       "| lr_scheduler | NoneType | None |  |\n",
       "| lr_scheduler_kwargs | NoneType | None |  |\n",
       "| trainer_kwargs |  |  |  |"
      ],
      "text/plain": [
       "---\n",
       "\n",
       "### VCformer\n",
       "\n",
       ">      VCformer (h, input_size, n_series, futr_exog_list=None,\n",
       ">                hist_exog_list=None, stat_exog_list=None, hidden_size:int=512,\n",
       ">                n_heads:int=8, e_layers:int=2, d_ff:int=2048, snap_size:int=16,\n",
       ">                projection_dim:int=128, hidden_enc_dim:int=256,\n",
       ">                hidden_ktd_layers:int=1, factor:int=1, dropout:float=0.1,\n",
       ">                loss=MAE(), valid_loss=None, max_steps:int=1000,\n",
       ">                learning_rate:float=0.001, num_lr_decays:int=-1,\n",
       ">                early_stop_patience_steps:int=-1, val_check_steps:int=100,\n",
       ">                batch_size:int=32, step_size:int=1, scaler_type:str='identity',\n",
       ">                random_seed:int=1, num_workers_loader:int=0,\n",
       ">                drop_last_loader:bool=False, optimizer=None,\n",
       ">                optimizer_kwargs=None, lr_scheduler=None,\n",
       ">                lr_scheduler_kwargs=None, **trainer_kwargs)\n",
       "\n",
       "VCformer\n",
       "\n",
       "**Parameters:**<br>\n",
       "`h`: int, Forecast horizon. <br>\n",
       "`input_size`: int, autorregresive inputs size, y=[1,2,3,4] input_size=2 -> y_[t-2:t]=[1,2].<br>\n",
       "`n_series`: int, number of time-series.<br>\n",
       "`futr_exog_list`: str list, future exogenous columns.<br>\n",
       "`hist_exog_list`: str list, historic exogenous columns.<br>\n",
       "`stat_exog_list`: str list, static exogenous columns.<br>\n",
       "`hidden_size`: int, dimension of the model.<br>\n",
       "`n_heads`: int, number of heads.<br>\n",
       "`e_layers`: int, number of encoder layers.<br>\n",
       "`d_ff`: int, dimension of fully-connected layer.<br>\n",
       "`snap_size`: int, snapshot size for Koopman Temporal Detector<br>\n",
       "`projection_dim`: int, projection dimension of Koopman space<br>\n",
       "`hidden_enc_dim`: int, hidden dimension of Koopman encoder<br>\n",
       "`hidden_ktd_layers`: number of hidden layers of Koopman Temporal Detector<br>\n",
       "`factor`: int, attention factor.<br>\n",
       "`dropout`: float, dropout rate.<br>\n",
       "`loss`: PyTorch module, instantiated train loss class from [losses collection](https://nixtla.github.io/neuralforecast/losses.pytorch.html).<br>\n",
       "`valid_loss`: PyTorch module=`loss`, instantiated valid loss class from [losses collection](https://nixtla.github.io/neuralforecast/losses.pytorch.html).<br>\n",
       "`max_steps`: int=1000, maximum number of training steps.<br>\n",
       "`learning_rate`: float=1e-3, Learning rate between (0, 1).<br>\n",
       "`num_lr_decays`: int=-1, Number of learning rate decays, evenly distributed across max_steps.<br>\n",
       "`early_stop_patience_steps`: int=-1, Number of validation iterations before early stopping.<br>\n",
       "`val_check_steps`: int=100, Number of training steps between every validation loss check.<br>\n",
       "`batch_size`: int=32, number of different series in each batch.<br>\n",
       "`step_size`: int=1, step size between each window of temporal data.<br>\n",
       "`scaler_type`: str='identity', type of scaler for temporal inputs normalization see [temporal scalers](https://nixtla.github.io/neuralforecast/common.scalers.html).<br>\n",
       "`random_seed`: int=1, random_seed for pytorch initializer and numpy generators.<br>\n",
       "`num_workers_loader`: int=os.cpu_count(), workers to be used by `TimeSeriesDataLoader`.<br>\n",
       "`drop_last_loader`: bool=False, if True `TimeSeriesDataLoader` drops last non-full batch.<br>\n",
       "`alias`: str, optional,  Custom name of the model.<br>\n",
       "`optimizer`: Subclass of 'torch.optim.Optimizer', optional, user specified optimizer instead of the default choice (Adam).<br>\n",
       "`optimizer_kwargs`: dict, optional, list of parameters used by the user specified `optimizer`.<br>\n",
       "`lr_scheduler`: Subclass of 'torch.optim.lr_scheduler.LRScheduler', optional, user specified lr_scheduler instead of the default choice (StepLR).<br>\n",
       "`lr_scheduler_kwargs`: dict, optional, list of parameters used by the user specified `lr_scheduler`.<br>\n",
       "`**trainer_kwargs`: int,  keyword trainer arguments inherited from [PyTorch Lighning's trainer](https://pytorch-lightning.readthedocs.io/en/stable/api/pytorch_lightning.trainer.trainer.Trainer.html?highlight=trainer).<br>\n",
       "**References**\n",
       "- [Yingnan Yang, Qingling Zhu, Jianyong Chen. \"VCformer: Variable Correlation Transformer with Inherent Lagged Correlation for Multivariate Time Series Forecasting\"](https://arxiv.org/abs/2405.11470)\n",
       "\n",
       "|    | **Type** | **Default** | **Details** |\n",
       "| -- | -------- | ----------- | ----------- |\n",
       "| h |  |  |  |\n",
       "| input_size |  |  |  |\n",
       "| n_series |  |  |  |\n",
       "| futr_exog_list | NoneType | None |  |\n",
       "| hist_exog_list | NoneType | None |  |\n",
       "| stat_exog_list | NoneType | None |  |\n",
       "| hidden_size | int | 512 | VCformer |\n",
       "| n_heads | int | 8 |  |\n",
       "| e_layers | int | 2 |  |\n",
       "| d_ff | int | 2048 |  |\n",
       "| snap_size | int | 16 |  |\n",
       "| projection_dim | int | 128 |  |\n",
       "| hidden_enc_dim | int | 256 |  |\n",
       "| hidden_ktd_layers | int | 1 |  |\n",
       "| factor | int | 1 |  |\n",
       "| dropout | float | 0.1 |  |\n",
       "| loss | MAE | MAE() |  |\n",
       "| valid_loss | NoneType | None |  |\n",
       "| max_steps | int | 1000 |  |\n",
       "| learning_rate | float | 0.001 |  |\n",
       "| num_lr_decays | int | -1 |  |\n",
       "| early_stop_patience_steps | int | -1 |  |\n",
       "| val_check_steps | int | 100 |  |\n",
       "| batch_size | int | 32 |  |\n",
       "| step_size | int | 1 |  |\n",
       "| scaler_type | str | identity |  |\n",
       "| random_seed | int | 1 |  |\n",
       "| num_workers_loader | int | 0 |  |\n",
       "| drop_last_loader | bool | False |  |\n",
       "| optimizer | NoneType | None |  |\n",
       "| optimizer_kwargs | NoneType | None |  |\n",
       "| lr_scheduler | NoneType | None |  |\n",
       "| lr_scheduler_kwargs | NoneType | None |  |\n",
       "| trainer_kwargs |  |  |  |"
      ]
     },
     "execution_count": null,
     "metadata": {},
     "output_type": "execute_result"
    }
   ],
   "source": [
    "show_doc(VCformer)"
   ]
  },
  {
   "cell_type": "code",
   "execution_count": null,
   "metadata": {},
   "outputs": [
    {
     "data": {
      "text/markdown": [
       "---\n",
       "\n",
       "### VCformer.fit\n",
       "\n",
       ">      VCformer.fit (dataset, val_size=0, test_size=0, random_seed=None,\n",
       ">                    distributed_config=None)\n",
       "\n",
       "Fit.\n",
       "\n",
       "The `fit` method, optimizes the neural network's weights using the\n",
       "initialization parameters (`learning_rate`, `windows_batch_size`, ...)\n",
       "and the `loss` function as defined during the initialization.\n",
       "Within `fit` we use a PyTorch Lightning `Trainer` that\n",
       "inherits the initialization's `self.trainer_kwargs`, to customize\n",
       "its inputs, see [PL's trainer arguments](https://pytorch-lightning.readthedocs.io/en/stable/api/pytorch_lightning.trainer.trainer.Trainer.html?highlight=trainer).\n",
       "\n",
       "The method is designed to be compatible with SKLearn-like classes\n",
       "and in particular to be compatible with the StatsForecast library.\n",
       "\n",
       "By default the `model` is not saving training checkpoints to protect\n",
       "disk memory, to get them change `enable_checkpointing=True` in `__init__`.\n",
       "\n",
       "**Parameters:**<br>\n",
       "`dataset`: NeuralForecast's `TimeSeriesDataset`, see [documentation](https://nixtla.github.io/neuralforecast/tsdataset.html).<br>\n",
       "`val_size`: int, validation size for temporal cross-validation.<br>\n",
       "`test_size`: int, test size for temporal cross-validation.<br>"
      ],
      "text/plain": [
       "---\n",
       "\n",
       "### VCformer.fit\n",
       "\n",
       ">      VCformer.fit (dataset, val_size=0, test_size=0, random_seed=None,\n",
       ">                    distributed_config=None)\n",
       "\n",
       "Fit.\n",
       "\n",
       "The `fit` method, optimizes the neural network's weights using the\n",
       "initialization parameters (`learning_rate`, `windows_batch_size`, ...)\n",
       "and the `loss` function as defined during the initialization.\n",
       "Within `fit` we use a PyTorch Lightning `Trainer` that\n",
       "inherits the initialization's `self.trainer_kwargs`, to customize\n",
       "its inputs, see [PL's trainer arguments](https://pytorch-lightning.readthedocs.io/en/stable/api/pytorch_lightning.trainer.trainer.Trainer.html?highlight=trainer).\n",
       "\n",
       "The method is designed to be compatible with SKLearn-like classes\n",
       "and in particular to be compatible with the StatsForecast library.\n",
       "\n",
       "By default the `model` is not saving training checkpoints to protect\n",
       "disk memory, to get them change `enable_checkpointing=True` in `__init__`.\n",
       "\n",
       "**Parameters:**<br>\n",
       "`dataset`: NeuralForecast's `TimeSeriesDataset`, see [documentation](https://nixtla.github.io/neuralforecast/tsdataset.html).<br>\n",
       "`val_size`: int, validation size for temporal cross-validation.<br>\n",
       "`test_size`: int, test size for temporal cross-validation.<br>"
      ]
     },
     "execution_count": null,
     "metadata": {},
     "output_type": "execute_result"
    }
   ],
   "source": [
    "show_doc(VCformer.fit, name='VCformer.fit')"
   ]
  },
  {
   "cell_type": "code",
   "execution_count": null,
   "metadata": {},
   "outputs": [
    {
     "data": {
      "text/markdown": [
       "---\n",
       "\n",
       "### VCformer.predict\n",
       "\n",
       ">      VCformer.predict (dataset, test_size=None, step_size=1, random_seed=None,\n",
       ">                        **data_module_kwargs)\n",
       "\n",
       "Predict.\n",
       "\n",
       "Neural network prediction with PL's `Trainer` execution of `predict_step`.\n",
       "\n",
       "**Parameters:**<br>\n",
       "`dataset`: NeuralForecast's `TimeSeriesDataset`, see [documentation](https://nixtla.github.io/neuralforecast/tsdataset.html).<br>\n",
       "`test_size`: int=None, test size for temporal cross-validation.<br>\n",
       "`step_size`: int=1, Step size between each window.<br>\n",
       "`**data_module_kwargs`: PL's TimeSeriesDataModule args, see [documentation](https://pytorch-lightning.readthedocs.io/en/1.6.1/extensions/datamodules.html#using-a-datamodule)."
      ],
      "text/plain": [
       "---\n",
       "\n",
       "### VCformer.predict\n",
       "\n",
       ">      VCformer.predict (dataset, test_size=None, step_size=1, random_seed=None,\n",
       ">                        **data_module_kwargs)\n",
       "\n",
       "Predict.\n",
       "\n",
       "Neural network prediction with PL's `Trainer` execution of `predict_step`.\n",
       "\n",
       "**Parameters:**<br>\n",
       "`dataset`: NeuralForecast's `TimeSeriesDataset`, see [documentation](https://nixtla.github.io/neuralforecast/tsdataset.html).<br>\n",
       "`test_size`: int=None, test size for temporal cross-validation.<br>\n",
       "`step_size`: int=1, Step size between each window.<br>\n",
       "`**data_module_kwargs`: PL's TimeSeriesDataModule args, see [documentation](https://pytorch-lightning.readthedocs.io/en/1.6.1/extensions/datamodules.html#using-a-datamodule)."
      ]
     },
     "execution_count": null,
     "metadata": {},
     "output_type": "execute_result"
    }
   ],
   "source": [
    "show_doc(VCformer.predict, name='VCformer.predict')"
   ]
  },
  {
   "cell_type": "markdown",
   "metadata": {},
   "source": [
    "# 3. Usage example"
   ]
  },
  {
   "cell_type": "code",
   "execution_count": null,
   "metadata": {},
   "outputs": [],
   "source": [
    "#| eval: false\n",
    "\n",
    "import pandas as pd\n",
    "import matplotlib.pyplot as plt\n",
    "\n",
    "from neuralforecast import NeuralForecast\n",
    "from neuralforecast.utils import AirPassengersPanel, AirPassengersStatic\n",
    "from neuralforecast.losses.pytorch import MSE"
   ]
  },
  {
   "cell_type": "code",
   "execution_count": null,
   "metadata": {},
   "outputs": [
    {
     "name": "stderr",
     "output_type": "stream",
     "text": [
      "Seed set to 1\n",
      "GPU available: True (mps), used: False\n",
      "TPU available: False, using: 0 TPU cores\n",
      "IPU available: False, using: 0 IPUs\n",
      "HPU available: False, using: 0 HPUs\n",
      "\n",
      "  | Name          | Type                   | Params\n",
      "---------------------------------------------------------\n",
      "0 | loss          | MSE                    | 0     \n",
      "1 | valid_loss    | MAE                    | 0     \n",
      "2 | padder        | ConstantPad1d          | 0     \n",
      "3 | scaler        | TemporalNorm           | 0     \n",
      "4 | enc_embedding | DataEmbedding_inverted | 3.2 K \n",
      "5 | encoder       | TransEncoder           | 157 K \n",
      "6 | projection    | Linear                 | 1.5 K \n",
      "---------------------------------------------------------\n",
      "162 K     Trainable params\n",
      "0         Non-trainable params\n",
      "162 K     Total params\n",
      "0.648     Total estimated model params size (MB)\n"
     ]
    },
    {
     "data": {
      "application/vnd.jupyter.widget-view+json": {
       "model_id": "d1e10b0b49134647abcd497582de81c8",
       "version_major": 2,
       "version_minor": 0
      },
      "text/plain": [
       "Sanity Checking: |          | 0/? [00:00<?, ?it/s]"
      ]
     },
     "metadata": {},
     "output_type": "display_data"
    },
    {
     "data": {
      "application/vnd.jupyter.widget-view+json": {
       "model_id": "65f1171d45674f448423f0900f472257",
       "version_major": 2,
       "version_minor": 0
      },
      "text/plain": [
       "Training: |          | 0/? [00:00<?, ?it/s]"
      ]
     },
     "metadata": {},
     "output_type": "display_data"
    },
    {
     "data": {
      "application/vnd.jupyter.widget-view+json": {
       "model_id": "344751f0d14848269af52a24210d69d9",
       "version_major": 2,
       "version_minor": 0
      },
      "text/plain": [
       "Validation: |          | 0/? [00:00<?, ?it/s]"
      ]
     },
     "metadata": {},
     "output_type": "display_data"
    },
    {
     "data": {
      "application/vnd.jupyter.widget-view+json": {
       "model_id": "0978b5e57cd3402a9bcd8a39704cc114",
       "version_major": 2,
       "version_minor": 0
      },
      "text/plain": [
       "Validation: |          | 0/? [00:00<?, ?it/s]"
      ]
     },
     "metadata": {},
     "output_type": "display_data"
    },
    {
     "data": {
      "application/vnd.jupyter.widget-view+json": {
       "model_id": "8ec8339401ca470e925cc5623fa9ff5e",
       "version_major": 2,
       "version_minor": 0
      },
      "text/plain": [
       "Validation: |          | 0/? [00:00<?, ?it/s]"
      ]
     },
     "metadata": {},
     "output_type": "display_data"
    },
    {
     "data": {
      "application/vnd.jupyter.widget-view+json": {
       "model_id": "7eada1c256d04307a721d20c2e557b00",
       "version_major": 2,
       "version_minor": 0
      },
      "text/plain": [
       "Validation: |          | 0/? [00:00<?, ?it/s]"
      ]
     },
     "metadata": {},
     "output_type": "display_data"
    },
    {
     "data": {
      "application/vnd.jupyter.widget-view+json": {
       "model_id": "ba09d887b578478498e4cf52d0b8b891",
       "version_major": 2,
       "version_minor": 0
      },
      "text/plain": [
       "Validation: |          | 0/? [00:00<?, ?it/s]"
      ]
     },
     "metadata": {},
     "output_type": "display_data"
    },
    {
     "data": {
      "application/vnd.jupyter.widget-view+json": {
       "model_id": "306ecd30d31843f1ae45a6eefe34ce84",
       "version_major": 2,
       "version_minor": 0
      },
      "text/plain": [
       "Validation: |          | 0/? [00:00<?, ?it/s]"
      ]
     },
     "metadata": {},
     "output_type": "display_data"
    },
    {
     "data": {
      "application/vnd.jupyter.widget-view+json": {
       "model_id": "78f409a11eb645e28eeb03454c09bab8",
       "version_major": 2,
       "version_minor": 0
      },
      "text/plain": [
       "Validation: |          | 0/? [00:00<?, ?it/s]"
      ]
     },
     "metadata": {},
     "output_type": "display_data"
    },
    {
     "name": "stderr",
     "output_type": "stream",
     "text": [
      "Trainer already configured with model summary callbacks: [<class 'pytorch_lightning.callbacks.model_summary.ModelSummary'>]. Skipping setting a default `ModelSummary` callback.\n",
      "GPU available: True (mps), used: False\n",
      "TPU available: False, using: 0 TPU cores\n",
      "IPU available: False, using: 0 IPUs\n",
      "HPU available: False, using: 0 HPUs\n"
     ]
    },
    {
     "data": {
      "application/vnd.jupyter.widget-view+json": {
       "model_id": "3dad5e8d495d41f1973fab074d3b69c6",
       "version_major": 2,
       "version_minor": 0
      },
      "text/plain": [
       "Predicting: |          | 0/? [00:00<?, ?it/s]"
      ]
     },
     "metadata": {},
     "output_type": "display_data"
    },
    {
     "name": "stderr",
     "output_type": "stream",
     "text": [
      "/Users/marcopeix/miniconda3/envs/neuralforecast/lib/python3.10/site-packages/neuralforecast/core.py:201: FutureWarning: In a future version the predictions will have the id as a column. You can set the `NIXTLA_ID_AS_COL` environment variable to adopt the new behavior and to suppress this warning.\n",
      "  warnings.warn(\n"
     ]
    }
   ],
   "source": [
    "#| eval: false\n",
    "\n",
    "Y_train_df = AirPassengersPanel[AirPassengersPanel.ds<AirPassengersPanel['ds'].values[-12]].reset_index(drop=True) # 132 train\n",
    "Y_test_df = AirPassengersPanel[AirPassengersPanel.ds>=AirPassengersPanel['ds'].values[-12]].reset_index(drop=True) # 12 test\n",
    "\n",
    "model = VCformer(h=12,\n",
    "                 input_size=24,\n",
    "                 n_series=2,\n",
    "                 hidden_size=128,\n",
    "                 n_heads=2,\n",
    "                 e_layers=2,\n",
    "                 d_ff=4,\n",
    "                 snap_size=8,\n",
    "                 projection_dim=64,\n",
    "                 hidden_enc_dim=64,\n",
    "                 hidden_ktd_layers=1,\n",
    "                 factor=1,\n",
    "                 dropout=0.1,\n",
    "                 loss=MSE(),\n",
    "                 valid_loss=MAE(),\n",
    "                 early_stop_patience_steps=3,\n",
    "                 batch_size=8,\n",
    "                 accelerator='cpu')\n",
    "\n",
    "fcst = NeuralForecast(models=[model], freq='M')\n",
    "fcst.fit(df=Y_train_df, static_df=AirPassengersStatic, val_size=12)\n",
    "forecasts = fcst.predict(futr_df=Y_test_df)"
   ]
  },
  {
   "cell_type": "code",
   "execution_count": null,
   "metadata": {},
   "outputs": [
    {
     "data": {
      "image/png": "[encoded data removed]",
      "text/plain": [
       "<Figure size 2000x700 with 1 Axes>"
      ]
     },
     "metadata": {},
     "output_type": "display_data"
    }
   ],
   "source": [
    "#| eval: false\n",
    "# Plot predictions\n",
    "fig, ax = plt.subplots(1, 1, figsize = (20, 7))\n",
    "Y_hat_df = forecasts.reset_index(drop=False).drop(columns=['unique_id','ds'])\n",
    "plot_df = pd.concat([Y_test_df, Y_hat_df], axis=1)\n",
    "plot_df = pd.concat([Y_train_df, plot_df])\n",
    "\n",
    "plot_df = plot_df[plot_df.unique_id=='Airline1'].drop('unique_id', axis=1)\n",
    "plt.plot(plot_df['ds'], plot_df['y'], c='black', label='True')\n",
    "plt.plot(plot_df['ds'], plot_df['VCformer'], c='blue', label='Forecast')\n",
    "ax.set_title('AirPassengers Forecast', fontsize=22)\n",
    "ax.set_ylabel('Monthly Passengers', fontsize=20)\n",
    "ax.set_xlabel('Year', fontsize=20)\n",
    "ax.legend(prop={'size': 15})\n",
    "ax.grid()"
   ]
  },
  {
   "cell_type": "code",
   "execution_count": null,
   "metadata": {},
   "outputs": [],
   "source": []
  }
 ],
 "metadata": {
  "kernelspec": {
   "display_name": "python3",
   "language": "python",
   "name": "python3"
  }
 },
 "nbformat": 4,
 "nbformat_minor": 2
}
