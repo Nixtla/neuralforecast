{
 "cells": [
  {
   "cell_type": "code",
   "execution_count": null,
   "metadata": {},
   "outputs": [],
   "source": [
    "# default_exp auto"
   ]
  },
  {
   "cell_type": "code",
   "execution_count": null,
   "metadata": {},
   "outputs": [],
   "source": [
    "#export\n",
    "import numpy as np\n",
    "import pandas as pd\n",
    "import neuralforecast as nf\n",
    "import pytorch_lightning as pl\n",
    "\n",
    "from hyperopt import hp\n"
   ]
  },
  {
   "cell_type": "markdown",
   "metadata": {},
   "source": [
    "## Base class"
   ]
  },
  {
   "cell_type": "code",
   "execution_count": null,
   "metadata": {},
   "outputs": [],
   "source": [
    "#export\n",
    "class AutoBaseModel(object):\n",
    "    def __init__(self, n_time_out):\n",
    "        super(AutoBaseModel, self).__init__()\n",
    "\n",
    "        self.n_time_out = n_time_out\n",
    "\n",
    "    def fit(self, Y_df, X_df, S_df, hyperopt_steps, loss_function_val, n_ts_val, results_dir,\n",
    "            save_trials=False, loss_functions_test=None, n_ts_test=0, return_test_forecast=False, verbose=False):\n",
    "\n",
    "        # Override space with data specific information\n",
    "        self.space['n_series'] = hp.choice('n_series', [ Y_df['unique_id'].nunique() ])\n",
    "        self.space['n_x'] = hp.choice('n_x', [ 0 if X_df is None else (X_df.shape[1]-2) ])\n",
    "        self.space['n_s'] = hp.choice('n_s', [ 0 if S_df is None else (S_df.shape[1]-1) ])\n",
    "        self.space['n_x_hidden'] = hp.choice('n_x_hidden', [ 0 if X_df is None else (X_df.shape[1]-2) ])\n",
    "        self.space['n_s_hidden'] = hp.choice('n_s_hidden', [ 0 if S_df is None else (S_df.shape[1]-1) ])\n",
    "        self.space['frequency'] = hp.choice('frequency', [ pd.infer_freq(Y_df['ds']) ])\n",
    "\n",
    "        self.model, _ = nf.experiments.utils.hyperopt_tunning(space=self.space,\n",
    "                                                             hyperopt_max_evals=hyperopt_steps,\n",
    "                                                             loss_function_val=loss_function_val,\n",
    "                                                             loss_functions_test=loss_functions_test,\n",
    "                                                             S_df=S_df, Y_df=Y_df, X_df=X_df, \n",
    "                                                             f_cols=[], ds_in_val=n_ts_val, \n",
    "                                                             ds_in_test=n_ts_test,\n",
    "                                                             return_forecasts=return_test_forecast,\n",
    "                                                             return_model=True,\n",
    "                                                             save_trials=save_trials,\n",
    "                                                             results_dir=results_dir,\n",
    "                                                             step_save_progress=5,\n",
    "                                                             verbose=verbose)\n",
    "        \n",
    "        return self\n",
    "\n",
    "    def forecast(self, Y_df: pd.DataFrame, X_df: pd.DataFrame = None, S_df: pd.DataFrame = None, \n",
    "                 batch_size: int =1, trainer: pl.Trainer =None) -> pd.DataFrame:\n",
    "        \n",
    "        return self.model.forecast(Y_df=Y_df, X_df=X_df, S_df=S_df, batch_size=batch_size, trainer=trainer)"
   ]
  },
  {
   "cell_type": "markdown",
   "metadata": {},
   "source": [
    "## AutoNHITS"
   ]
  },
  {
   "cell_type": "code",
   "execution_count": null,
   "metadata": {},
   "outputs": [],
   "source": [
    "#export\n",
    "class NHITS(AutoBaseModel):\n",
    "    def __init__(self, n_time_out, space=None):\n",
    "        super(NHITS, self).__init__(n_time_out)\n",
    "\n",
    "        if space is None:\n",
    "            space = nhits_space(n_time_out=n_time_out)\n",
    "        self.space = space\n",
    "\n",
    "\n",
    "def nhits_space(n_time_out: int, n_series: int=None, n_x: int=None, n_s: int=None, \n",
    "                frequency: str=None) -> dict:\n",
    "    \"\"\"\n",
    "    Suggested hyperparameters search space for tuning. To be used with hyperopt library.\n",
    "\n",
    "    Parameters\n",
    "    ----------\n",
    "    n_time_out: int\n",
    "        Forecasting horizon.\n",
    "    n_series: int\n",
    "        Number of time-series.\n",
    "    n_x: int\n",
    "        Number of exogenous variables.\n",
    "    n_s: int\n",
    "        Number of static variables.\n",
    "    frequency: str\n",
    "        Frequency of time-seris.\n",
    "    \n",
    "    Returns\n",
    "    ----------\n",
    "    space: Dict\n",
    "        Dictionary with search space for hyperopt library.\n",
    "    \"\"\"\n",
    "\n",
    "    space= {# Architecture parameters\n",
    "        'model':'nhits',\n",
    "        'mode': 'simple',\n",
    "        'n_time_in': hp.choice('n_time_in', [2*n_time_out, 3*n_time_out, 5*n_time_out]),\n",
    "        'n_time_out': hp.choice('n_time_out', [n_time_out]),\n",
    "        'n_x': hp.choice('n_x', [n_x]),\n",
    "        'n_s': hp.choice('n_s', [n_s]),\n",
    "        'shared_weights': hp.choice('shared_weights', [False]),\n",
    "        'activation': hp.choice('activation', ['ReLU']),\n",
    "        'initialization':  hp.choice('initialization', ['lecun_normal']),\n",
    "        'stack_types': hp.choice('stack_types', [ 3*['identity'] ]),\n",
    "        'constant_n_blocks': hp.choice('n_blocks', [ 1, 3 ]), # Constant n_blocks across stacks\n",
    "        'constant_n_layers': hp.choice('n_layers', [ 2, 3 ]), # Constant n_layers across stacks\n",
    "        'constant_n_mlp_units': hp.choice('n_mlp_units', [ 128, 256, 512, 1024 ]), # Constant n_mlp_units across stacks\n",
    "        'n_x_hidden': hp.choice('n_x_hidden', [n_x] ),\n",
    "        'n_s_hidden': hp.choice('n_s_hidden', [n_s] ),\n",
    "        'n_pool_kernel_size': hp.choice('n_pool_kernel_size', [ 3*[1], 3*[2], 3*[4], 3*[8], [8, 4, 1], [16, 8, 1] ]),\n",
    "        'n_freq_downsample': hp.choice('n_freq_downsample', [ [168, 24, 1], [24, 12, 1],\n",
    "                                                                [180, 60, 1], [60, 8, 1],\n",
    "                                                                [40, 20, 1] ]),\n",
    "        'pooling_mode': hp.choice('pooling_mode', [ 'max' ]),\n",
    "        'interpolation_mode': hp.choice('interpolation_mode', [ 'linear' ]),\n",
    "        # Regularization and optimization parameters\n",
    "        'batch_normalization': hp.choice('batch_normalization', [False]),\n",
    "        'dropout_prob_theta': hp.choice('dropout_prob_theta', [ 0 ]),\n",
    "        'learning_rate': hp.choice('learning_rate', [0.0001, 0.001, 0.005, 0.01]),\n",
    "        'lr_decay': hp.choice('lr_decay', [0.5] ),\n",
    "        'n_lr_decays': hp.choice('n_lr_decays', [3]), \n",
    "        'weight_decay': hp.choice('weight_decay', [0] ),\n",
    "        'max_epochs': hp.choice('max_epochs', [None]),\n",
    "        'max_steps': hp.choice('max_steps', [1_000, 3_000, 5_000]),\n",
    "        'early_stop_patience': hp.choice('early_stop_patience', [10]),\n",
    "        'eval_freq': hp.choice('eval_freq', [50]),\n",
    "        'loss_train': hp.choice('loss', ['MAE']),\n",
    "        'loss_hypar': hp.choice('loss_hypar', [0.5]),   \n",
    "        'loss_valid': hp.choice('loss_valid', ['MAE']),\n",
    "        # Data parameters\n",
    "        'normalizer_y': hp.choice('normalizer_y', [None]),\n",
    "        'normalizer_x': hp.choice('normalizer_x', [None]),\n",
    "        'complete_windows':  hp.choice('complete_windows', [True]),\n",
    "        'frequency': hp.choice('frequency', [frequency]),\n",
    "        'idx_to_sample_freq': hp.choice('idx_to_sample_freq', [1]),\n",
    "        'val_idx_to_sample_freq': hp.choice('val_idx_to_sample_freq', [1]),\n",
    "        'batch_size': hp.choice('batch_size', [1]),\n",
    "        'n_windows': hp.choice('n_windows', [32, 64, 128, 256, 512]),\n",
    "        'random_seed': hp.quniform('random_seed', 1, 20, 1)}\n",
    "\n",
    "    return space"
   ]
  },
  {
   "cell_type": "markdown",
   "metadata": {},
   "source": [
    "## AutoNBEATS"
   ]
  },
  {
   "cell_type": "code",
   "execution_count": null,
   "metadata": {},
   "outputs": [],
   "source": [
    "#export\n",
    "class NBEATS(AutoBaseModel):\n",
    "    def __init__(self, n_time_out, space=None):\n",
    "        super(NBEATS, self).__init__(n_time_out)\n",
    "\n",
    "        if space is None:\n",
    "            space = nbeats_space(n_time_out=n_time_out)\n",
    "        self.space = space\n",
    "\n",
    "def nbeats_space(n_time_out: int, n_series: int, n_x: int, n_s: int, \n",
    "                 frequency: str) -> dict:\n",
    "    \"\"\"\n",
    "    Suggested hyperparameters search space for tuning. To be used with hyperopt library.\n",
    "\n",
    "    Parameters\n",
    "    ----------\n",
    "    n_time_out: int\n",
    "        Forecasting horizon.\n",
    "    n_series: int\n",
    "        Number of time-series.\n",
    "    n_x: int\n",
    "        Number of exogenous variables.\n",
    "    n_s: int\n",
    "        Number of static variables.\n",
    "    frequency: str\n",
    "        Frequency of time-seris.\n",
    "    \n",
    "    Returns\n",
    "    ----------\n",
    "    space: Dict\n",
    "        Dictionary with search space for hyperopt library.\n",
    "    \"\"\"\n",
    "\n",
    "    space= {# Architecture parameters\n",
    "        'model':'nbeats',\n",
    "        'mode': 'simple',\n",
    "        'n_time_in': hp.choice('n_time_in', [2*n_time_out, 3*n_time_out, 5*n_time_out]),\n",
    "        'n_time_out': hp.choice('n_time_out', [n_time_out]),\n",
    "        'n_x': hp.choice('n_x', [n_x]),\n",
    "        'n_s': hp.choice('n_s', [n_s]),\n",
    "        'shared_weights': hp.choice('shared_weights', [False]),\n",
    "        'activation': hp.choice('activation', ['ReLU']),\n",
    "        'initialization':  hp.choice('initialization', ['lecun_normal']),\n",
    "        'stack_types': hp.choice('stack_types', [ 3*['identity'] ]),\n",
    "        'constant_n_blocks': hp.choice('n_blocks', [ 1, 3 ]), # Constant n_blocks across stacks\n",
    "        'constant_n_layers': hp.choice('n_layers', [ 2, 3 ]), # Constant n_layers across stacks\n",
    "        'constant_n_mlp_units': hp.choice('n_mlp_units', [ 128, 256, 512, 1024 ]), # Constant n_mlp_units across stacks\n",
    "        'n_x_hidden': hp.choice('n_x_hidden', [n_x] ),\n",
    "        'n_s_hidden': hp.choice('n_s_hidden', [n_s] ),\n",
    "        # Regularization and optimization parameters\n",
    "        'batch_normalization': hp.choice('batch_normalization', [False]),\n",
    "        'dropout_prob_theta': hp.choice('dropout_prob_theta', [ 0 ]),\n",
    "        'learning_rate': hp.choice('learning_rate', [0.0001, 0.001, 0.005, 0.01]),\n",
    "        'lr_decay': hp.choice('lr_decay', [0.5] ),\n",
    "        'n_lr_decays': hp.choice('n_lr_decays', [3]), \n",
    "        'weight_decay': hp.choice('weight_decay', [0] ),\n",
    "        'max_epochs': hp.choice('max_epochs', [None]),\n",
    "        'max_steps': hp.choice('max_steps', [1_000, 3_000, 5_000]),\n",
    "        'early_stop_patience': hp.choice('early_stop_patience', [10]),\n",
    "        'eval_freq': hp.choice('eval_freq', [50]),\n",
    "        'loss_train': hp.choice('loss', ['MAE']),\n",
    "        'loss_hypar': hp.choice('loss_hypar', [0.5]),                \n",
    "        'loss_valid': hp.choice('loss_valid', ['MAE']),\n",
    "        # Data parameters\n",
    "        'normalizer_y': hp.choice('normalizer_y', [None]),\n",
    "        'normalizer_x': hp.choice('normalizer_x', [None]),\n",
    "        'complete_windows':  hp.choice('complete_windows', [True]),\n",
    "        'frequency': hp.choice('frequency', [frequency]),\n",
    "        'idx_to_sample_freq': hp.choice('idx_to_sample_freq', [1]),\n",
    "        'val_idx_to_sample_freq': hp.choice('val_idx_to_sample_freq', [1]),\n",
    "        'batch_size': hp.choice('batch_size', [1]),\n",
    "        'n_windows': hp.choice('n_windows', [32, 64, 128, 256, 512]),\n",
    "        'random_seed': hp.quniform('random_seed', 1, 20, 1)}\n",
    "\n",
    "    return space"
   ]
  },
  {
   "cell_type": "markdown",
   "metadata": {},
   "source": [
    "## AutoRNN"
   ]
  },
  {
   "cell_type": "code",
   "execution_count": null,
   "metadata": {},
   "outputs": [],
   "source": [
    "#export\n",
    "class RNN(AutoBaseModel):\n",
    "    def __init__(self, n_time_out, space=None):\n",
    "        super(RNN, self).__init__(n_time_out)\n",
    "\n",
    "        if space is None:\n",
    "            space = rnn_space(n_time_out=n_time_out)\n",
    "        self.space = space\n",
    "\n",
    "def rnn_space(n_time_out: int, n_series: int, n_x: int, n_s: int, \n",
    "              frequency: str) -> dict:\n",
    "    \"\"\"\n",
    "    Suggested hyperparameters search space for tuning. To be used with hyperopt library.\n",
    "\n",
    "    Parameters\n",
    "    ----------\n",
    "    n_time_out: int\n",
    "        Forecasting horizon.\n",
    "    n_series: int\n",
    "        Number of time-series.\n",
    "    n_x: int\n",
    "        Number of exogenous variables.\n",
    "    n_s: int\n",
    "        Number of static variables.\n",
    "    frequency: str\n",
    "        Frequency of time-seris.\n",
    "    \n",
    "    Returns\n",
    "    ----------\n",
    "    space: Dict\n",
    "        Dictionary with search space for hyperopt library.\n",
    "    \"\"\"\n",
    "\n",
    "    space= {# Architecture parameters\n",
    "        'model':'rnn',\n",
    "        'mode': 'full',\n",
    "        'n_time_in': hp.choice('n_time_in', [1*n_time_out, 2*n_time_out, 3*n_time_out]),\n",
    "        'n_time_out': hp.choice('n_time_out', [n_time_out]),\n",
    "        'n_x': hp.choice('n_x', [n_x]),\n",
    "        'n_s': hp.choice('n_s', [n_s]),\n",
    "        'cell_type': hp.choice('cell_type', ['LSTM', 'GRU']),\n",
    "        'state_hsize': hp.choice('state_hsize', [10, 20, 50, 100]),\n",
    "        'dilations': hp.choice('dilations', [ [[1, 2]], [[1, 2, 4, 8]], [[1,2],[4,8]] ]),\n",
    "        'add_nl_layer': hp.choice('add_nl_layer', [ False ]),\n",
    "        'sample_freq': hp.choice('sample_freq', [n_time_out]),\n",
    "        # Regularization and optimization parameters\n",
    "        'learning_rate': hp.choice('learning_rate', [0.0001, 0.001, 0.005, 0.01, 0.05, 0.1]),\n",
    "        'lr_decay': hp.choice('lr_decay', [0.5] ),\n",
    "        'n_lr_decays': hp.choice('n_lr_decays', [3]), \n",
    "        'gradient_eps': hp.choice('gradient_eps', [1e-8]),\n",
    "        'gradient_clipping_threshold': hp.choice('gradient_clipping_threshold', [10]),\n",
    "        'weight_decay': hp.choice('weight_decay', [0]),\n",
    "        'noise_std': hp.choice('noise_std', [0.001]),\n",
    "        'max_epochs': hp.choice('max_epochs', [None]),\n",
    "        'max_steps': hp.choice('max_steps', [500, 1000]),\n",
    "        'early_stop_patience': hp.choice('early_stop_patience', [10]),\n",
    "        'eval_freq': hp.choice('eval_freq', [50]),\n",
    "        'loss_train': hp.choice('loss', ['MAE']),\n",
    "        'loss_hypar': hp.choice('loss_hypar', [0.5]),                \n",
    "        'loss_valid': hp.choice('loss_valid', ['MAE']),\n",
    "        # Data parameters\n",
    "        'normalizer_y': hp.choice('normalizer_y', [None]),\n",
    "        'normalizer_x': hp.choice('normalizer_x', [None]),\n",
    "        'complete_windows':  hp.choice('complete_windows', [True]),\n",
    "        'frequency': hp.choice('frequency', [frequency]),\n",
    "        'idx_to_sample_freq': hp.choice('idx_to_sample_freq', [1]),\n",
    "        'val_idx_to_sample_freq': hp.choice('val_idx_to_sample_freq', [1]),\n",
    "        'batch_size': hp.choice('batch_size', [16, 32, 64]),\n",
    "        'n_windows': hp.choice('n_windows', [None]),\n",
    "        'random_seed': hp.quniform('random_seed', 1, 20, 1)}\n",
    "\n",
    "    return space"
   ]
  },
  {
   "cell_type": "markdown",
   "metadata": {},
   "source": [
    "## AutoNF"
   ]
  },
  {
   "cell_type": "code",
   "execution_count": null,
   "metadata": {},
   "outputs": [],
   "source": [
    "#export\n",
    "def auto(config_dict: dict, \n",
    "         Y_df: pd.DataFrame, X_df: pd.DataFrame, S_df: pd.DataFrame,\n",
    "         loss_function_val: callable, loss_functions_test: dict, \n",
    "         forecast_horizon: int, ts_in_val: int, ts_in_test: int,\n",
    "         results_dir: str,\n",
    "         return_forecasts: bool = False,\n",
    "         test_auto: bool = False, verbose: bool = False):\n",
    "    \"\"\"\n",
    "    Auto hyperparameter tuning function.\n",
    "\n",
    "    Parameters\n",
    "    ----------\n",
    "    config_dict: Dict\n",
    "        Dictionary with configuration. Keys should be name of models.\n",
    "        For each model specify the hyperparameter space \n",
    "        (None will use default suggested space), hyperopt steps and timeout.\n",
    "    Y_df: pd.DataFrame\n",
    "        Target time series with columns ['unique_id', 'ds', 'y'].\n",
    "    X_df: pd.DataFrame\n",
    "        Exogenous time series with columns ['unique_id', 'ds', 'y'].\n",
    "    S_df: pd.DataFrame\n",
    "        Static exogenous variables with columns ['unique_id', 'ds']. \n",
    "        and static variables. \n",
    "    loss_function_val: function\n",
    "        Loss function used for validation.\n",
    "    loss_functions_test: Dictionary\n",
    "        Loss functions used for test evaluation. \n",
    "        (function name: string, function: fun)\n",
    "    forecast_horizon: int\n",
    "        Forecast horizon\n",
    "    ts_in_val: int\n",
    "        Number of timestamps in validation.\n",
    "    ts_in_test: int\n",
    "        Number of timestamps in test.\n",
    "    return_forecasts: bool\n",
    "        If true return forecast on test.\n",
    "    return_model: bool\n",
    "        If true return model.\n",
    "    test_auto: bool\n",
    "        If true, will only run one training step and hyperopt iteration for each model. \n",
    "        For testing purposes, to ensure your pipeline will finish running, without waiting.\n",
    "    verbose:\n",
    "        If true, will print summary of dataset, model and training.\n",
    "    \"\"\"\n",
    "\n",
    "    if test_auto:\n",
    "        print('WARNING: test_auto=True, MODELS WILL NOT BE TRAINED PROPERLY!')\n",
    "\n",
    "    # Data characteristics\n",
    "    n_series = Y_df['unique_id'].nunique()\n",
    "    n_x = len(X_df.columns)-2 if X_df is not None else 0\n",
    "    n_s = len(S_df.columns)-1 if S_df is not None else 0\n",
    "    frequency = pd.infer_freq(Y_df['ds'])\n",
    "\n",
    "    # Hyperopt\n",
    "    models = config_dict.keys()\n",
    "    output_dict = {}\n",
    "    best_model = None\n",
    "    best_loss = np.inf\n",
    "    for model_str in models:\n",
    "        print('MODEL:', model_str)\n",
    "        model_config = config_dict[model_str]\n",
    "\n",
    "        hyperopt_steps = model_config['hyperopt_steps'] if (test_auto==False) else 1\n",
    "\n",
    "        if model_config['space'] is None:\n",
    "            # If hyperparameter space is None, use predefined space for the model\n",
    "            # Available spaces, [N-BEATS, N-HiTS, RNN]\n",
    "            space = instantiate_space(model=model_str, n_time_out=forecast_horizon, \n",
    "                                      n_series=n_series, n_x=n_x, n_s=n_s, \n",
    "                                      frequency=frequency, test=test_auto)\n",
    "        else:\n",
    "            space = model_config['space']\n",
    "        \n",
    "        # Run automated hyperparameter optimization\n",
    "        results_dir_model = f'{results_dir}/{model_str}'\n",
    "        model, trials = nf.experiments.utils.hyperopt_tunning(space=space,\n",
    "                                                                hyperopt_max_evals=hyperopt_steps,\n",
    "                                                                loss_function_val=loss_function_val,\n",
    "                                                                loss_functions_test=loss_functions_test,\n",
    "                                                                S_df=S_df, Y_df=Y_df, X_df=X_df, \n",
    "                                                                f_cols=[], ds_in_val=ts_in_val, \n",
    "                                                                ds_in_test=ts_in_test,\n",
    "                                                                return_forecasts=return_forecasts,\n",
    "                                                                return_model=True,\n",
    "                                                                save_trials=False,\n",
    "                                                                results_dir=results_dir_model,\n",
    "                                                                step_save_progress=0,\n",
    "                                                                verbose=verbose)\n",
    "\n",
    "        model_output = {'best_mc': trials.best_trial['result']['mc'],\n",
    "                        'run_time': trials.best_trial['result']['run_time'],\n",
    "                        'best_val_loss': trials.best_trial['result']['loss']}\n",
    "\n",
    "        # Return model\n",
    "        model_output['model'] = model\n",
    "\n",
    "        # Return test losses\n",
    "        if ts_in_test > 0:\n",
    "            model_output['best_test_loss'] = trials.best_trial['result']['test_losses']\n",
    "\n",
    "        # Return test forecasts\n",
    "        if (return_forecasts) and (ts_in_test > 0):\n",
    "            model_output['y_hat'] = trials.best_trial['result']['forecasts_test']['test_y_hat']\n",
    "            model_output['y_true'] = trials.best_trial['result']['forecasts_test']['test_y_true']\n",
    "\n",
    "        # Improvement\n",
    "        optimization_times = [trials.trials[0]['result']['loss']]\n",
    "        optimization_losses = [trials.trials[0]['result']['run_time']]\n",
    "        for i in range(1, len(trials)):\n",
    "            loss = trials.trials[i]['result']['loss']\n",
    "            time = trials.trials[i]['result']['run_time']\n",
    "\n",
    "            if loss > np.min(optimization_losses):\n",
    "                loss = np.min(optimization_losses)\n",
    "            optimization_losses.append(loss)\n",
    "            optimization_times.append(np.sum(optimization_times)+time)\n",
    "\n",
    "        model_output['optimization_losses'] = optimization_losses\n",
    "        model_output['optimization_times'] = optimization_times\n",
    "    \n",
    "        # Append to dict\n",
    "        output_dict[model_str] = model_output\n",
    "\n",
    "        if trials.best_trial['result']['loss'] < best_loss:\n",
    "            best_model = model\n",
    "            best_loss = trials.best_trial['result']['loss']\n",
    "\n",
    "    return best_model, output_dict"
   ]
  },
  {
   "cell_type": "code",
   "execution_count": null,
   "metadata": {},
   "outputs": [],
   "source": [
    "#export\n",
    "def instantiate_space(model, n_time_out, n_series, n_x, n_s, frequency, test):\n",
    "    assert model in ['nbeats', 'nhits', 'rnn'], f'Invalid model {model}'\n",
    "    \n",
    "    if model == 'nbeats':\n",
    "        space = nbeats_space(n_time_out=n_time_out, n_series=n_series, \n",
    "                             n_x=n_x, n_s=n_s, frequency=frequency)\n",
    "    elif model == 'nhits':\n",
    "        space = nhits_space(n_time_out=n_time_out, n_series=n_series, \n",
    "                            n_x=n_x, n_s=n_s, frequency=frequency)\n",
    "    elif model == 'rnn':\n",
    "        space = rnn_space(n_time_out=n_time_out, n_series=n_series,\n",
    "                          n_x=n_x, n_s=n_s, frequency=frequency)\n",
    "\n",
    "    if test:\n",
    "        space['max_steps'] = hp.choice('max_steps', [1])\n",
    "        space['max_epochs'] = hp.choice('max_epochs', [None])\n",
    "    \n",
    "    return space"
   ]
  },
  {
   "cell_type": "markdown",
   "metadata": {},
   "source": [
    "# Examples"
   ]
  },
  {
   "cell_type": "markdown",
   "metadata": {},
   "source": [
    "The forecasting task we selected is to predict the number of patients with influenza-like illnesses from the [US CDC dataset](https://gis.cdc.gov/grasp/fluview/fluportaldashboard.html), the dataset contains 7 target variables, and has 966 weeks of history.\n",
    "\n",
    "We will be creating point forecasts with N-BEATS, N-HiTS and RNN models. The predictive features will be the autoregressive features. More information on the dataset can be found in the [N-HiTS paper](https://arxiv.org/abs/2201.12886).\n",
    "\n",
    "Table of Contents\n",
    "1.   [Installing NeuralForecast Library](#cell-1)\n",
    "2.   [Data Loading and Processing](#cell-2)\n",
    "3.   [Define Hyperparameter Space](#cell-3)\n",
    "4.   [Hyperparameter Tuning](#cell-4)\n",
    "5.   [Evaluate Results](#cell-5)"
   ]
  },
  {
   "cell_type": "markdown",
   "metadata": {},
   "source": [
    "<a name=\"cell-1\"></a>\n",
    "### 1. Installing Neuralforecast library\n",
    "\n",
    "You can install the released version of NeuralForecast from the Python package index with:"
   ]
  },
  {
   "cell_type": "code",
   "execution_count": null,
   "metadata": {},
   "outputs": [],
   "source": [
    "#%%capture\n",
    "#!pip install neuralforecast\n",
    "#!pip install matplotlib\n",
    "\n",
    "import matplotlib.pyplot as plt\n",
    "from neuralforecast.data.datasets.long_horizon import LongHorizon"
   ]
  },
  {
   "cell_type": "markdown",
   "metadata": {},
   "source": [
    "<a name=\"cell-2\"></a>\n",
    "### 2. Data Loading and Processing\n",
    "\n",
    "For this example we keep 10% of the observations as validation and use the latest 20% of the observations as the test set. To do so we use the sample_mask and declare the windows that will be used to train, and validate the model."
   ]
  },
  {
   "cell_type": "code",
   "execution_count": null,
   "metadata": {},
   "outputs": [
    {
     "data": {
      "text/html": [
       "<div>\n",
       "<style scoped>\n",
       "    .dataframe tbody tr th:only-of-type {\n",
       "        vertical-align: middle;\n",
       "    }\n",
       "\n",
       "    .dataframe tbody tr th {\n",
       "        vertical-align: top;\n",
       "    }\n",
       "\n",
       "    .dataframe thead th {\n",
       "        text-align: right;\n",
       "    }\n",
       "</style>\n",
       "<table border=\"1\" class=\"dataframe\">\n",
       "  <thead>\n",
       "    <tr style=\"text-align: right;\">\n",
       "      <th></th>\n",
       "      <th>unique_id</th>\n",
       "      <th>ds</th>\n",
       "      <th>y</th>\n",
       "    </tr>\n",
       "  </thead>\n",
       "  <tbody>\n",
       "    <tr>\n",
       "      <th>0</th>\n",
       "      <td>% WEIGHTED ILI</td>\n",
       "      <td>2002-01-01</td>\n",
       "      <td>-0.421499</td>\n",
       "    </tr>\n",
       "    <tr>\n",
       "      <th>1</th>\n",
       "      <td>% WEIGHTED ILI</td>\n",
       "      <td>2002-01-08</td>\n",
       "      <td>-0.331239</td>\n",
       "    </tr>\n",
       "    <tr>\n",
       "      <th>2</th>\n",
       "      <td>% WEIGHTED ILI</td>\n",
       "      <td>2002-01-15</td>\n",
       "      <td>-0.342763</td>\n",
       "    </tr>\n",
       "    <tr>\n",
       "      <th>3</th>\n",
       "      <td>% WEIGHTED ILI</td>\n",
       "      <td>2002-01-22</td>\n",
       "      <td>-0.199782</td>\n",
       "    </tr>\n",
       "    <tr>\n",
       "      <th>4</th>\n",
       "      <td>% WEIGHTED ILI</td>\n",
       "      <td>2002-01-29</td>\n",
       "      <td>-0.218426</td>\n",
       "    </tr>\n",
       "  </tbody>\n",
       "</table>\n",
       "</div>"
      ],
      "text/plain": [
       "        unique_id          ds         y\n",
       "0  % WEIGHTED ILI  2002-01-01 -0.421499\n",
       "1  % WEIGHTED ILI  2002-01-08 -0.331239\n",
       "2  % WEIGHTED ILI  2002-01-15 -0.342763\n",
       "3  % WEIGHTED ILI  2002-01-22 -0.199782\n",
       "4  % WEIGHTED ILI  2002-01-29 -0.218426"
      ]
     },
     "execution_count": null,
     "metadata": {},
     "output_type": "execute_result"
    }
   ],
   "source": [
    "Y_df, _, _ = LongHorizon.load(directory='./', group='ILI')\n",
    "Y_df.head()"
   ]
  },
  {
   "cell_type": "code",
   "execution_count": null,
   "metadata": {},
   "outputs": [
    {
     "name": "stdout",
     "output_type": "stream",
     "text": [
      "n_time 966\n",
      "n_series 7\n",
      "n_ts_test 193\n",
      "n_ts_val 97\n"
     ]
    }
   ],
   "source": [
    "n_series = len(Y_df.unique_id.unique())\n",
    "n_time = len(Y_df.ds.unique()) # dataset is balanced\n",
    "\n",
    "n_ts_test = 193\n",
    "n_ts_val = 97\n",
    "\n",
    "print('n_time', n_time)\n",
    "print('n_series', n_series)\n",
    "print('n_ts_test', n_ts_test)\n",
    "print('n_ts_val', n_ts_val)"
   ]
  },
  {
   "cell_type": "code",
   "execution_count": null,
   "metadata": {},
   "outputs": [
    {
     "data": {
      "image/png": "[encoded data removed]",
      "text/plain": [
       "<Figure size 432x288 with 1 Axes>"
      ]
     },
     "metadata": {
      "needs_background": "light"
     },
     "output_type": "display_data"
    }
   ],
   "source": [
    "# unique_id \\in ['% WEIGHTED ILI', '%UNWEIGHTED ILI', 'AGE 0-4', \n",
    "#                'AGE 5-24', 'ILITOTAL', 'NUM. OF PROVIDERS', 'OT']\n",
    "y_plot = Y_df[Y_df.unique_id=='% WEIGHTED ILI'].y.values\n",
    "x_plot = pd.to_datetime(Y_df[Y_df.unique_id=='% WEIGHTED ILI'].ds).values\n",
    "\n",
    "plt.plot(x_plot, y_plot)\n",
    "plt.axvline(x_plot[n_time-n_ts_val-n_ts_test], color='black', linestyle='-.')\n",
    "plt.axvline(x_plot[n_time-n_ts_test], color='black', linestyle='-.')\n",
    "plt.ylabel('Weighted ILI [ratio]')\n",
    "plt.xlabel('Date')\n",
    "plt.grid()\n",
    "plt.show()\n",
    "plt.close()"
   ]
  },
  {
   "cell_type": "markdown",
   "metadata": {},
   "source": [
    "### 3.0 auto.NHITS"
   ]
  },
  {
   "cell_type": "code",
   "execution_count": null,
   "metadata": {},
   "outputs": [],
   "source": [
    "auto_nhits = NHITS(n_time_out=24)\n",
    "auto_nhits.space['max_steps'] = hp.choice('max_steps', [1]) # Override max_steps for faster example"
   ]
  },
  {
   "cell_type": "code",
   "execution_count": null,
   "metadata": {},
   "outputs": [
    {
     "name": "stdout",
     "output_type": "stream",
     "text": [
      "  0%|          | 0/2 [00:00<?, ?trial/s, best loss=?]"
     ]
    },
    {
     "name": "stderr",
     "output_type": "stream",
     "text": [
      "INFO:hyperopt.tpe:build_posterior_wrapper took 0.015424 seconds\n",
      "INFO:hyperopt.tpe:TPE using 0 trials\n"
     ]
    },
    {
     "name": "stdout",
     "output_type": "stream",
     "text": [
      "===============================================      \n",
      "\n",
      "activation                                          ReLU\n",
      "batch_normalization                                False\n",
      "batch_size                                             1\n",
      "complete_windows                                    True\n",
      "constant_n_blocks                                      3\n",
      "constant_n_layers                                      3\n",
      "constant_n_mlp_units                                1024\n",
      "dropout_prob_theta                                     0\n",
      "early_stop_patience                                   10\n",
      "eval_freq                                             50\n",
      "frequency                                           None\n",
      "idx_to_sample_freq                                     1\n",
      "initialization                              lecun_normal\n",
      "interpolation_mode                                linear\n",
      "learning_rate                                      0.001\n",
      "loss_hypar                                           0.5\n",
      "loss_train                                           MAE\n",
      "loss_valid                                           MAE\n",
      "lr_decay                                             0.5\n",
      "max_epochs                                          None\n",
      "max_steps                                              1\n",
      "mode                                              simple\n",
      "model                                              nhits\n",
      "n_freq_downsample                            (24, 12, 1)\n",
      "n_lr_decays                                            3\n",
      "n_pool_kernel_size                             (8, 8, 8)\n",
      "n_s                                                    0\n",
      "n_s_hidden                                             0\n",
      "n_series                                               7\n",
      "n_time_in                                            120\n",
      "n_time_out                                            24\n",
      "n_windows                                            128\n",
      "n_x                                                    0\n",
      "n_x_hidden                                             0\n",
      "normalizer_x                                        None\n",
      "normalizer_y                                        None\n",
      "pooling_mode                                         max\n",
      "random_seed                                          9.0\n",
      "shared_weights                                     False\n",
      "stack_types               (identity, identity, identity)\n",
      "val_idx_to_sample_freq                                 1\n",
      "weight_decay                                           0\n",
      "dtype: object\n",
      "===============================================      \n",
      "\n",
      "  0%|          | 0/2 [00:00<?, ?trial/s, best loss=?]"
     ]
    },
    {
     "name": "stderr",
     "output_type": "stream",
     "text": [
      "INFO:root:Train Validation splits\n",
      "\n",
      "INFO:root:                                       ds            \n",
      "                                      min         max\n",
      "unique_id         sample_mask                        \n",
      "% WEIGHTED ILI    0            2014-12-16  2020-06-30\n",
      "                  1            2002-01-01  2014-12-09\n",
      "%UNWEIGHTED ILI   0            2014-12-16  2020-06-30\n",
      "                  1            2002-01-01  2014-12-09\n",
      "AGE 0-4           0            2014-12-16  2020-06-30\n",
      "                  1            2002-01-01  2014-12-09\n",
      "AGE 5-24          0            2014-12-16  2020-06-30\n",
      "                  1            2002-01-01  2014-12-09\n",
      "ILITOTAL          0            2014-12-16  2020-06-30\n",
      "                  1            2002-01-01  2014-12-09\n",
      "NUM. OF PROVIDERS 0            2014-12-16  2020-06-30\n",
      "                  1            2002-01-01  2014-12-09\n",
      "OT                0            2014-12-16  2020-06-30\n",
      "                  1            2002-01-01  2014-12-09\n",
      "INFO:root:\n",
      "Total data \t\t\t6762 time stamps \n",
      "Available percentage=100.0, \t6762 time stamps \n",
      "Insample  percentage=69.98, \t4732 time stamps \n",
      "Outsample percentage=30.02, \t2030 time stamps \n",
      "\n",
      "INFO:root:Train Validation splits\n",
      "\n",
      "INFO:root:                                       ds            \n",
      "                                      min         max\n",
      "unique_id         sample_mask                        \n",
      "% WEIGHTED ILI    0            2002-01-01  2020-06-30\n",
      "                  1            2014-12-16  2016-10-18\n",
      "%UNWEIGHTED ILI   0            2002-01-01  2020-06-30\n",
      "                  1            2014-12-16  2016-10-18\n",
      "AGE 0-4           0            2002-01-01  2020-06-30\n",
      "                  1            2014-12-16  2016-10-18\n",
      "AGE 5-24          0            2002-01-01  2020-06-30\n",
      "                  1            2014-12-16  2016-10-18\n",
      "ILITOTAL          0            2002-01-01  2020-06-30\n",
      "                  1            2014-12-16  2016-10-18\n",
      "NUM. OF PROVIDERS 0            2002-01-01  2020-06-30\n",
      "                  1            2014-12-16  2016-10-18\n",
      "OT                0            2002-01-01  2020-06-30\n",
      "                  1            2014-12-16  2016-10-18\n",
      "INFO:root:\n",
      "Total data \t\t\t6762 time stamps \n",
      "Available percentage=100.0, \t6762 time stamps \n",
      "Insample  percentage=10.04, \t679 time stamps \n",
      "Outsample percentage=89.96, \t6083 time stamps \n",
      "\n",
      "INFO:root:Train Validation splits\n",
      "\n",
      "INFO:root:                                       ds            \n",
      "                                      min         max\n",
      "unique_id         sample_mask                        \n",
      "% WEIGHTED ILI    0            2002-01-01  2016-10-18\n",
      "                  1            2016-10-25  2020-06-30\n",
      "%UNWEIGHTED ILI   0            2002-01-01  2016-10-18\n",
      "                  1            2016-10-25  2020-06-30\n",
      "AGE 0-4           0            2002-01-01  2016-10-18\n",
      "                  1            2016-10-25  2020-06-30\n",
      "AGE 5-24          0            2002-01-01  2016-10-18\n",
      "                  1            2016-10-25  2020-06-30\n",
      "ILITOTAL          0            2002-01-01  2016-10-18\n",
      "                  1            2016-10-25  2020-06-30\n",
      "NUM. OF PROVIDERS 0            2002-01-01  2016-10-18\n",
      "                  1            2016-10-25  2020-06-30\n",
      "OT                0            2002-01-01  2016-10-18\n",
      "                  1            2016-10-25  2020-06-30\n",
      "INFO:root:\n",
      "Total data \t\t\t6762 time stamps \n",
      "Available percentage=100.0, \t6762 time stamps \n",
      "Insample  percentage=19.98, \t1351 time stamps \n",
      "Outsample percentage=80.02, \t5411 time stamps \n",
      "\n",
      "INFO:pytorch_lightning.utilities.distributed:GPU available: False, used: False\n",
      "INFO:pytorch_lightning.utilities.distributed:TPU available: False, using: 0 TPU cores\n",
      "INFO:pytorch_lightning.utilities.distributed:IPU available: False, using: 0 IPUs\n",
      "INFO:pytorch_lightning.callbacks.model_summary:\n",
      "  | Name  | Type   | Params\n",
      "---------------------------------\n",
      "0 | model | _NHITS | 20.2 M\n",
      "---------------------------------\n",
      "20.2 M    Trainable params\n",
      "0         Non-trainable params\n",
      "20.2 M    Total params\n",
      "80.921    Total estimated model params size (MB)\n"
     ]
    },
    {
     "name": "stdout",
     "output_type": "stream",
     "text": [
      "Validation sanity check: 0it [00:00, ?it/s]          \n",
      "Validation sanity check:   0%|          | 0/2 [00:00<?, ?it/s]\n",
      "Validation sanity check: 100%|##########| 2/2 [00:00<00:00, 12.57it/s]\n",
      "  0%|          | 0/2 [00:00<?, ?trial/s, best loss=?]"
     ]
    },
    {
     "name": "stderr",
     "output_type": "stream",
     "text": [
      "/Users/cchallu/opt/anaconda3/envs/neuralforecast/lib/python3.7/site-packages/pytorch_lightning/trainer/data_loading.py:133: UserWarning: The dataloader, val_dataloader 0, does not have many workers which may be a bottleneck. Consider increasing the value of the `num_workers` argument` (try 12 which is the number of cpus on this machine) in the `DataLoader` init to improve performance.\n",
      "  f\"The dataloader, {name}, does not have many workers which may be a bottleneck.\"\n",
      "\n",
      "/Users/cchallu/opt/anaconda3/envs/neuralforecast/lib/python3.7/site-packages/torch/nn/functional.py:3635: UserWarning: Default upsampling behavior when mode=linear is changed to align_corners=False since 0.4.0. Please specify align_corners=True if the old behavior is desired. See the documentation of nn.Upsample for details.\n",
      "  \"See the documentation of nn.Upsample for details.\".format(mode)\n",
      "\n",
      "/Users/cchallu/opt/anaconda3/envs/neuralforecast/lib/python3.7/site-packages/pytorch_lightning/trainer/data_loading.py:133: UserWarning: The dataloader, train_dataloader, does not have many workers which may be a bottleneck. Consider increasing the value of the `num_workers` argument` (try 12 which is the number of cpus on this machine) in the `DataLoader` init to improve performance.\n",
      "  f\"The dataloader, {name}, does not have many workers which may be a bottleneck.\"\n",
      "\n"
     ]
    },
    {
     "name": "stdout",
     "output_type": "stream",
     "text": [
      "Training: 0it [00:00, ?it/s]                         \n",
      "Training:   0%|          | 0/7 [00:00<?, ?it/s]      \n",
      "Epoch 0:   0%|          | 0/7 [00:00<?, ?it/s]       \n",
      "Epoch 0:  14%|#4        | 1/7 [00:00<00:02,  2.33it/s]\n",
      "Epoch 0:  14%|#4        | 1/7 [00:00<00:02,  2.31it/s, loss=0.735, train_loss_step=0.735]\n",
      "Epoch 0:  29%|##8       | 2/7 [00:00<00:01,  4.58it/s, loss=0.735, train_loss_step=0.735, train_loss_epoch=0.735]\n",
      "Epoch 0:  29%|##8       | 2/7 [00:00<00:01,  4.54it/s, loss=0.735, train_loss_step=0.735, train_loss_epoch=0.735]\n",
      "  0%|          | 0/2 [00:01<?, ?trial/s, best loss=?]"
     ]
    },
    {
     "name": "stderr",
     "output_type": "stream",
     "text": [
      "/Users/cchallu/NIXTLA/neuralforecast/neuralforecast/data/tsloader.py:47: UserWarning: This class wraps the pytorch `DataLoader` with a special collate function. If you want to use yours simply use `DataLoader`. Removing collate_fn\n",
      "  'This class wraps the pytorch `DataLoader` with a '\n",
      "\n",
      "/Users/cchallu/opt/anaconda3/envs/neuralforecast/lib/python3.7/site-packages/pytorch_lightning/trainer/data_loading.py:133: UserWarning: The dataloader, predict_dataloader 0, does not have many workers which may be a bottleneck. Consider increasing the value of the `num_workers` argument` (try 12 which is the number of cpus on this machine) in the `DataLoader` init to improve performance.\n",
      "  f\"The dataloader, {name}, does not have many workers which may be a bottleneck.\"\n",
      "\n"
     ]
    },
    {
     "name": "stdout",
     "output_type": "stream",
     "text": [
      "Predicting: 1it [00:00, ?it/s]                       \n",
      "Predicting:  43%|####2     | 3/7 [00:00<00:00, 15.29it/s]\n",
      "Predicting:  71%|#######1  | 5/7 [00:00<00:00, 14.86it/s]\n",
      "Predicting: 100%|##########| 7/7 [00:00<00:00, 15.11it/s]\n",
      "Predicting: 100%|##########| 7/7 [00:00<00:00, 13.02it/s]\n",
      "Predicting: 1it [00:00, ?it/s]                       \n",
      "Predicting:  29%|##8       | 2/7 [00:00<00:00,  8.50it/s]\n",
      "Predicting:  43%|####2     | 3/7 [00:00<00:00,  8.43it/s]\n",
      "Predicting:  57%|#####7    | 4/7 [00:00<00:00,  8.38it/s]\n",
      "Predicting:  71%|#######1  | 5/7 [00:00<00:00,  8.43it/s]\n",
      "Predicting:  86%|########5 | 6/7 [00:00<00:00,  8.27it/s]\n",
      "Predicting: 100%|##########| 7/7 [00:00<00:00,  8.10it/s]\n",
      "Predicting: 100%|##########| 7/7 [00:00<00:00,  6.97it/s]\n",
      " 50%|█████     | 1/2 [00:03<00:03,  3.34s/trial, best loss: 7.551485061645508]"
     ]
    },
    {
     "name": "stderr",
     "output_type": "stream",
     "text": [
      "INFO:hyperopt.tpe:build_posterior_wrapper took 0.012233 seconds\n",
      "INFO:hyperopt.tpe:TPE using 1/1 trials with best loss 7.551485\n"
     ]
    },
    {
     "name": "stdout",
     "output_type": "stream",
     "text": [
      "===============================================                               \n",
      "\n",
      "activation                                          ReLU                      \n",
      "batch_normalization                                False\n",
      "batch_size                                             1\n",
      "complete_windows                                    True\n",
      "constant_n_blocks                                      1\n",
      "constant_n_layers                                      2\n",
      "constant_n_mlp_units                                 512\n",
      "dropout_prob_theta                                     0\n",
      "early_stop_patience                                   10\n",
      "eval_freq                                             50\n",
      "frequency                                           None\n",
      "idx_to_sample_freq                                     1\n",
      "initialization                              lecun_normal\n",
      "interpolation_mode                                linear\n",
      "learning_rate                                     0.0001\n",
      "loss_hypar                                           0.5\n",
      "loss_train                                           MAE\n",
      "loss_valid                                           MAE\n",
      "lr_decay                                             0.5\n",
      "max_epochs                                          None\n",
      "max_steps                                              1\n",
      "mode                                              simple\n",
      "model                                              nhits\n",
      "n_freq_downsample                           (180, 60, 1)\n",
      "n_lr_decays                                            3\n",
      "n_pool_kernel_size                             (8, 8, 8)\n",
      "n_s                                                    0\n",
      "n_s_hidden                                             0\n",
      "n_series                                               7\n",
      "n_time_in                                             72\n",
      "n_time_out                                            24\n",
      "n_windows                                             64\n",
      "n_x                                                    0\n",
      "n_x_hidden                                             0\n",
      "normalizer_x                                        None\n",
      "normalizer_y                                        None\n",
      "pooling_mode                                         max\n",
      "random_seed                                          2.0\n",
      "shared_weights                                     False\n",
      "stack_types               (identity, identity, identity)\n",
      "val_idx_to_sample_freq                                 1\n",
      "weight_decay                                           0\n",
      "dtype: object\n",
      "===============================================                               \n",
      "\n",
      " 50%|█████     | 1/2 [00:03<00:03,  3.34s/trial, best loss: 7.551485061645508]"
     ]
    },
    {
     "name": "stderr",
     "output_type": "stream",
     "text": [
      "INFO:root:Train Validation splits\n",
      "\n",
      "INFO:root:                                       ds            \n",
      "                                      min         max\n",
      "unique_id         sample_mask                        \n",
      "% WEIGHTED ILI    0            2014-12-16  2020-06-30\n",
      "                  1            2002-01-01  2014-12-09\n",
      "%UNWEIGHTED ILI   0            2014-12-16  2020-06-30\n",
      "                  1            2002-01-01  2014-12-09\n",
      "AGE 0-4           0            2014-12-16  2020-06-30\n",
      "                  1            2002-01-01  2014-12-09\n",
      "AGE 5-24          0            2014-12-16  2020-06-30\n",
      "                  1            2002-01-01  2014-12-09\n",
      "ILITOTAL          0            2014-12-16  2020-06-30\n",
      "                  1            2002-01-01  2014-12-09\n",
      "NUM. OF PROVIDERS 0            2014-12-16  2020-06-30\n",
      "                  1            2002-01-01  2014-12-09\n",
      "OT                0            2014-12-16  2020-06-30\n",
      "                  1            2002-01-01  2014-12-09\n",
      "INFO:root:\n",
      "Total data \t\t\t6762 time stamps \n",
      "Available percentage=100.0, \t6762 time stamps \n",
      "Insample  percentage=69.98, \t4732 time stamps \n",
      "Outsample percentage=30.02, \t2030 time stamps \n",
      "\n",
      "INFO:root:Train Validation splits\n",
      "\n",
      "INFO:root:                                       ds            \n",
      "                                      min         max\n",
      "unique_id         sample_mask                        \n",
      "% WEIGHTED ILI    0            2002-01-01  2020-06-30\n",
      "                  1            2014-12-16  2016-10-18\n",
      "%UNWEIGHTED ILI   0            2002-01-01  2020-06-30\n",
      "                  1            2014-12-16  2016-10-18\n",
      "AGE 0-4           0            2002-01-01  2020-06-30\n",
      "                  1            2014-12-16  2016-10-18\n",
      "AGE 5-24          0            2002-01-01  2020-06-30\n",
      "                  1            2014-12-16  2016-10-18\n",
      "ILITOTAL          0            2002-01-01  2020-06-30\n",
      "                  1            2014-12-16  2016-10-18\n",
      "NUM. OF PROVIDERS 0            2002-01-01  2020-06-30\n",
      "                  1            2014-12-16  2016-10-18\n",
      "OT                0            2002-01-01  2020-06-30\n",
      "                  1            2014-12-16  2016-10-18\n",
      "INFO:root:\n",
      "Total data \t\t\t6762 time stamps \n",
      "Available percentage=100.0, \t6762 time stamps \n",
      "Insample  percentage=10.04, \t679 time stamps \n",
      "Outsample percentage=89.96, \t6083 time stamps \n",
      "\n",
      "INFO:root:Train Validation splits\n",
      "\n",
      "INFO:root:                                       ds            \n",
      "                                      min         max\n",
      "unique_id         sample_mask                        \n",
      "% WEIGHTED ILI    0            2002-01-01  2016-10-18\n",
      "                  1            2016-10-25  2020-06-30\n",
      "%UNWEIGHTED ILI   0            2002-01-01  2016-10-18\n",
      "                  1            2016-10-25  2020-06-30\n",
      "AGE 0-4           0            2002-01-01  2016-10-18\n",
      "                  1            2016-10-25  2020-06-30\n",
      "AGE 5-24          0            2002-01-01  2016-10-18\n",
      "                  1            2016-10-25  2020-06-30\n",
      "ILITOTAL          0            2002-01-01  2016-10-18\n",
      "                  1            2016-10-25  2020-06-30\n",
      "NUM. OF PROVIDERS 0            2002-01-01  2016-10-18\n",
      "                  1            2016-10-25  2020-06-30\n",
      "OT                0            2002-01-01  2016-10-18\n",
      "                  1            2016-10-25  2020-06-30\n",
      "INFO:root:\n",
      "Total data \t\t\t6762 time stamps \n",
      "Available percentage=100.0, \t6762 time stamps \n",
      "Insample  percentage=19.98, \t1351 time stamps \n",
      "Outsample percentage=80.02, \t5411 time stamps \n",
      "\n",
      "INFO:pytorch_lightning.utilities.distributed:GPU available: False, used: False\n",
      "INFO:pytorch_lightning.utilities.distributed:TPU available: False, using: 0 TPU cores\n",
      "INFO:pytorch_lightning.utilities.distributed:IPU available: False, using: 0 IPUs\n",
      "INFO:pytorch_lightning.callbacks.model_summary:\n",
      "  | Name  | Type   | Params\n",
      "---------------------------------\n",
      "0 | model | _NHITS | 927 K \n",
      "---------------------------------\n",
      "927 K     Trainable params\n",
      "0         Non-trainable params\n",
      "927 K     Total params\n",
      "3.710     Total estimated model params size (MB)\n"
     ]
    },
    {
     "name": "stdout",
     "output_type": "stream",
     "text": [
      "Validation sanity check: 0it [00:00, ?it/s]                                   \n",
      "Validation sanity check:   0%|          | 0/2 [00:00<?, ?it/s]                \n",
      " 50%|█████     | 1/2 [00:03<00:03,  3.34s/trial, best loss: 7.551485061645508]"
     ]
    },
    {
     "name": "stderr",
     "output_type": "stream",
     "text": [
      "/Users/cchallu/opt/anaconda3/envs/neuralforecast/lib/python3.7/site-packages/pytorch_lightning/trainer/data_loading.py:133: UserWarning: The dataloader, val_dataloader 0, does not have many workers which may be a bottleneck. Consider increasing the value of the `num_workers` argument` (try 12 which is the number of cpus on this machine) in the `DataLoader` init to improve performance.\n",
      "  f\"The dataloader, {name}, does not have many workers which may be a bottleneck.\"\n",
      "\n",
      "/Users/cchallu/opt/anaconda3/envs/neuralforecast/lib/python3.7/site-packages/torch/nn/functional.py:3635: UserWarning: Default upsampling behavior when mode=linear is changed to align_corners=False since 0.4.0. Please specify align_corners=True if the old behavior is desired. See the documentation of nn.Upsample for details.\n",
      "  \"See the documentation of nn.Upsample for details.\".format(mode)\n",
      "\n",
      "/Users/cchallu/opt/anaconda3/envs/neuralforecast/lib/python3.7/site-packages/pytorch_lightning/trainer/data_loading.py:133: UserWarning: The dataloader, train_dataloader, does not have many workers which may be a bottleneck. Consider increasing the value of the `num_workers` argument` (try 12 which is the number of cpus on this machine) in the `DataLoader` init to improve performance.\n",
      "  f\"The dataloader, {name}, does not have many workers which may be a bottleneck.\"\n",
      "\n"
     ]
    },
    {
     "name": "stdout",
     "output_type": "stream",
     "text": [
      "Training: 0it [00:00, ?it/s]                                                  \n",
      "Training:   0%|          | 0/7 [00:00<?, ?it/s]                               \n",
      "Epoch 0:   0%|          | 0/7 [00:00<?, ?it/s]                                \n",
      "Epoch 0:  14%|#4        | 1/7 [00:00<00:00, 33.99it/s, loss=0.958, train_loss_step=0.958]\n",
      "Epoch 0:  29%|##8       | 2/7 [00:00<00:00, 61.64it/s, loss=0.958, train_loss_step=0.958, train_loss_epoch=0.958]\n",
      "Epoch 0:  29%|##8       | 2/7 [00:00<00:00, 56.36it/s, loss=0.958, train_loss_step=0.958, train_loss_epoch=0.958]\n",
      " 50%|█████     | 1/2 [00:03<00:03,  3.34s/trial, best loss: 7.551485061645508]"
     ]
    },
    {
     "name": "stderr",
     "output_type": "stream",
     "text": [
      "/Users/cchallu/NIXTLA/neuralforecast/neuralforecast/data/tsloader.py:47: UserWarning: This class wraps the pytorch `DataLoader` with a special collate function. If you want to use yours simply use `DataLoader`. Removing collate_fn\n",
      "  'This class wraps the pytorch `DataLoader` with a '\n",
      "\n",
      "/Users/cchallu/opt/anaconda3/envs/neuralforecast/lib/python3.7/site-packages/pytorch_lightning/trainer/data_loading.py:133: UserWarning: The dataloader, predict_dataloader 0, does not have many workers which may be a bottleneck. Consider increasing the value of the `num_workers` argument` (try 12 which is the number of cpus on this machine) in the `DataLoader` init to improve performance.\n",
      "  f\"The dataloader, {name}, does not have many workers which may be a bottleneck.\"\n",
      "\n"
     ]
    },
    {
     "name": "stdout",
     "output_type": "stream",
     "text": [
      "Predicting: 1it [00:00, ?it/s]                                                \n",
      "Predicting: 100%|##########| 7/7 [00:00<00:00, 152.77it/s]                    \n",
      "Predicting: 1it [00:00, ?it/s]                                                \n",
      "Predicting: 100%|##########| 7/7 [00:00<00:00, 78.44it/s]                     \n",
      "100%|██████████| 2/2 [00:04<00:00,  2.06s/trial, best loss: 0.7887044548988342]\n"
     ]
    },
    {
     "data": {
      "text/plain": [
       "<__main__.NHITS at 0x7fafe99e9fd0>"
      ]
     },
     "execution_count": null,
     "metadata": {},
     "output_type": "execute_result"
    }
   ],
   "source": [
    "auto_nhits.fit(Y_df=Y_df, X_df=None, S_df=None, hyperopt_steps=2,\n",
    "               n_ts_val=n_ts_val,\n",
    "               n_ts_test=n_ts_test,\n",
    "               results_dir='./results/autonhits',\n",
    "               save_trials=True,\n",
    "               loss_function_val=nf.losses.numpy.mae,\n",
    "               loss_functions_test={'mae':nf.losses.numpy.mae,\n",
    "                                    'mse':nf.losses.numpy.mse},\n",
    "               return_test_forecast=True,\n",
    "               verbose=True)"
   ]
  },
  {
   "cell_type": "code",
   "execution_count": null,
   "metadata": {},
   "outputs": [
    {
     "name": "stderr",
     "output_type": "stream",
     "text": [
      "INFO:root:Train Validation splits\n",
      "\n",
      "INFO:root:                                      ds           \n",
      "                                     min        max\n",
      "unique_id         sample_mask                      \n",
      "% WEIGHTED ILI    0           2002-01-01 2020-06-30\n",
      "                  1           2020-07-01 2020-07-24\n",
      "%UNWEIGHTED ILI   0           2002-01-01 2020-06-30\n",
      "                  1           2020-07-01 2020-07-24\n",
      "AGE 0-4           0           2002-01-01 2020-06-30\n",
      "                  1           2020-07-01 2020-07-24\n",
      "AGE 5-24          0           2002-01-01 2020-06-30\n",
      "                  1           2020-07-01 2020-07-24\n",
      "ILITOTAL          0           2002-01-01 2020-06-30\n",
      "                  1           2020-07-01 2020-07-24\n",
      "NUM. OF PROVIDERS 0           2002-01-01 2020-06-30\n",
      "                  1           2020-07-01 2020-07-24\n",
      "OT                0           2002-01-01 2020-06-30\n",
      "                  1           2020-07-01 2020-07-24\n",
      "INFO:root:\n",
      "Total data \t\t\t6930 time stamps \n",
      "Available percentage=100.0, \t6930 time stamps \n",
      "Insample  percentage=2.42, \t168 time stamps \n",
      "Outsample percentage=97.58, \t6762 time stamps \n",
      "\n",
      "/Users/cchallu/opt/anaconda3/envs/neuralforecast/lib/python3.7/site-packages/pytorch_lightning/trainer/connectors/callback_connector.py:91: LightningDeprecationWarning: Setting `Trainer(progress_bar_refresh_rate=1)` is deprecated in v1.5 and will be removed in v1.7. Please pass `pytorch_lightning.callbacks.progress.TQDMProgressBar` with `refresh_rate` directly to the Trainer's `callbacks` argument instead. Or, to disable the progress bar pass `enable_progress_bar = False` to the Trainer.\n",
      "  f\"Setting `Trainer(progress_bar_refresh_rate={progress_bar_refresh_rate})` is deprecated in v1.5 and\"\n",
      "INFO:pytorch_lightning.utilities.distributed:GPU available: False, used: False\n",
      "INFO:pytorch_lightning.utilities.distributed:TPU available: False, using: 0 TPU cores\n",
      "INFO:pytorch_lightning.utilities.distributed:IPU available: False, using: 0 IPUs\n",
      "/Users/cchallu/NIXTLA/neuralforecast/neuralforecast/data/tsloader.py:47: UserWarning: This class wraps the pytorch `DataLoader` with a special collate function. If you want to use yours simply use `DataLoader`. Removing collate_fn\n",
      "  'This class wraps the pytorch `DataLoader` with a '\n",
      "/Users/cchallu/opt/anaconda3/envs/neuralforecast/lib/python3.7/site-packages/pytorch_lightning/trainer/data_loading.py:133: UserWarning: The dataloader, predict_dataloader 0, does not have many workers which may be a bottleneck. Consider increasing the value of the `num_workers` argument` (try 12 which is the number of cpus on this machine) in the `DataLoader` init to improve performance.\n",
      "  f\"The dataloader, {name}, does not have many workers which may be a bottleneck.\"\n"
     ]
    },
    {
     "name": "stdout",
     "output_type": "stream",
     "text": [
      "Predicting: 100%|██████████| 7/7 [00:00<00:00, 397.32it/s]\n"
     ]
    },
    {
     "name": "stderr",
     "output_type": "stream",
     "text": [
      "/Users/cchallu/opt/anaconda3/envs/neuralforecast/lib/python3.7/site-packages/torch/nn/functional.py:3635: UserWarning: Default upsampling behavior when mode=linear is changed to align_corners=False since 0.4.0. Please specify align_corners=True if the old behavior is desired. See the documentation of nn.Upsample for details.\n",
      "  \"See the documentation of nn.Upsample for details.\".format(mode)\n"
     ]
    },
    {
     "data": {
      "text/html": [
       "<div>\n",
       "<style scoped>\n",
       "    .dataframe tbody tr th:only-of-type {\n",
       "        vertical-align: middle;\n",
       "    }\n",
       "\n",
       "    .dataframe tbody tr th {\n",
       "        vertical-align: top;\n",
       "    }\n",
       "\n",
       "    .dataframe thead th {\n",
       "        text-align: right;\n",
       "    }\n",
       "</style>\n",
       "<table border=\"1\" class=\"dataframe\">\n",
       "  <thead>\n",
       "    <tr style=\"text-align: right;\">\n",
       "      <th></th>\n",
       "      <th>unique_id</th>\n",
       "      <th>ds</th>\n",
       "      <th>y</th>\n",
       "    </tr>\n",
       "  </thead>\n",
       "  <tbody>\n",
       "    <tr>\n",
       "      <th>0</th>\n",
       "      <td>% WEIGHTED ILI</td>\n",
       "      <td>2020-07-01</td>\n",
       "      <td>-0.360207</td>\n",
       "    </tr>\n",
       "    <tr>\n",
       "      <th>1</th>\n",
       "      <td>% WEIGHTED ILI</td>\n",
       "      <td>2020-07-02</td>\n",
       "      <td>-0.527270</td>\n",
       "    </tr>\n",
       "    <tr>\n",
       "      <th>2</th>\n",
       "      <td>% WEIGHTED ILI</td>\n",
       "      <td>2020-07-03</td>\n",
       "      <td>-0.575431</td>\n",
       "    </tr>\n",
       "    <tr>\n",
       "      <th>3</th>\n",
       "      <td>% WEIGHTED ILI</td>\n",
       "      <td>2020-07-04</td>\n",
       "      <td>-0.563825</td>\n",
       "    </tr>\n",
       "    <tr>\n",
       "      <th>4</th>\n",
       "      <td>% WEIGHTED ILI</td>\n",
       "      <td>2020-07-05</td>\n",
       "      <td>-0.631066</td>\n",
       "    </tr>\n",
       "    <tr>\n",
       "      <th>...</th>\n",
       "      <td>...</td>\n",
       "      <td>...</td>\n",
       "      <td>...</td>\n",
       "    </tr>\n",
       "    <tr>\n",
       "      <th>163</th>\n",
       "      <td>OT</td>\n",
       "      <td>2020-07-20</td>\n",
       "      <td>4.075001</td>\n",
       "    </tr>\n",
       "    <tr>\n",
       "      <th>164</th>\n",
       "      <td>OT</td>\n",
       "      <td>2020-07-21</td>\n",
       "      <td>4.500464</td>\n",
       "    </tr>\n",
       "    <tr>\n",
       "      <th>165</th>\n",
       "      <td>OT</td>\n",
       "      <td>2020-07-22</td>\n",
       "      <td>4.584929</td>\n",
       "    </tr>\n",
       "    <tr>\n",
       "      <th>166</th>\n",
       "      <td>OT</td>\n",
       "      <td>2020-07-23</td>\n",
       "      <td>4.026589</td>\n",
       "    </tr>\n",
       "    <tr>\n",
       "      <th>167</th>\n",
       "      <td>OT</td>\n",
       "      <td>2020-07-24</td>\n",
       "      <td>4.499321</td>\n",
       "    </tr>\n",
       "  </tbody>\n",
       "</table>\n",
       "<p>168 rows × 3 columns</p>\n",
       "</div>"
      ],
      "text/plain": [
       "          unique_id         ds         y\n",
       "0    % WEIGHTED ILI 2020-07-01 -0.360207\n",
       "1    % WEIGHTED ILI 2020-07-02 -0.527270\n",
       "2    % WEIGHTED ILI 2020-07-03 -0.575431\n",
       "3    % WEIGHTED ILI 2020-07-04 -0.563825\n",
       "4    % WEIGHTED ILI 2020-07-05 -0.631066\n",
       "..              ...        ...       ...\n",
       "163              OT 2020-07-20  4.075001\n",
       "164              OT 2020-07-21  4.500464\n",
       "165              OT 2020-07-22  4.584929\n",
       "166              OT 2020-07-23  4.026589\n",
       "167              OT 2020-07-24  4.499321\n",
       "\n",
       "[168 rows x 3 columns]"
      ]
     },
     "execution_count": null,
     "metadata": {},
     "output_type": "execute_result"
    }
   ],
   "source": [
    "forecasts = auto_nhits.forecast(Y_df=Y_df)\n",
    "forecasts"
   ]
  },
  {
   "cell_type": "markdown",
   "metadata": {},
   "source": [
    "<a name=\"cell-3\"></a>\n",
    "### 3. Define Hyperparameter Space\n",
    "\n",
    "A temporal train-evaluation split procedure allows us to estimate the model’s generalization performance on future data unseen by the model. We use the train set to optimize the model parameters, and the validation  and test sets to evaluate the accuracy of the model’s predictions.\n",
    "\n",
    "In this case we set the space to `None`, that implicitly uses the predefined model space, but the space can be specified as a dictionary following the conventions of the [Hyperopt package](https://github.com/hyperopt/hyperopt)."
   ]
  },
  {
   "cell_type": "code",
   "execution_count": null,
   "metadata": {},
   "outputs": [],
   "source": [
    "config_dict = {'nbeats':\n",
    "                       {'space': None, # Use default\n",
    "                        'hyperopt_steps': 5,\n",
    "                        'timeout': 60*1\n",
    "                       },\n",
    "               'nhits':\n",
    "                       {'space': None,  # Use default\n",
    "                        'hyperopt_steps': 5,\n",
    "                        'timeout': 60*1\n",
    "                       },\n",
    "                'rnn':\n",
    "                       {'space': None,  # Use default\n",
    "                        'hyperopt_steps': 5,\n",
    "                        'timeout': 60*1\n",
    "                       }\n",
    "              }"
   ]
  },
  {
   "cell_type": "markdown",
   "metadata": {},
   "source": [
    "<a name=\"cell-4\"></a>\n",
    "### 4. Hyperparameter Tuning\n",
    "\n",
    "A temporal train-validation-test (676,97,193) split procedure allows us to estimate the model’s generalization performance on future data unseen by the model. We use the train set to optimize the model parameters, and the validation  and test sets to evaluate the accuracy of the model’s predictions."
   ]
  },
  {
   "cell_type": "code",
   "execution_count": null,
   "metadata": {},
   "outputs": [
    {
     "name": "stderr",
     "output_type": "stream",
     "text": [
      "INFO:hyperopt.tpe:build_posterior_wrapper took 0.011396 seconds\n",
      "INFO:hyperopt.tpe:TPE using 0 trials\n"
     ]
    },
    {
     "name": "stdout",
     "output_type": "stream",
     "text": [
      "WARNING: test_auto=True, MODELS WILL NOT BE TRAINED PROPERLY!\n",
      "MODEL: nbeats\n"
     ]
    },
    {
     "name": "stderr",
     "output_type": "stream",
     "text": [
      "INFO:pytorch_lightning.utilities.distributed:GPU available: False, used: False\n",
      "INFO:pytorch_lightning.utilities.distributed:TPU available: False, using: 0 TPU cores\n",
      "INFO:pytorch_lightning.utilities.distributed:IPU available: False, using: 0 IPUs\n",
      "/Users/cchallu/opt/anaconda3/envs/neuralforecast/lib/python3.7/site-packages/pytorch_lightning/trainer/data_loading.py:133: UserWarning: The dataloader, val_dataloader 0, does not have many workers which may be a bottleneck. Consider increasing the value of the `num_workers` argument` (try 12 which is the number of cpus on this machine) in the `DataLoader` init to improve performance.\n",
      "  f\"The dataloader, {name}, does not have many workers which may be a bottleneck.\"\n",
      "/Users/cchallu/opt/anaconda3/envs/neuralforecast/lib/python3.7/site-packages/pytorch_lightning/trainer/data_loading.py:133: UserWarning: The dataloader, train_dataloader, does not have many workers which may be a bottleneck. Consider increasing the value of the `num_workers` argument` (try 12 which is the number of cpus on this machine) in the `DataLoader` init to improve performance.\n",
      "  f\"The dataloader, {name}, does not have many workers which may be a bottleneck.\"\n",
      "/Users/cchallu/NIXTLA/neuralforecast/neuralforecast/data/tsloader.py:47: UserWarning: This class wraps the pytorch `DataLoader` with a special collate function. If you want to use yours simply use `DataLoader`. Removing collate_fn\n",
      "  'This class wraps the pytorch `DataLoader` with a '\n",
      "/Users/cchallu/opt/anaconda3/envs/neuralforecast/lib/python3.7/site-packages/pytorch_lightning/trainer/data_loading.py:133: UserWarning: The dataloader, predict_dataloader 0, does not have many workers which may be a bottleneck. Consider increasing the value of the `num_workers` argument` (try 12 which is the number of cpus on this machine) in the `DataLoader` init to improve performance.\n",
      "  f\"The dataloader, {name}, does not have many workers which may be a bottleneck.\"\n",
      "INFO:hyperopt.tpe:build_posterior_wrapper took 0.011370 seconds\n",
      "INFO:hyperopt.tpe:TPE using 0 trials\n"
     ]
    },
    {
     "name": "stdout",
     "output_type": "stream",
     "text": [
      "MODEL: nhits\n"
     ]
    },
    {
     "name": "stderr",
     "output_type": "stream",
     "text": [
      "INFO:pytorch_lightning.utilities.distributed:GPU available: False, used: False\n",
      "INFO:pytorch_lightning.utilities.distributed:TPU available: False, using: 0 TPU cores\n",
      "INFO:pytorch_lightning.utilities.distributed:IPU available: False, using: 0 IPUs\n",
      "/Users/cchallu/opt/anaconda3/envs/neuralforecast/lib/python3.7/site-packages/torch/nn/functional.py:3635: UserWarning: Default upsampling behavior when mode=linear is changed to align_corners=False since 0.4.0. Please specify align_corners=True if the old behavior is desired. See the documentation of nn.Upsample for details.\n",
      "  \"See the documentation of nn.Upsample for details.\".format(mode)\n",
      "INFO:hyperopt.tpe:build_posterior_wrapper took 0.013300 seconds\n",
      "INFO:hyperopt.tpe:TPE using 0 trials\n"
     ]
    },
    {
     "name": "stdout",
     "output_type": "stream",
     "text": [
      "MODEL: rnn\n"
     ]
    },
    {
     "name": "stderr",
     "output_type": "stream",
     "text": [
      "INFO:pytorch_lightning.utilities.distributed:GPU available: False, used: False\n",
      "INFO:pytorch_lightning.utilities.distributed:TPU available: False, using: 0 TPU cores\n",
      "INFO:pytorch_lightning.utilities.distributed:IPU available: False, using: 0 IPUs\n"
     ]
    }
   ],
   "source": [
    "forecast_horizon = 24\n",
    "best_model, results = auto(config_dict=config_dict,\n",
    "                           Y_df=Y_df, X_df=None, S_df=None,\n",
    "                           loss_function_val=nf.losses.numpy.mae, \n",
    "                           loss_functions_test={'mae':nf.losses.numpy.mae,\n",
    "                                                'mse':nf.losses.numpy.mse},\n",
    "                           forecast_horizon=forecast_horizon, ts_in_val=n_ts_val, ts_in_test=n_ts_test,\n",
    "                           results_dir='./results/auto',\n",
    "                           return_forecasts=True,\n",
    "                           test_auto=True,\n",
    "                           verbose=False)"
   ]
  },
  {
   "cell_type": "code",
   "execution_count": null,
   "metadata": {},
   "outputs": [
    {
     "data": {
      "text/plain": [
       "Text(0, 0.5, 'val loss')"
      ]
     },
     "execution_count": null,
     "metadata": {},
     "output_type": "execute_result"
    },
    {
     "data": {
      "image/png": "[encoded data removed]",
      "text/plain": [
       "<Figure size 432x288 with 1 Axes>"
      ]
     },
     "metadata": {
      "needs_background": "light"
     },
     "output_type": "display_data"
    }
   ],
   "source": [
    "time   = results['nbeats']['optimization_times']\n",
    "losses = results['nbeats']['optimization_losses']\n",
    "plt.plot(time, losses)\n",
    "plt.xlabel('segs')\n",
    "plt.ylabel('val loss')"
   ]
  },
  {
   "cell_type": "markdown",
   "metadata": {},
   "source": [
    "<a name=\"cell-5\"></a>\n",
    "### 5. Evaluate Results"
   ]
  },
  {
   "cell_type": "markdown",
   "metadata": {},
   "source": [
    "Here we wrangle the numpy predictions to evaluate and plot the predictions."
   ]
  },
  {
   "cell_type": "code",
   "execution_count": null,
   "metadata": {},
   "outputs": [
    {
     "name": "stdout",
     "output_type": "stream",
     "text": [
      "\n",
      " Original Shapes\n",
      "1. y_hat_nhits.shape (1190, 24)\n",
      "1. y_hat_nbeats.shape (1190, 24)\n",
      "1. y_hat_rnn.shape (7, 8, 24)\n",
      "1. y_true.shape (1190, 24)\n",
      "\n",
      " Wrangled Shapes\n",
      "2. y_hat_nhits.shape (7, 170, 24)\n",
      "2. y_hat_nbeats.shape (7, 170, 24)\n",
      "2. y_hat_rnn.shape (7, 8, 24)\n",
      "2. y_true.shape (7, 170, 24)\n"
     ]
    }
   ],
   "source": [
    "y_hat_nhits  = results['nhits']['y_hat']#.reshape(n_series, forecast_horizon, ts_in_test)\n",
    "y_hat_nbeats = results['nbeats']['y_hat']#.reshape(n_series, forecast_horizon, ts_in_test)\n",
    "y_hat_rnn    = results['rnn']['y_hat']#.reshape(n_series, forecast_horizon, ts_in_test)\n",
    "y_true       = results['nbeats']['y_true']#.reshape(forecast_horizon,n_series, -1)\n",
    "\n",
    "print('\\n Original Shapes')\n",
    "print('1. y_hat_nhits.shape', y_hat_nhits.shape)\n",
    "print('1. y_hat_nbeats.shape', y_hat_nbeats.shape)\n",
    "print('1. y_hat_rnn.shape', y_hat_rnn.shape)\n",
    "print('1. y_true.shape', y_true.shape)\n",
    "\n",
    "y_hat_nbeats = results['nbeats']['y_hat'].reshape((n_series,\n",
    "                                                   170, forecast_horizon))\n",
    "y_hat_nhits = results['nhits']['y_hat'].reshape((n_series,\n",
    "                                                 170, forecast_horizon))\n",
    "y_true = results['nbeats']['y_true'].reshape((n_series,\n",
    "                                              170, forecast_horizon))\n",
    "\n",
    "print('\\n Wrangled Shapes')\n",
    "print('2. y_hat_nhits.shape', y_hat_nhits.shape)\n",
    "print('2. y_hat_nbeats.shape', y_hat_nbeats.shape)\n",
    "print('2. y_hat_rnn.shape', y_hat_rnn.shape)\n",
    "print('2. y_true.shape', y_true.shape)"
   ]
  },
  {
   "cell_type": "code",
   "execution_count": null,
   "metadata": {},
   "outputs": [
    {
     "data": {
      "image/png": "[encoded data removed]",
      "text/plain": [
       "<Figure size 432x288 with 1 Axes>"
      ]
     },
     "metadata": {
      "needs_background": "light"
     },
     "output_type": "display_data"
    }
   ],
   "source": [
    "w_idx = 0\n",
    "u_idx = 0\n",
    "\n",
    "plt.plot(y_true[u_idx,w_idx,:], label='True Signal')\n",
    "plt.plot(y_hat_nbeats[u_idx,w_idx,:], label='N-BEATS')\n",
    "plt.plot(y_hat_nhits[u_idx,w_idx,:], label='N-HiTS')\n",
    "#plt.plot(y_true[:,0,2], label='True')\n",
    "#plt.plot(best_nbeats[::24,:].flatten(), label='N-BEATS')\n",
    "#plt.plot(best_rnn[::24,:].flatten(), label='RNN')\n",
    "plt.legend()\n",
    "plt.show()"
   ]
  },
  {
   "cell_type": "code",
   "execution_count": null,
   "metadata": {},
   "outputs": [
    {
     "name": "stdout",
     "output_type": "stream",
     "text": [
      "Y_df.unique_id.unique() ['% WEIGHTED ILI' '%UNWEIGHTED ILI' 'AGE 0-4' 'AGE 5-24' 'ILITOTAL'\n",
      " 'NUM. OF PROVIDERS' 'OT']\n"
     ]
    },
    {
     "data": {
      "image/png": "[encoded data removed]",
      "text/plain": [
       "<Figure size 432x288 with 1 Axes>"
      ]
     },
     "metadata": {
      "needs_background": "light"
     },
     "output_type": "display_data"
    }
   ],
   "source": [
    "print('Y_df.unique_id.unique()', Y_df.unique_id.unique())\n",
    "ver = Y_df[Y_df.unique_id=='% WEIGHTED ILI']\n",
    "\n",
    "plt.plot(ver.y[n_time-193:n_time-193+24])\n",
    "plt.ylabel('% WEIGHTED ILI')\n",
    "plt.show()"
   ]
  },
  {
   "cell_type": "markdown",
   "metadata": {},
   "source": [
    "<a name=\"cell-5\"></a>\n",
    "### 5. Evaluate Results"
   ]
  },
  {
   "cell_type": "code",
   "execution_count": null,
   "metadata": {},
   "outputs": [
    {
     "data": {
      "text/plain": [
       "NBEATS(\n",
       "  (model): _NBEATS(\n",
       "    (blocks): ModuleList(\n",
       "      (0): _NBEATSBlock(\n",
       "        (layers): Sequential(\n",
       "          (0): Linear(in_features=72, out_features=128, bias=True)\n",
       "          (1): ReLU()\n",
       "          (2): Linear(in_features=128, out_features=128, bias=True)\n",
       "          (3): ReLU()\n",
       "          (4): Linear(in_features=128, out_features=96, bias=True)\n",
       "        )\n",
       "        (basis): IdentityBasis()\n",
       "      )\n",
       "      (1): _NBEATSBlock(\n",
       "        (layers): Sequential(\n",
       "          (0): Linear(in_features=72, out_features=128, bias=True)\n",
       "          (1): ReLU()\n",
       "          (2): Linear(in_features=128, out_features=128, bias=True)\n",
       "          (3): ReLU()\n",
       "          (4): Linear(in_features=128, out_features=96, bias=True)\n",
       "        )\n",
       "        (basis): IdentityBasis()\n",
       "      )\n",
       "      (2): _NBEATSBlock(\n",
       "        (layers): Sequential(\n",
       "          (0): Linear(in_features=72, out_features=128, bias=True)\n",
       "          (1): ReLU()\n",
       "          (2): Linear(in_features=128, out_features=128, bias=True)\n",
       "          (3): ReLU()\n",
       "          (4): Linear(in_features=128, out_features=96, bias=True)\n",
       "        )\n",
       "        (basis): IdentityBasis()\n",
       "      )\n",
       "      (3): _NBEATSBlock(\n",
       "        (layers): Sequential(\n",
       "          (0): Linear(in_features=72, out_features=128, bias=True)\n",
       "          (1): ReLU()\n",
       "          (2): Linear(in_features=128, out_features=128, bias=True)\n",
       "          (3): ReLU()\n",
       "          (4): Linear(in_features=128, out_features=96, bias=True)\n",
       "        )\n",
       "        (basis): IdentityBasis()\n",
       "      )\n",
       "      (4): _NBEATSBlock(\n",
       "        (layers): Sequential(\n",
       "          (0): Linear(in_features=72, out_features=128, bias=True)\n",
       "          (1): ReLU()\n",
       "          (2): Linear(in_features=128, out_features=128, bias=True)\n",
       "          (3): ReLU()\n",
       "          (4): Linear(in_features=128, out_features=96, bias=True)\n",
       "        )\n",
       "        (basis): IdentityBasis()\n",
       "      )\n",
       "      (5): _NBEATSBlock(\n",
       "        (layers): Sequential(\n",
       "          (0): Linear(in_features=72, out_features=128, bias=True)\n",
       "          (1): ReLU()\n",
       "          (2): Linear(in_features=128, out_features=128, bias=True)\n",
       "          (3): ReLU()\n",
       "          (4): Linear(in_features=128, out_features=96, bias=True)\n",
       "        )\n",
       "        (basis): IdentityBasis()\n",
       "      )\n",
       "      (6): _NBEATSBlock(\n",
       "        (layers): Sequential(\n",
       "          (0): Linear(in_features=72, out_features=128, bias=True)\n",
       "          (1): ReLU()\n",
       "          (2): Linear(in_features=128, out_features=128, bias=True)\n",
       "          (3): ReLU()\n",
       "          (4): Linear(in_features=128, out_features=96, bias=True)\n",
       "        )\n",
       "        (basis): IdentityBasis()\n",
       "      )\n",
       "      (7): _NBEATSBlock(\n",
       "        (layers): Sequential(\n",
       "          (0): Linear(in_features=72, out_features=128, bias=True)\n",
       "          (1): ReLU()\n",
       "          (2): Linear(in_features=128, out_features=128, bias=True)\n",
       "          (3): ReLU()\n",
       "          (4): Linear(in_features=128, out_features=96, bias=True)\n",
       "        )\n",
       "        (basis): IdentityBasis()\n",
       "      )\n",
       "      (8): _NBEATSBlock(\n",
       "        (layers): Sequential(\n",
       "          (0): Linear(in_features=72, out_features=128, bias=True)\n",
       "          (1): ReLU()\n",
       "          (2): Linear(in_features=128, out_features=128, bias=True)\n",
       "          (3): ReLU()\n",
       "          (4): Linear(in_features=128, out_features=96, bias=True)\n",
       "        )\n",
       "        (basis): IdentityBasis()\n",
       "      )\n",
       "    )\n",
       "  )\n",
       ")"
      ]
     },
     "execution_count": null,
     "metadata": {},
     "output_type": "execute_result"
    }
   ],
   "source": [
    "best_model"
   ]
  },
  {
   "cell_type": "code",
   "execution_count": null,
   "metadata": {},
   "outputs": [],
   "source": [
    "# Y_forecast_df = Y_df[Y_df['ds']<'2016-12-27']\n",
    "# X_forecast_df = X_df[X_df['ds']<'2016-12-28']"
   ]
  },
  {
   "cell_type": "code",
   "execution_count": null,
   "metadata": {},
   "outputs": [],
   "source": [
    "# best_model.return_decomposition = False\n",
    "# forecast_df = best_model.forecast(Y_df=Y_forecast_df, X_df=X_forecast_df, S_df=None, batch_size=2)\n",
    "# forecast_df"
   ]
  },
  {
   "cell_type": "code",
   "execution_count": null,
   "metadata": {},
   "outputs": [],
   "source": []
  }
 ],
 "metadata": {
  "kernelspec": {
   "display_name": "Python 3",
   "language": "python",
   "name": "python3"
  }
 },
 "nbformat": 4,
 "nbformat_minor": 2
}
