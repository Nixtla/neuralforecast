{
 "cells": [
  {
   "cell_type": "code",
   "execution_count": 1,
   "metadata": {},
   "outputs": [],
   "source": [
    "#| default_exp models.hint"
   ]
  },
  {
   "cell_type": "markdown",
   "metadata": {},
   "source": [
    "# HINT"
   ]
  },
  {
   "cell_type": "markdown",
   "metadata": {},
   "source": [
    "Hierarchical Forecast Networks (HINT) is a novel approach that combines SoTA neural forecast methods with flexible and efficient probability distributions and advanced hierarchical reconciliation strategies. This powerful combination allows HINT to produce accurate and coherent probabilistic predictions.\n",
    "\n",
    "HINT's architecture incorporates a unique `TemporalNorm` module that leverages scaled-decoupled optimization. Additionally, it integrated bootstrapped sample filtering that enforces hierarchical constraints on the samples of its forecast distribution.\n",
    "\n",
    "**References**<br>\n",
    "- [Kin G. Olivares, O. Nganba Meetei, Ruijun Ma, Rohan Reddy, Mengfei Cao, Lee Dicker (2022).\"Probabilistic Hierarchical Forecasting with Deep Poisson Mixtures\". International Journal Forecasting, accepted paper available at arxiv.](https://arxiv.org/pdf/2110.13179.pdf)<br>\n",
    "- [Kin G. Olivares, Federico Garza, David Luo, Cristian Challu, Max Mergenthaler, Souhaib Ben Taieb, Shanika Wickramasuriya, and Artur Dubrawski (2022). \"HierarchicalForecast: A reference framework for hierarchical forecasting in python\". Journal of Machine Learning Research, submitted, abs/2207.03517, 2022b.](https://arxiv.org/abs/2207.03517)"
   ]
  },
  {
   "cell_type": "code",
   "execution_count": 2,
   "metadata": {},
   "outputs": [],
   "source": [
    "#| hide\n",
    "from nbdev.showdoc import show_doc\n",
    "from neuralforecast.losses.pytorch import GMM\n",
    "from neuralforecast import NeuralForecast\n",
    "from neuralforecast.models import NHITS\n",
    "import pandas as pd"
   ]
  },
  {
   "cell_type": "code",
   "execution_count": 3,
   "metadata": {},
   "outputs": [],
   "source": [
    "#| export\n",
    "from typing import Optional\n",
    "\n",
    "import numpy as np\n",
    "import torch"
   ]
  },
  {
   "cell_type": "markdown",
   "metadata": {},
   "source": [
    "## 1. Reconciliation Methods"
   ]
  },
  {
   "cell_type": "code",
   "execution_count": 4,
   "metadata": {},
   "outputs": [],
   "source": [
    "#| export\n",
    "def get_bottomup_P(S: np.ndarray):\n",
    "    \"\"\"BottomUp Reconciliation Matrix.\n",
    "\n",
    "    Creates BottomUp hierarchical \\\"projection\\\" matrix is defined as:\n",
    "    $$\\mathbf{P}_{\\\\text{BU}} = [\\mathbf{0}_{\\mathrm{[b],[a]}}\\;|\\;\\mathbf{I}_{\\mathrm{[b][b]}}]$$    \n",
    "\n",
    "    **Parameters:**<br>\n",
    "    `S`: Summing matrix of size (`base`, `bottom`).<br>\n",
    "\n",
    "    **Returns:**<br>\n",
    "    `P`: Reconciliation matrix of size (`bottom`, `base`).<br>\n",
    "\n",
    "    **References:**<br>\n",
    "    - [Orcutt, G.H., Watts, H.W., & Edwards, J.B.(1968). \\\"Data aggregation and information loss\\\". The American \n",
    "    Economic Review, 58 , 773{787)](http://www.jstor.org/stable/1815532).    \n",
    "    \"\"\"\n",
    "    n_series = len(S)\n",
    "    n_agg = n_series-S.shape[1]\n",
    "    P = np.zeros_like(S)\n",
    "    P[n_agg:,:] = S[n_agg:,:]\n",
    "    P = P.T\n",
    "    return P\n",
    "\n",
    "def get_mintrace_ols_P(S: np.ndarray):\n",
    "    \"\"\"MinTraceOLS Reconciliation Matrix.\n",
    "\n",
    "    Creates MinTraceOLS reconciliation matrix as proposed by Wickramasuriya et al.\n",
    "\n",
    "    $$\\mathbf{P}_{\\\\text{MinTraceOLS}}=\\\\left(\\mathbf{S}^{\\intercal}\\mathbf{S}\\\\right)^{-1}\\mathbf{S}^{\\intercal}$$\n",
    "\n",
    "    **Parameters:**<br>\n",
    "    `S`: Summing matrix of size (`base`, `bottom`).<br>\n",
    "      \n",
    "    **Returns:**<br>\n",
    "    `P`: Reconciliation matrix of size (`bottom`, `base`).<br>\n",
    "\n",
    "    **References:**<br>\n",
    "    - [Wickramasuriya, S.L., Turlach, B.A. & Hyndman, R.J. (2020). \\\"Optimal non-negative\n",
    "    forecast reconciliation\". Stat Comput 30, 1167–1182,\n",
    "    https://doi.org/10.1007/s11222-020-09930-0](https://robjhyndman.com/publications/nnmint/).\n",
    "    \"\"\"\n",
    "    n_hiers, n_bottom = S.shape\n",
    "    n_agg = n_hiers - n_bottom\n",
    "\n",
    "    W = np.eye(n_hiers)\n",
    "\n",
    "    # We compute reconciliation matrix with\n",
    "    # Equation 10 from https://robjhyndman.com/papers/MinT.pdf\n",
    "    A = S[:n_agg,:]\n",
    "    U = np.hstack((np.eye(n_agg), -A)).T\n",
    "    J = np.hstack((np.zeros((n_bottom,n_agg)), np.eye(n_bottom)))\n",
    "    P = J - (J @ W @ U) @ np.linalg.pinv(U.T @ W @ U) @ U.T\n",
    "    return P\n",
    "\n",
    "def get_mintrace_wls_P(S: np.ndarray):\n",
    "    \"\"\"MinTraceOLS Reconciliation Matrix.\n",
    "\n",
    "    Creates MinTraceOLS reconciliation matrix as proposed by Wickramasuriya et al.\n",
    "    Depending on a weighted GLS estimator and an estimator of the covariance matrix of the coherency errors $\\mathbf{W}_{h}$.\n",
    "\n",
    "    $$ \\mathbf{W}_{h} = \\mathrm{Diag}(\\mathbf{S} \\mathbb{1}_{[b]})$$\n",
    "\n",
    "    $$\\mathbf{P}_{\\\\text{MinTraceWLS}}=\\\\left(\\mathbf{S}^{\\intercal}\\mathbf{W}_{h}\\mathbf{S}\\\\right)^{-1}\n",
    "    \\mathbf{S}^{\\intercal}\\mathbf{W}^{-1}_{h}$$    \n",
    "\n",
    "    **Parameters:**<br>\n",
    "    `S`: Summing matrix of size (`base`, `bottom`).<br>\n",
    "      \n",
    "    **Returns:**<br>\n",
    "    `P`: Reconciliation matrix of size (`bottom`, `base`).<br>\n",
    "\n",
    "    **References:**<br>\n",
    "    - [Wickramasuriya, S.L., Turlach, B.A. & Hyndman, R.J. (2020). \\\"Optimal non-negative\n",
    "    forecast reconciliation\". Stat Comput 30, 1167–1182,\n",
    "    https://doi.org/10.1007/s11222-020-09930-0](https://robjhyndman.com/publications/nnmint/).\n",
    "    \"\"\"\n",
    "    n_hiers, n_bottom = S.shape\n",
    "    n_agg = n_hiers - n_bottom\n",
    "    \n",
    "    W = np.diag(S @ np.ones((n_bottom,)))\n",
    "\n",
    "    # We compute reconciliation matrix with\n",
    "    # Equation 10 from https://robjhyndman.com/papers/MinT.pdf\n",
    "    A = S[:n_agg,:]\n",
    "    U = np.hstack((np.eye(n_agg), -A)).T\n",
    "    J = np.hstack((np.zeros((n_bottom,n_agg)), np.eye(n_bottom)))\n",
    "    P = J - (J @ W @ U) @ np.linalg.pinv(U.T @ W @ U) @ U.T\n",
    "    return P"
   ]
  },
  {
   "cell_type": "code",
   "execution_count": 5,
   "metadata": {},
   "outputs": [
    {
     "data": {
      "text/markdown": [
       "---\n",
       "\n",
       "[source](https://github.com/Nixtla/neuralforecast/blob/main/neuralforecast/models/hint.py#L13){target=\"_blank\" style=\"float:right; font-size:smaller\"}\n",
       "\n",
       "### get_bottomup_P\n",
       "\n",
       ">      get_bottomup_P (S:numpy.ndarray)\n",
       "\n",
       "BottomUp Reconciliation Matrix.\n",
       "\n",
       "Creates BottomUp hierarchical \"projection\" matrix is defined as:\n",
       "$$\\mathbf{P}_{\\text{BU}} = [\\mathbf{0}_{\\mathrm{[b],[a]}}\\;|\\;\\mathbf{I}_{\\mathrm{[b][b]}}]$$    \n",
       "\n",
       "**Parameters:**<br>\n",
       "`S`: Summing matrix of size (`base`, `bottom`).<br>\n",
       "\n",
       "**Returns:**<br>\n",
       "`P`: Reconciliation matrix of size (`bottom`, `base`).<br>\n",
       "\n",
       "**References:**<br>\n",
       "- [Orcutt, G.H., Watts, H.W., & Edwards, J.B.(1968). \"Data aggregation and information loss\". The American \n",
       "Economic Review, 58 , 773{787)](http://www.jstor.org/stable/1815532)."
      ],
      "text/plain": [
       "---\n",
       "\n",
       "[source](https://github.com/Nixtla/neuralforecast/blob/main/neuralforecast/models/hint.py#L13){target=\"_blank\" style=\"float:right; font-size:smaller\"}\n",
       "\n",
       "### get_bottomup_P\n",
       "\n",
       ">      get_bottomup_P (S:numpy.ndarray)\n",
       "\n",
       "BottomUp Reconciliation Matrix.\n",
       "\n",
       "Creates BottomUp hierarchical \"projection\" matrix is defined as:\n",
       "$$\\mathbf{P}_{\\text{BU}} = [\\mathbf{0}_{\\mathrm{[b],[a]}}\\;|\\;\\mathbf{I}_{\\mathrm{[b][b]}}]$$    \n",
       "\n",
       "**Parameters:**<br>\n",
       "`S`: Summing matrix of size (`base`, `bottom`).<br>\n",
       "\n",
       "**Returns:**<br>\n",
       "`P`: Reconciliation matrix of size (`bottom`, `base`).<br>\n",
       "\n",
       "**References:**<br>\n",
       "- [Orcutt, G.H., Watts, H.W., & Edwards, J.B.(1968). \"Data aggregation and information loss\". The American \n",
       "Economic Review, 58 , 773{787)](http://www.jstor.org/stable/1815532)."
      ]
     },
     "execution_count": 5,
     "metadata": {},
     "output_type": "execute_result"
    }
   ],
   "source": [
    "show_doc(get_bottomup_P, title_level=3)"
   ]
  },
  {
   "cell_type": "code",
   "execution_count": 6,
   "metadata": {},
   "outputs": [
    {
     "data": {
      "text/markdown": [
       "---\n",
       "\n",
       "[source](https://github.com/Nixtla/neuralforecast/blob/main/neuralforecast/models/hint.py#L37){target=\"_blank\" style=\"float:right; font-size:smaller\"}\n",
       "\n",
       "### get_mintrace_ols_P\n",
       "\n",
       ">      get_mintrace_ols_P (S:numpy.ndarray)\n",
       "\n",
       "MinTraceOLS Reconciliation Matrix.\n",
       "\n",
       "Creates MinTraceOLS reconciliation matrix as proposed by Wickramasuriya et al.\n",
       "\n",
       "$$\\mathbf{P}_{\\text{MinTraceOLS}}=\\left(\\mathbf{S}^{\\intercal}\\mathbf{S}\\right)^{-1}\\mathbf{S}^{\\intercal}$$\n",
       "\n",
       "**Parameters:**<br>\n",
       "`S`: Summing matrix of size (`base`, `bottom`).<br>\n",
       "\n",
       "**Returns:**<br>\n",
       "`P`: Reconciliation matrix of size (`bottom`, `base`).<br>\n",
       "\n",
       "**References:**<br>\n",
       "- [Wickramasuriya, S.L., Turlach, B.A. & Hyndman, R.J. (2020). \"Optimal non-negative\n",
       "forecast reconciliation\". Stat Comput 30, 1167–1182,\n",
       "https://doi.org/10.1007/s11222-020-09930-0](https://robjhyndman.com/publications/nnmint/)."
      ],
      "text/plain": [
       "---\n",
       "\n",
       "[source](https://github.com/Nixtla/neuralforecast/blob/main/neuralforecast/models/hint.py#L37){target=\"_blank\" style=\"float:right; font-size:smaller\"}\n",
       "\n",
       "### get_mintrace_ols_P\n",
       "\n",
       ">      get_mintrace_ols_P (S:numpy.ndarray)\n",
       "\n",
       "MinTraceOLS Reconciliation Matrix.\n",
       "\n",
       "Creates MinTraceOLS reconciliation matrix as proposed by Wickramasuriya et al.\n",
       "\n",
       "$$\\mathbf{P}_{\\text{MinTraceOLS}}=\\left(\\mathbf{S}^{\\intercal}\\mathbf{S}\\right)^{-1}\\mathbf{S}^{\\intercal}$$\n",
       "\n",
       "**Parameters:**<br>\n",
       "`S`: Summing matrix of size (`base`, `bottom`).<br>\n",
       "\n",
       "**Returns:**<br>\n",
       "`P`: Reconciliation matrix of size (`bottom`, `base`).<br>\n",
       "\n",
       "**References:**<br>\n",
       "- [Wickramasuriya, S.L., Turlach, B.A. & Hyndman, R.J. (2020). \"Optimal non-negative\n",
       "forecast reconciliation\". Stat Comput 30, 1167–1182,\n",
       "https://doi.org/10.1007/s11222-020-09930-0](https://robjhyndman.com/publications/nnmint/)."
      ]
     },
     "execution_count": 6,
     "metadata": {},
     "output_type": "execute_result"
    }
   ],
   "source": [
    "show_doc(get_mintrace_ols_P, title_level=3)"
   ]
  },
  {
   "cell_type": "code",
   "execution_count": 7,
   "metadata": {},
   "outputs": [
    {
     "data": {
      "text/markdown": [
       "---\n",
       "\n",
       "[source](https://github.com/Nixtla/neuralforecast/blob/main/neuralforecast/models/hint.py#L69){target=\"_blank\" style=\"float:right; font-size:smaller\"}\n",
       "\n",
       "### get_mintrace_wls_P\n",
       "\n",
       ">      get_mintrace_wls_P (S:numpy.ndarray)\n",
       "\n",
       "MinTraceOLS Reconciliation Matrix.\n",
       "\n",
       "Creates MinTraceOLS reconciliation matrix as proposed by Wickramasuriya et al.\n",
       "Depending on a weighted GLS estimator and an estimator of the covariance matrix of the coherency errors $\\mathbf{W}_{h}$.\n",
       "\n",
       "$$ \\mathbf{W}_{h} = \\mathrm{Diag}(\\mathbf{S} \\mathbb{1}_{[b]})$$\n",
       "\n",
       "$$\\mathbf{P}_{\\text{MinTraceWLS}}=\\left(\\mathbf{S}^{\\intercal}\\mathbf{W}_{h}\\mathbf{S}\\right)^{-1}\n",
       "\\mathbf{S}^{\\intercal}\\mathbf{W}^{-1}_{h}$$    \n",
       "\n",
       "**Parameters:**<br>\n",
       "`S`: Summing matrix of size (`base`, `bottom`).<br>\n",
       "\n",
       "**Returns:**<br>\n",
       "`P`: Reconciliation matrix of size (`bottom`, `base`).<br>\n",
       "\n",
       "**References:**<br>\n",
       "- [Wickramasuriya, S.L., Turlach, B.A. & Hyndman, R.J. (2020). \"Optimal non-negative\n",
       "forecast reconciliation\". Stat Comput 30, 1167–1182,\n",
       "https://doi.org/10.1007/s11222-020-09930-0](https://robjhyndman.com/publications/nnmint/)."
      ],
      "text/plain": [
       "---\n",
       "\n",
       "[source](https://github.com/Nixtla/neuralforecast/blob/main/neuralforecast/models/hint.py#L69){target=\"_blank\" style=\"float:right; font-size:smaller\"}\n",
       "\n",
       "### get_mintrace_wls_P\n",
       "\n",
       ">      get_mintrace_wls_P (S:numpy.ndarray)\n",
       "\n",
       "MinTraceOLS Reconciliation Matrix.\n",
       "\n",
       "Creates MinTraceOLS reconciliation matrix as proposed by Wickramasuriya et al.\n",
       "Depending on a weighted GLS estimator and an estimator of the covariance matrix of the coherency errors $\\mathbf{W}_{h}$.\n",
       "\n",
       "$$ \\mathbf{W}_{h} = \\mathrm{Diag}(\\mathbf{S} \\mathbb{1}_{[b]})$$\n",
       "\n",
       "$$\\mathbf{P}_{\\text{MinTraceWLS}}=\\left(\\mathbf{S}^{\\intercal}\\mathbf{W}_{h}\\mathbf{S}\\right)^{-1}\n",
       "\\mathbf{S}^{\\intercal}\\mathbf{W}^{-1}_{h}$$    \n",
       "\n",
       "**Parameters:**<br>\n",
       "`S`: Summing matrix of size (`base`, `bottom`).<br>\n",
       "\n",
       "**Returns:**<br>\n",
       "`P`: Reconciliation matrix of size (`bottom`, `base`).<br>\n",
       "\n",
       "**References:**<br>\n",
       "- [Wickramasuriya, S.L., Turlach, B.A. & Hyndman, R.J. (2020). \"Optimal non-negative\n",
       "forecast reconciliation\". Stat Comput 30, 1167–1182,\n",
       "https://doi.org/10.1007/s11222-020-09930-0](https://robjhyndman.com/publications/nnmint/)."
      ]
     },
     "execution_count": 7,
     "metadata": {},
     "output_type": "execute_result"
    }
   ],
   "source": [
    "show_doc(get_mintrace_wls_P, title_level=3)"
   ]
  },
  {
   "cell_type": "markdown",
   "metadata": {},
   "source": [
    "## 2. HINT"
   ]
  },
  {
   "cell_type": "code",
   "execution_count": 8,
   "metadata": {},
   "outputs": [],
   "source": [
    "#| export\n",
    "class HINT:\n",
    "    \"\"\" HINT\n",
    "\n",
    "    The Hierarchical Forecast Network (HINT) combines SoTA neural forecast methods with\n",
    "    flexible and efficient probability distributions and advanced hierarchical reconciliation strategies.\n",
    "    This powerful combination allows HINT to produce accurate and coherent probabilistic predictions.\n",
    "\n",
    "    **Parameters:**<br>\n",
    "    `h`: int, Forecast horizon. <br>\n",
    "    `model`: NeuralForecast model, instantiated train loss class from [models collection](https://nixtla.github.io/neuralforecast/models.pytorch.html).<br>\n",
    "    `S`: np.ndarray, dumming matrix of size (`base`, `bottom`) see [aggregate method](https://nixtla.github.io/hierarchicalforecast/utils.html#aggregate).<br>\n",
    "    `reconciliation`: str, HINT's reconciliation method from ['BottomUp', 'MinTraceOLS', 'MinTraceWLS'].<br>\n",
    "    `alias`: str, optional,  Custom name of the model.<br>\n",
    "    \"\"\"\n",
    "    def __init__(self,\n",
    "                 h: int,\n",
    "                 S: np.ndarray,\n",
    "                 model,\n",
    "                 reconciliation: str,\n",
    "                 alias: Optional[str] = None):\n",
    "        \n",
    "        if model.h != h:\n",
    "            raise Exception(f\"Model h {model.h} does not match HINT h {h}\")\n",
    "        \n",
    "        if not model.loss.is_distribution_output:\n",
    "            raise Exception(f\"The NeuralForecast model's loss {model.loss} is not a probabilistic objective\")\n",
    "        \n",
    "        self.h = h\n",
    "        self.model = model\n",
    "        self.S = S\n",
    "        self.reconciliation = reconciliation\n",
    "        self.loss = model.loss\n",
    "\n",
    "        available_reconciliations = dict(\n",
    "                                BottomUp=get_bottomup_P,\n",
    "                                MinTraceOLS=get_mintrace_ols_P,\n",
    "                                MinTraceWLS=get_mintrace_wls_P   \n",
    "                                )\n",
    "\n",
    "        if reconciliation not in available_reconciliations:\n",
    "            raise Exception(f\"Reconciliation {reconciliation} not available\")\n",
    "\n",
    "        # Get SP matrix\n",
    "        P = available_reconciliations[reconciliation](S=S)\n",
    "        self.SP = S @ P\n",
    "\n",
    "        qs = torch.Tensor((np.arange(self.loss.num_samples)/self.loss.num_samples))\n",
    "        self.sample_quantiles = torch.nn.Parameter(qs, requires_grad=False)\n",
    "        self.alias = alias\n",
    "    \n",
    "    def __repr__(self):\n",
    "        return type(self).__name__ if self.alias is None else self.alias\n",
    "\n",
    "\n",
    "    def fit(self, dataset, val_size=0, test_size=0, random_seed=None):\n",
    "        \"\"\" HINT.fit\n",
    "\n",
    "        HINT trains on the entire hierarchical dataset, by minimizing a composite log likelihood or likelihoood objective.\n",
    "        HINT's architecture integrates `TemporalNorm` for a scale-decoupled optimization that robustifies cross-learning \n",
    "        the hierachy's series scales.\n",
    "\n",
    "        **Parameters:**<br>\n",
    "        `dataset`: NeuralForecast's `TimeSeriesDataset` see details [here](https://nixtla.github.io/neuralforecast/tsdataset.html)<br>\n",
    "        `val_size`: int, size of the validation set, (default 0).<br>\n",
    "        `test_size`: int, size of the test set, (default 0).<br>\n",
    "        `random_seed`: int, random seed for the prediction.<br>\n",
    "\n",
    "        **Returns:**<br>\n",
    "        `self`: A fitted base `NeuralForecast` model.<br>\n",
    "        \"\"\"\n",
    "        self.model.fit(dataset=dataset,\n",
    "                       val_size=val_size,\n",
    "                       test_size=test_size,\n",
    "                       random_seed=random_seed)\n",
    "\n",
    "    def predict(self, dataset, step_size=1, random_seed=None, **data_module_kwargs):\n",
    "        \"\"\" HINT.predict\n",
    "\n",
    "        After fitting a base model on the entire hierarchical dataset.\n",
    "        HINT ensures hierarchical constraints using bootstrapped sample reconciliation \n",
    "        First sampling from its base forecast distribution.\n",
    "\n",
    "        **Parameters:**<br>\n",
    "        `dataset`: NeuralForecast's `TimeSeriesDataset` see details [here](https://nixtla.github.io/neuralforecast/tsdataset.html)<br>\n",
    "        `step_size`: int, steps between sequential predictions, (default 1).<br>\n",
    "        `random_seed`: int, random seed for the prediction.<br>\n",
    "        `**data_kwarg`: additional parameters for the dataset module.<br>\n",
    "\n",
    "        **Returns:**<br>\n",
    "        `y_hat`: numpy predictions of the `NeuralForecast` model.<br>\n",
    "        \"\"\"\n",
    "        num_samples = self.model.loss.num_samples\n",
    "\n",
    "        # Hack to get samples by simulating quantiles (samples will be ordered)\n",
    "        # Mysterious parsing associated to default [mean,quantiles] output\n",
    "        quantiles_old = self.model.loss.quantiles\n",
    "        names_old = self.model.loss.output_names\n",
    "        self.model.loss.quantiles = self.sample_quantiles\n",
    "        self.model.loss.output_names = ['1'] * (1 + num_samples)\n",
    "        samples = self.model.predict(dataset=dataset, \n",
    "                                     step_size=step_size,\n",
    "                                     random_seed=random_seed,\n",
    "                                     **data_module_kwargs)\n",
    "        samples = samples[:,1:] # Eliminate mean from quantiles\n",
    "        self.model.loss.quantiles = quantiles_old\n",
    "        self.model.loss.output_names = names_old\n",
    "\n",
    "        # Hack requires to break quantiles correlations between samples\n",
    "        idxs = np.random.choice(num_samples, size=samples.shape, replace=True)\n",
    "        aux_col_idx = np.arange(len(samples))[:,None] * num_samples\n",
    "        idxs = idxs + aux_col_idx\n",
    "        samples = samples.flatten()[idxs]\n",
    "        samples = samples.reshape(dataset.n_groups, -1, self.h, num_samples)\n",
    "        \n",
    "        # Bootstrap Sample Reconciliation\n",
    "        # Default output [mean, quantiles]\n",
    "        samples = np.einsum('ij,jwhp->iwhp', self.SP, samples)\n",
    "        forecasts = np.quantile(samples, self.model.loss.quantiles, axis=-1)\n",
    "        forecasts = forecasts.transpose(1,2,3,0) # [...,samples]\n",
    "        forecasts = forecasts.reshape(-1, len(self.model.loss.quantiles))\n",
    "        \n",
    "        sample_mean = np.mean(forecasts, axis=-1, keepdims=True)\n",
    "        forecasts = np.concatenate([sample_mean, forecasts], axis=-1)\n",
    "        return forecasts\n",
    "\n",
    "    def set_test_size(self, test_size):\n",
    "        self.model.test_size = test_size\n",
    "\n",
    "    def save(self, path):\n",
    "        \"\"\" HINT.save\n",
    "\n",
    "        Save the HINT fitted model to disk.\n",
    "\n",
    "        **Parameters:**<br>\n",
    "        `path`: str, path to save the model.<br>\n",
    "        \"\"\"\n",
    "        self.model.trainer.save_checkpoint(path)"
   ]
  },
  {
   "cell_type": "code",
   "execution_count": 9,
   "metadata": {},
   "outputs": [
    {
     "data": {
      "text/markdown": [
       "---\n",
       "\n",
       "[source](https://github.com/Nixtla/neuralforecast/blob/main/neuralforecast/models/hint.py#L120){target=\"_blank\" style=\"float:right; font-size:smaller\"}\n",
       "\n",
       "### HINT.__init__\n",
       "\n",
       ">      HINT.__init__ (h:int, S:numpy.ndarray, model, reconciliation:str,\n",
       ">                     alias:Union[str,NoneType]=None)\n",
       "\n",
       "Initialize self.  See help(type(self)) for accurate signature."
      ],
      "text/plain": [
       "---\n",
       "\n",
       "[source](https://github.com/Nixtla/neuralforecast/blob/main/neuralforecast/models/hint.py#L120){target=\"_blank\" style=\"float:right; font-size:smaller\"}\n",
       "\n",
       "### HINT.__init__\n",
       "\n",
       ">      HINT.__init__ (h:int, S:numpy.ndarray, model, reconciliation:str,\n",
       ">                     alias:Union[str,NoneType]=None)\n",
       "\n",
       "Initialize self.  See help(type(self)) for accurate signature."
      ]
     },
     "execution_count": 9,
     "metadata": {},
     "output_type": "execute_result"
    }
   ],
   "source": [
    "show_doc(HINT.__init__, title_level=3)"
   ]
  },
  {
   "cell_type": "code",
   "execution_count": 10,
   "metadata": {},
   "outputs": [
    {
     "data": {
      "text/markdown": [
       "---\n",
       "\n",
       "[source](https://github.com/Nixtla/neuralforecast/blob/main/neuralforecast/models/hint.py#L162){target=\"_blank\" style=\"float:right; font-size:smaller\"}\n",
       "\n",
       "### HINT.fit\n",
       "\n",
       ">      HINT.fit (dataset, val_size=0, test_size=0, random_seed=None)\n",
       "\n",
       "HINT.fit\n",
       "\n",
       "HINT trains on the entire hierarchical dataset, by minimizing a composite log likelihood or likelihoood objective.\n",
       "HINT's architecture integrates `TemporalNorm` for a scale-decoupled optimization that robustifies cross-learning \n",
       "the hierachy's series scales.\n",
       "\n",
       "**Parameters:**<br>\n",
       "`dataset`: NeuralForecast's `TimeSeriesDataset` see details [here](https://nixtla.github.io/neuralforecast/tsdataset.html)<br>\n",
       "`val_size`: int, size of the validation set, (default 0).<br>\n",
       "`test_size`: int, size of the test set, (default 0).<br>\n",
       "`random_seed`: int, random seed for the prediction.<br>\n",
       "\n",
       "**Returns:**<br>\n",
       "`self`: A fitted base `NeuralForecast` model.<br>"
      ],
      "text/plain": [
       "---\n",
       "\n",
       "[source](https://github.com/Nixtla/neuralforecast/blob/main/neuralforecast/models/hint.py#L162){target=\"_blank\" style=\"float:right; font-size:smaller\"}\n",
       "\n",
       "### HINT.fit\n",
       "\n",
       ">      HINT.fit (dataset, val_size=0, test_size=0, random_seed=None)\n",
       "\n",
       "HINT.fit\n",
       "\n",
       "HINT trains on the entire hierarchical dataset, by minimizing a composite log likelihood or likelihoood objective.\n",
       "HINT's architecture integrates `TemporalNorm` for a scale-decoupled optimization that robustifies cross-learning \n",
       "the hierachy's series scales.\n",
       "\n",
       "**Parameters:**<br>\n",
       "`dataset`: NeuralForecast's `TimeSeriesDataset` see details [here](https://nixtla.github.io/neuralforecast/tsdataset.html)<br>\n",
       "`val_size`: int, size of the validation set, (default 0).<br>\n",
       "`test_size`: int, size of the test set, (default 0).<br>\n",
       "`random_seed`: int, random seed for the prediction.<br>\n",
       "\n",
       "**Returns:**<br>\n",
       "`self`: A fitted base `NeuralForecast` model.<br>"
      ]
     },
     "execution_count": 10,
     "metadata": {},
     "output_type": "execute_result"
    }
   ],
   "source": [
    "show_doc(HINT.fit, title_level=3)"
   ]
  },
  {
   "cell_type": "code",
   "execution_count": 11,
   "metadata": {},
   "outputs": [
    {
     "data": {
      "text/markdown": [
       "---\n",
       "\n",
       "[source](https://github.com/Nixtla/neuralforecast/blob/main/neuralforecast/models/hint.py#L185){target=\"_blank\" style=\"float:right; font-size:smaller\"}\n",
       "\n",
       "### HINT.predict\n",
       "\n",
       ">      HINT.predict (dataset, step_size=1, random_seed=None,\n",
       ">                    **data_module_kwargs)\n",
       "\n",
       "HINT.predict\n",
       "\n",
       "After fitting a base model on the entire hierarchical dataset.\n",
       "HINT ensures hierarchical constraints using bootstrapped sample reconciliation \n",
       "First sampling from its base forecast distribution.\n",
       "\n",
       "**Parameters:**<br>\n",
       "`dataset`: NeuralForecast's `TimeSeriesDataset` see details [here](https://nixtla.github.io/neuralforecast/tsdataset.html)<br>\n",
       "`step_size`: int, steps between sequential predictions, (default 1).<br>\n",
       "`random_seed`: int, random seed for the prediction.<br>\n",
       "`**data_kwarg`: additional parameters for the dataset module.<br>\n",
       "\n",
       "**Returns:**<br>\n",
       "`y_hat`: numpy predictions of the `NeuralForecast` model.<br>"
      ],
      "text/plain": [
       "---\n",
       "\n",
       "[source](https://github.com/Nixtla/neuralforecast/blob/main/neuralforecast/models/hint.py#L185){target=\"_blank\" style=\"float:right; font-size:smaller\"}\n",
       "\n",
       "### HINT.predict\n",
       "\n",
       ">      HINT.predict (dataset, step_size=1, random_seed=None,\n",
       ">                    **data_module_kwargs)\n",
       "\n",
       "HINT.predict\n",
       "\n",
       "After fitting a base model on the entire hierarchical dataset.\n",
       "HINT ensures hierarchical constraints using bootstrapped sample reconciliation \n",
       "First sampling from its base forecast distribution.\n",
       "\n",
       "**Parameters:**<br>\n",
       "`dataset`: NeuralForecast's `TimeSeriesDataset` see details [here](https://nixtla.github.io/neuralforecast/tsdataset.html)<br>\n",
       "`step_size`: int, steps between sequential predictions, (default 1).<br>\n",
       "`random_seed`: int, random seed for the prediction.<br>\n",
       "`**data_kwarg`: additional parameters for the dataset module.<br>\n",
       "\n",
       "**Returns:**<br>\n",
       "`y_hat`: numpy predictions of the `NeuralForecast` model.<br>"
      ]
     },
     "execution_count": 11,
     "metadata": {},
     "output_type": "execute_result"
    }
   ],
   "source": [
    "show_doc(HINT.predict, title_level=3)"
   ]
  },
  {
   "cell_type": "code",
   "execution_count": 12,
   "metadata": {},
   "outputs": [
    {
     "data": {
      "text/markdown": [
       "---\n",
       "\n",
       "[source](https://github.com/Nixtla/neuralforecast/blob/main/neuralforecast/models/hint.py#L236){target=\"_blank\" style=\"float:right; font-size:smaller\"}\n",
       "\n",
       "### HINT.save\n",
       "\n",
       ">      HINT.save (path)\n",
       "\n",
       "HINT.save\n",
       "\n",
       "Save the HINT fitted model to disk.\n",
       "\n",
       "**Parameters:**<br>\n",
       "`path`: str, path to save the model.<br>"
      ],
      "text/plain": [
       "---\n",
       "\n",
       "[source](https://github.com/Nixtla/neuralforecast/blob/main/neuralforecast/models/hint.py#L236){target=\"_blank\" style=\"float:right; font-size:smaller\"}\n",
       "\n",
       "### HINT.save\n",
       "\n",
       ">      HINT.save (path)\n",
       "\n",
       "HINT.save\n",
       "\n",
       "Save the HINT fitted model to disk.\n",
       "\n",
       "**Parameters:**<br>\n",
       "`path`: str, path to save the model.<br>"
      ]
     },
     "execution_count": 12,
     "metadata": {},
     "output_type": "execute_result"
    }
   ],
   "source": [
    "show_doc(HINT.save, title_level=3)"
   ]
  },
  {
   "cell_type": "code",
   "execution_count": 13,
   "metadata": {},
   "outputs": [],
   "source": [
    "# | hide\n",
    "def sort_df_hier(Y_df, S):\n",
    "    # NeuralForecast core, sorts unique_id lexicographically\n",
    "    # by default, this class matches S_df and Y_hat_df order.    \n",
    "    Y_df.unique_id = Y_df.unique_id.astype('category')\n",
    "    Y_df.unique_id = Y_df.unique_id.cat.set_categories(S.index)\n",
    "    Y_df = Y_df.sort_values(by=['unique_id', 'ds'])\n",
    "    return Y_df"
   ]
  },
  {
   "cell_type": "code",
   "execution_count": 14,
   "metadata": {},
   "outputs": [
    {
     "name": "stderr",
     "output_type": "stream",
     "text": [
      "Global seed set to 1\n"
     ]
    },
    {
     "name": "stdout",
     "output_type": "stream",
     "text": [
      "Epoch 98: 100%|██████████| 3/3 [00:00<00:00,  6.06it/s, v_num=102, train_loss_step=6.420, train_loss_epoch=6.170, valid_loss=8.030]\n",
      "Predicting DataLoader 0: 100%|██████████| 3/3 [00:00<00:00, 63.99it/s]\n"
     ]
    }
   ],
   "source": [
    "#| eval: false\n",
    "import numpy as np\n",
    "import pytorch_lightning as pl\n",
    "import matplotlib.pyplot as plt\n",
    "\n",
    "from neuralforecast.losses.pytorch import MQLoss, DistributionLoss, PMM, NBMM\n",
    "from neuralforecast.tsdataset import TimeSeriesDataset\n",
    "from neuralforecast.utils import AirPassengers, AirPassengersPanel, AirPassengersStatic\n",
    "\n",
    "from datasetsforecast.hierarchical import HierarchicalData\n",
    "\n",
    "# Load TourismSmall dataset\n",
    "Y_df, S_df, tags = HierarchicalData.load('./data', 'TourismSmall')\n",
    "Y_df['ds'] = pd.to_datetime(Y_df['ds'])\n",
    "Y_df = sort_df_hier(Y_df, S_df)\n",
    "\n",
    "# Instantiate HINT\n",
    "# Model + Distribution + Reconciliation\n",
    "nhits = NHITS(h=4,\n",
    "              input_size=12,\n",
    "              loss=GMM(n_components=2, level=[80,90]),\n",
    "              max_steps=1000,\n",
    "              early_stop_patience_steps=2,\n",
    "              val_check_steps=100,\n",
    "              scaler_type='robust',\n",
    "              learning_rate=1e-3)\n",
    "model = HINT(h=4, model=nhits, S=S_df.values, reconciliation='MinTraceOLS')\n",
    "\n",
    "# Fit and Predict\n",
    "nf = NeuralForecast(models=[model], freq='Q')\n",
    "Y_hat_df = nf.cross_validation(df=Y_df, val_size=4, n_windows=1)"
   ]
  },
  {
   "cell_type": "code",
   "execution_count": 15,
   "metadata": {},
   "outputs": [
    {
     "data": {
      "text/plain": [
       "[]"
      ]
     },
     "execution_count": 15,
     "metadata": {},
     "output_type": "execute_result"
    },
    {
     "data": {
      "image/png": "[encoded data removed]",
      "text/plain": [
       "<Figure size 640x480 with 1 Axes>"
      ]
     },
     "metadata": {},
     "output_type": "display_data"
    }
   ],
   "source": [
    "#| eval: false\n",
    "# Plot coherent quantile predictions\n",
    "unique_id = 'total'\n",
    "Y_plot_df = Y_df[Y_df.unique_id==unique_id]\n",
    "plot_df = Y_hat_df[Y_hat_df.unique_id==unique_id]\n",
    "plot_df = Y_plot_df.merge(plot_df, on=['ds', 'unique_id'], how='left')\n",
    "\n",
    "plt.plot(plot_df['ds'], plot_df['y_x'], c='black', label='True')\n",
    "plt.plot(plot_df['ds'], plot_df['HINT'], c='purple', label='mean')\n",
    "plt.plot(plot_df['ds'], plot_df['HINT-median'], c='blue', label='median')\n",
    "plt.fill_between(x=plot_df['ds'][-4:],\n",
    "                 y1=plot_df['HINT-lo-90'][-4:].values,\n",
    "                 y2=plot_df['HINT-hi-90'][-4:].values,\n",
    "                 alpha=0.4, label='level 90')\n",
    "plt.legend()\n",
    "plt.grid()\n",
    "plt.plot()"
   ]
  },
  {
   "cell_type": "code",
   "execution_count": 16,
   "metadata": {},
   "outputs": [
    {
     "name": "stderr",
     "output_type": "stream",
     "text": [
      "Global seed set to 1\n"
     ]
    },
    {
     "name": "stdout",
     "output_type": "stream",
     "text": [
      "Epoch 2: 100%|██████████| 1/1 [00:00<00:00,  4.06it/s, v_num=104, train_loss_step=8.65e+3, valid_loss=6.770, train_loss_epoch=8.65e+3]\n",
      "Predicting DataLoader 0: 100%|██████████| 1/1 [00:00<00:00, 25.91it/s]\n",
      "Percentage Difference: 0.01\n",
      "Percentage Difference: 0.01\n",
      "Percentage Difference: 0.0\n",
      "Percentage Difference: 0.0\n",
      "Percentage Difference: 0.0\n",
      "Percentage Difference: 0.02\n",
      "Percentage Difference: 0.01\n",
      "Percentage Difference: 0.0\n",
      "Percentage Difference: 0.0\n",
      "Percentage Difference: 0.0\n",
      "Percentage Difference: 0.0\n",
      "Percentage Difference: 0.01\n"
     ]
    }
   ],
   "source": [
    "# | hide\n",
    "# Unit test to check hierarchical coherence\n",
    "# Probabilistic coherent => Sample coherent => Mean coherence\n",
    "\n",
    "# -----Create synthetic dataset-----\n",
    "np.random.seed(123)\n",
    "train_steps = 20\n",
    "num_levels = 7\n",
    "level = np.arange(0, 100, 0.1)\n",
    "qs = [[50-lv/2, 50+lv/2] for lv in level]\n",
    "quantiles = np.sort(np.concatenate(qs)/100)\n",
    "\n",
    "levels = ['Top', 'Mid1', 'Mid2', 'Bottom1', 'Bottom2', 'Bottom3', 'Bottom4']\n",
    "unique_ids = np.repeat(levels, train_steps)\n",
    "\n",
    "S = np.array([[1., 1., 1., 1.],\n",
    "              [1., 1., 0., 0.],\n",
    "              [0., 0., 1., 1.],\n",
    "              [1., 0., 0., 0.],\n",
    "              [0., 1., 0., 0.],\n",
    "              [0., 0., 1., 0.],\n",
    "              [0., 0., 0., 1.]])\n",
    "\n",
    "S_dict = {col: S[:, i] for i, col in enumerate(levels[3:])}\n",
    "S_df = pd.DataFrame(S_dict, index=levels)\n",
    "\n",
    "ds = pd.date_range(start='2018-03-31', periods=train_steps, freq='Q').tolist() * num_levels\n",
    "# Create Y_df\n",
    "y_lists = [S @ np.random.uniform(low=100, high=500, size=4) for i in range(train_steps)]\n",
    "y = [elem for tup in zip(*y_lists) for elem in tup]\n",
    "Y_df = pd.DataFrame({'unique_id': unique_ids, 'ds': ds, 'y': y})\n",
    "Y_df = sort_df_hier(Y_df, S_df)\n",
    "\n",
    "# ------Fit/Predict HINT Model------\n",
    "# Model + Distribution + Reconciliation\n",
    "nhits = NHITS(h=4,\n",
    "              input_size=4,\n",
    "              loss=GMM(n_components=2, quantiles=quantiles, num_samples=len(quantiles)),\n",
    "              max_steps=5,\n",
    "              early_stop_patience_steps=2,\n",
    "              val_check_steps=1,\n",
    "              scaler_type='robust',\n",
    "              learning_rate=1e-3)\n",
    "model = HINT(h=4, model=nhits, S=S, reconciliation='BottomUp')\n",
    "\n",
    "# Fit and Predict\n",
    "nf = NeuralForecast(models=[model], freq='Q')\n",
    "forecasts = nf.cross_validation(df=Y_df, val_size=4, n_windows=1)\n",
    "\n",
    "# ---Check Hierarchical Coherence---\n",
    "parent_children_dict = {0: [1, 2], 1: [3, 4], 2: [5, 6]}\n",
    "eps = 0.03\n",
    "# check coherence for each horizon time step\n",
    "for _, df in forecasts.groupby('ds'):\n",
    "    hint_mean = df['HINT'].values\n",
    "    for parent_idx, children_list in parent_children_dict.items():\n",
    "        parent_value = hint_mean[parent_idx]\n",
    "        children_sum = hint_mean[children_list].sum()\n",
    "        percent_diff = np.round(abs(parent_value-children_sum)/parent_value * 100, 2)\n",
    "        print(f\"Percentage Difference: {percent_diff}\")\n",
    "        assert percent_diff < eps"
   ]
  },
  {
   "cell_type": "code",
   "execution_count": null,
   "metadata": {},
   "outputs": [],
   "source": []
  }
 ],
 "metadata": {
  "kernelspec": {
   "display_name": "python3",
   "language": "python",
   "name": "python3"
  },
  "language_info": {
   "codemirror_mode": {
    "name": "ipython",
    "version": 3
   },
   "file_extension": ".py",
   "mimetype": "text/x-python",
   "name": "python",
   "nbconvert_exporter": "python",
   "pygments_lexer": "ipython3",
   "version": "3.8.16"
  }
 },
 "nbformat": 4,
 "nbformat_minor": 4
}
