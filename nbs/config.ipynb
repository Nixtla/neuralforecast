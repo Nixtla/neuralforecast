{
 "cells": [
  {
   "cell_type": "code",
   "execution_count": null,
   "id": "06dabc05-6dc5-4cb2-afde-62a1dd58f606",
   "metadata": {},
   "outputs": [],
   "source": [
    "#| default_exp config"
   ]
  },
  {
   "cell_type": "code",
   "execution_count": null,
   "id": "e84cc420-9d82-4e69-abe2-87564faeb159",
   "metadata": {},
   "outputs": [],
   "source": [
    "#| export\n",
    "id_as_index = True"
   ]
  }
 ],
 "metadata": {
  "kernelspec": {
   "display_name": "python3",
   "language": "python",
   "name": "python3"
  }
 },
 "nbformat": 4,
 "nbformat_minor": 5
}
