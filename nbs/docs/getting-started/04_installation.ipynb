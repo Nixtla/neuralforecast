{
 "cells": [
  {
   "attachments": {},
   "cell_type": "markdown",
   "id": "14f5686c-449b-4376-8c58-fc8141f4b0f8",
   "metadata": {},
   "source": [
    "# Installation\n",
    "\n",
    "> Install NeuralForecast with pip or conda"
   ]
  },
  {
   "attachments": {},
   "cell_type": "markdown",
   "id": "0f1d1483-6da7-4372-8390-84c9c280109e",
   "metadata": {},
   "source": [
    "You can install the *released version* of `NeuralForecast` from the [Python package index](https://pypi.org) with:\n",
    "\n",
    "```shell\n",
    "pip install neuralforecast\n",
    "```\n",
    "\n",
    "or \n",
    "\n",
    "```shell\n",
    "conda install -c conda-forge neuralforecast\n",
    "``` \n",
    "\n",
    ":::{.callout-tip}\n",
    "Neural Forecasting methods profit from using GPU computation. Be sure to have Cuda installed.\n",
    ":::\n",
    "\n",
    ":::{.callout-warning}\n",
    "We are constantly updating neuralforecast, so we suggest fixing the version to avoid issues. `pip install neuralforecast==\"1.0.0\"`\n",
    ":::\n",
    "\n",
    ":::{.callout-tip}\n",
    "We recommend installing your libraries inside a python virtual or [conda environment](https://docs.conda.io/projects/conda/en/latest/user-guide/install/macos.html).\n",
    ":::\n",
    "\n",
    "## Extras\n",
    "You can use the following extras to add optional functionality:\n",
    "\n",
    "* distributed training with spark: `pip install neuralforecast[spark]`\n",
    "* saving and loading from S3: `pip install neuralforecast[aws]`\n",
    "\n",
    "#### User our env (optional)\n",
    "\n",
    "If you don't have a Conda environment and need tools like Numba, Pandas, NumPy, Jupyter, Tune, and Nbdev you can use ours by following these steps:\n",
    "\n",
    "1. Clone the NeuralForecast repo: \n",
    "\n",
    "```bash \n",
    "$ git clone https://github.com/Nixtla/neuralforecast.git && cd neuralforecast\n",
    "```\n",
    "\n",
    "2. Create the environment using the `environment.yml` file: \n",
    "\n",
    "```bash \n",
    "$ conda env create -f environment.yml\n",
    "```\n",
    "\n",
    "3. Activate the environment:\n",
    "```bash\n",
    "$ conda activate neuralforecast\n",
    "```\n",
    "\n",
    "4. Install NeuralForecast Dev\n",
    "```bash\n",
    "$ pip install -e \".[dev]\"\n",
    "```"
   ]
  },
  {
   "cell_type": "markdown",
   "id": "b9084b7a",
   "metadata": {},
   "source": []
  }
 ],
 "metadata": {
  "kernelspec": {
   "display_name": "python3",
   "language": "python",
   "name": "python3"
  }
 },
 "nbformat": 4,
 "nbformat_minor": 5
}
