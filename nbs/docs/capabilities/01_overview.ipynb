{
 "cells": [
  {
   "cell_type": "markdown",
   "metadata": {},
   "source": [
    "# Forecasting Models"
   ]
  },
  {
   "cell_type": "markdown",
   "metadata": {},
   "source": [
    "NeuralForecast currently offers the following models.\n",
    "\n",
    "| Model<sup>1</sup> | AutoModel<sup>2</sup> | Family<sup>3</sup> | Univariate / Multivariate<sup>4</sup> | Forecast Type<sup>5</sup>           | Exogenous<sup>6</sup> |\n",
    "|:------|:----------|:-------------|:--------------------------|:--------------|:----------------|\n",
    "|[`AutoFormer`](../../models.autoformer.html) | [`AutoAutoFormer`](../../models.html#autoautoformer) | Transformer | Univariate | Direct | F |\n",
    "|[`BiTCN`](../../models.bitcn.html) | [`AutoBiTCN`](../../models.html#autobitcn) | CNN | Univariate | Direct | F/H/S | \n",
    "|[`DeepAR`](../../models.deepar.html) | [`AutoDeepAR`](../../models.html#autodeepar) | RNN | Univariate | Recursive | F/S | \n",
    "|[`DeepNPTS`](../../models.deepnpts.html) | [`AutoDeepNPTS`](../../models.html#autodeepnpts) | MLP | Univariate | Direct  | F/H/S | \n",
    "|[`DilatedRNN`](../../models.dilated_rnn.html) | [`AutoDilatedRNN`](../../models.html#autodilatedrnn) | RNN | Univariate | Recursive  | F/H/S | \n",
    "|[`FEDformer`](../../models.fedformer.html) | [`AutoFEDformer`](../../models.html#autofedformer) | Transformer | Univariate | Direct  | F | \n",
    "|[`GRU`](../../models.gru.html) | [`AutoGRU`](../../models.html#autogru) | RNN | Univariate | Recursive  | F/H/S | \n",
    "|[`HINT`](../../models.hint.html) | [`AutoHINT`](../../models.html#autohint) | Any<sup>7</sup> | Both<sup>7</sup> | Both<sup>7</sup>  | F/H/S | \n",
    "|[`Informer`](../../models.informer.html) | [`AutoInformer`](../../models.html#autoitransformer) | Transformer | Multivariate | Direct  | F | \n",
    "|[`iTransformer`](../../models.itransformer.html) | [`AutoiTransformer`](../../models.html#autoinformer) | Transformer | Multivariate | Direct  | - | \n",
    "|[`KAN`](../../models.kan.html) | [`AutoKAN`](../../models.html#autokan) | KAN | Univariate | Direct  | - | \n",
    "|[`LSTM`](../../models.lstm.html) | [`AutoLSTM`](../../models.html#autolstm) | RNN | Univariate | Recursive | F/H/S | \n",
    "|[`MLP`](../../models.mlp.html) | [`AutoMLP`](../../models.html#automlp) | MLP | Univariate | Direct | F/H/S | \n",
    "|[`MLPMultivariate`](../../models.mlpmultivariate.html) | [`AutoMLPMultivariate`](../../models.html#automlpmultivariate) | MLP | Multivariate | Direct  | F/H/S | \n",
    "|[`NBEATS`](../../models.nbeats.html) | [`AutoNBEATS`](../../models.html#autonbeats) | MLP | Univariate | Direct  | - | \n",
    "|[`NBEATSx`](../../models.nbeatsx.html) | [`AutoNBEATSx`](../../models.html#autonbeatsx) | MLP | Univariate | Direct  | F/H/S | \n",
    "|[`NHITS`](../../models.nhits.html) | [`AutoNHITS`](../../models.html#autonhits) | MLP | Univariate | Direct | F/H/S | \n",
    "|[`NLinear`](../../models.nlinear.html) | [`AutoNLinear`](../../models.html#autonlinear) | MLP | Univariate | Direct  | - | \n",
    "|[`PatchTST`](../../models.patchtst.html) | [`AutoPatchTST`](../../models.html#autopatchtst) | Transformer | Univariate | Direct  | - | \n",
    "|[`RNN`](../../models.rnn.html) | [`AutoRNN`](../../models.html#autornn) | RNN | Univariate | Recursive  | F/H/S | \n",
    "|[`SOFTS`](../../models.softs.html) | [`AutoSOFTS`](../../models.html#autosofts) | MLP | Multivariate | Direct  | - | \n",
    "|[`StemGNN`](../../models.stemgnn.html) | [`AutoStemGNN`](../../models.html#autostemgnn) | GNN | Multivariate | Direct  | - | \n",
    "|[`TCN`](../../models.tcn.html) | [`AutoTCN`](../../models.html#autotcn) | CNN | Univariate | Recursive  | F/H/S | \n",
    "|[`TFT`](../../models.tft.html) | [`AutoTFT`](../../models.html#autotft) | Transformer | Univariate | Direct  | F/H/S | \n",
    "|[`TiDE`](../../models.tide.html) | [`AutoTiDE`](../../models.html#autotide) | MLP | Univariate | Direct  | F/H/S | \n",
    "|[`TimeMixer`](../../models.timemixer.html) | [`AutoTimeMixer`](../../models.html#autotimemixer) | MLP | Multivariate | Direct  | F | \n",
    "|[`TimeLLM`](../../models.timellm.html) | - | LLM | Univariate | Direct  | - | \n",
    "|[`TimesNet`](../../models.timesnet.html) | [`AutoTimesNet`](../../models.html#autotimesnet) | CNN | Univariate | Direct  | F | \n",
    "|[`TSMixer`](../../models.tsmixer.html) | [`AutoTSMixer`](../../models.html#autotsmixer) | MLP | Multivariate | Direct  | - | \n",
    "|[`TSMixerx`](../../models.tsmixerx.html) | [`AutoTSMixerx`](../../models.html#autotsmixerx) | MLP | Multivariate | Direct  | F/H/S | \n",
    "|[`VanillaTransformer`](../../models.vanillatransformer.html) | [`AutoTSMixerx`](../../models.html#autovanillatransformer) | Transformer | Univariate | Direct  | F | \n",
    "\n",
    "1. **Model**: The model name.\n",
    "2. **AutoModel**: NeuralForecast offers most models also in an Auto* version, in which the hyperparameters of the underlying model are automatically optimized and the best-performing model for a validation set is selected. The optimization methods include grid search, random search, and Bayesian optimization.\n",
    "3. **Family**: The main neural network architecture underpinning the model. \n",
    "4. **Univariate / Multivariate**: A multivariate model explicitly models the interactions between multiple time series in a dataset and will provide predictions for multiple time series concurrently. In contrast, a univariate model trained on multiple time series implicitly models interactions between multiple time series and provides predictions for single time series concurrently. Multivariate models are typically computationally expensive and empirically do not necessarily offer better forecasting performance compared to using a univariate model.\n",
    "5. **Forecast Type**: Direct forecast models are models that produce all steps in the forecast horizon at once. In contrast, recursive forecast models predict one-step ahead, and subsequently use the prediction to compute the next step in the forecast horizon, and so forth. Direct forecast models typically suffer less from bias and variance propagation as compared to recursive forecast models, whereas recursive models can be computationally less expensive.\n",
    "6. **Exogenous**: Whether the model accepts exogenous variables. This can be exogenous variables that contain information about the past and future (F), about the past only (_historical_, H), or that contain static information (_static_, S).\n",
    "7. __HINT__ is a modular framework that can combine any type of neural architecture with task-specialized mixture probability and advanced hierarchical reconciliation strategies."
   ]
  }
 ],
 "metadata": {},
 "nbformat": 4,
 "nbformat_minor": 2
}
