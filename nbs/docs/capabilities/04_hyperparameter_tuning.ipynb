{
 "cells": [
  {
   "attachments": {},
   "cell_type": "markdown",
   "metadata": {},
   "source": [
    "# Hyperparameter Optimization"
   ]
  },
  {
   "attachments": {},
   "cell_type": "markdown",
   "metadata": {},
   "source": [
    "Deep-learning models are the state-of-the-art in time series forecasting. They have outperformed statistical and tree-based approaches in recent large-scale competitions, such as the M series, and are being increasingly adopted in industry. However, their performance is greatly affected by the choice of hyperparameters. Selecting the optimal configuration, a process called hyperparameter tuning, is essential to achieve the best performance.\n",
    "\n",
    "The main steps of hyperparameter tuning are:\n",
    "\n",
    " 1. Define training and validation sets.\n",
    " 2. Define search space.\n",
    " 3. Sample configurations with a search algorithm, train models, and evaluate them on the validation set.\n",
    " 4. Select and store the best model.\n",
    "\n",
    "With `Neuralforecast`, we automatize and simplify the hyperparameter tuning process with the `Auto` models. Every model in the library has an `Auto` version (for example, `AutoNHITS`, `AutoTFT`) which can perform automatic hyperparameter selection on default or user-defined search space.\n",
    "\n",
    "The `Auto` models can be used with two backends: Ray's `Tune` library and `Optuna`, with a user-friendly and simplified API, with most of their capabilities.\n",
    "\n",
    "In this tutorial, we show in detail how to instantiate and train an `AutoNHITS` model with a custom search space with both `Tune` and `Optuna` backends, install and use `HYPEROPT` search algorithm, and use the model with optimal hyperparameters to forecast."
   ]
  },
  {
   "attachments": {},
   "cell_type": "markdown",
   "metadata": {},
   "source": [
    "You can run these experiments using GPU with Google Colab.\n",
    "\n",
    "<a href=\"https://colab.research.google.com/github/Nixtla/neuralforecast/blob/main/nbs/examples/Automatic_Hyperparameter_Tuning.ipynb\" target=\"_parent\"><img src=\"https://colab.research.google.com/assets/colab-badge.svg\" alt=\"Open In Colab\"/></a>"
   ]
  },
  {
   "attachments": {},
   "cell_type": "markdown",
   "metadata": {},
   "source": [
    "## 1. Install `Neuralforecast`"
   ]
  },
  {
   "cell_type": "code",
   "execution_count": null,
   "metadata": {},
   "outputs": [],
   "source": [
    "%%capture\n",
    "# !pip install neuralforecast hyperopt"
   ]
  },
  {
   "attachments": {},
   "cell_type": "markdown",
   "metadata": {},
   "source": [
    "## 2. Load Data\n",
    "\n",
    "In this example we will use the `AirPasengers`, a popular dataset with monthly airline passengers in the US from 1949 to 1960. Load the data, available at our `utils` methods in the required format. See https://nixtla.github.io/neuralforecast/examples/data_format.html for more details on the data input format."
   ]
  },
  {
   "cell_type": "code",
   "execution_count": null,
   "metadata": {},
   "outputs": [],
   "source": [
    "import logging\n",
    "\n",
    "from neuralforecast.utils import AirPassengersDF"
   ]
  },
  {
   "cell_type": "code",
   "execution_count": null,
   "metadata": {},
   "outputs": [],
   "source": [
    "logging.getLogger('pytorch_lightning').setLevel(logging.ERROR)"
   ]
  },
  {
   "cell_type": "code",
   "execution_count": null,
   "metadata": {},
   "outputs": [
    {
     "data": {
      "text/html": [
       "<div>\n",
       "<style scoped>\n",
       "    .dataframe tbody tr th:only-of-type {\n",
       "        vertical-align: middle;\n",
       "    }\n",
       "\n",
       "    .dataframe tbody tr th {\n",
       "        vertical-align: top;\n",
       "    }\n",
       "\n",
       "    .dataframe thead th {\n",
       "        text-align: right;\n",
       "    }\n",
       "</style>\n",
       "<table border=\"1\" class=\"dataframe\">\n",
       "  <thead>\n",
       "    <tr style=\"text-align: right;\">\n",
       "      <th></th>\n",
       "      <th>unique_id</th>\n",
       "      <th>ds</th>\n",
       "      <th>y</th>\n",
       "    </tr>\n",
       "  </thead>\n",
       "  <tbody>\n",
       "    <tr>\n",
       "      <th>0</th>\n",
       "      <td>1.0</td>\n",
       "      <td>1949-01-31</td>\n",
       "      <td>112.0</td>\n",
       "    </tr>\n",
       "    <tr>\n",
       "      <th>1</th>\n",
       "      <td>1.0</td>\n",
       "      <td>1949-02-28</td>\n",
       "      <td>118.0</td>\n",
       "    </tr>\n",
       "    <tr>\n",
       "      <th>2</th>\n",
       "      <td>1.0</td>\n",
       "      <td>1949-03-31</td>\n",
       "      <td>132.0</td>\n",
       "    </tr>\n",
       "    <tr>\n",
       "      <th>3</th>\n",
       "      <td>1.0</td>\n",
       "      <td>1949-04-30</td>\n",
       "      <td>129.0</td>\n",
       "    </tr>\n",
       "    <tr>\n",
       "      <th>4</th>\n",
       "      <td>1.0</td>\n",
       "      <td>1949-05-31</td>\n",
       "      <td>121.0</td>\n",
       "    </tr>\n",
       "  </tbody>\n",
       "</table>\n",
       "</div>"
      ],
      "text/plain": [
       "   unique_id         ds      y\n",
       "0        1.0 1949-01-31  112.0\n",
       "1        1.0 1949-02-28  118.0\n",
       "2        1.0 1949-03-31  132.0\n",
       "3        1.0 1949-04-30  129.0\n",
       "4        1.0 1949-05-31  121.0"
      ]
     },
     "execution_count": null,
     "metadata": {},
     "output_type": "execute_result"
    }
   ],
   "source": [
    "Y_df = AirPassengersDF\n",
    "Y_df.head()"
   ]
  },
  {
   "cell_type": "markdown",
   "metadata": {},
   "source": [
    "## 3. Ray's `Tune` backend"
   ]
  },
  {
   "cell_type": "markdown",
   "metadata": {},
   "source": [
    "First, we show how to use the `Tune` backend. This backend is based on Ray's `Tune` library, which is a scalable framework for hyperparameter tuning. It is a popular library in the machine learning community, and it is used by many companies and research labs. If you plan to use the `Optuna` backend, you can skip this section."
   ]
  },
  {
   "attachments": {},
   "cell_type": "markdown",
   "metadata": {},
   "source": [
    "### 3.a Define hyperparameter grid"
   ]
  },
  {
   "attachments": {},
   "cell_type": "markdown",
   "metadata": {},
   "source": [
    "Each `Auto` model contains a default search space that was extensively tested on multiple large-scale datasets. Search spaces are specified with dictionaries, where keys corresponds to the model's hyperparameter and the value is a `Tune` function to specify how the hyperparameter will be sampled. For example, use `randint` to sample integers uniformly, and `choice` to sample values of a list. "
   ]
  },
  {
   "cell_type": "markdown",
   "metadata": {},
   "source": [
    "### 3.a.1 Default hyperparameter grid\n",
    "\n",
    "The default search space dictionary can be accessed through the `get_default_config` function of the `Auto` model. This is useful if you wish to use the default parameter configuration but want to change one or more hyperparameter spaces without changing the other default values.\n",
    "\n",
    "To extract the default config, you need to define:\n",
    "* `h`: forecasting horizon.\n",
    "* `backend`: backend to use.\n",
    "* `n_series`: Optional, the number of unique time series, required only for Multivariate models. \n",
    "\n",
    "In this example, we will use `h=12` and we use `ray` as backend. We will use the default hyperparameter space but only change `random_seed` range and `n_pool_kernel_size`."
   ]
  },
  {
   "cell_type": "code",
   "execution_count": null,
   "metadata": {},
   "outputs": [],
   "source": [
    "from ray import tune\n",
    "from neuralforecast.auto import AutoNHITS"
   ]
  },
  {
   "cell_type": "code",
   "execution_count": null,
   "metadata": {},
   "outputs": [],
   "source": [
    "nhits_config = AutoNHITS.get_default_config(h = 12, backend=\"ray\")                      # Extract the default hyperparameter settings\n",
    "nhits_config[\"random_seed\"] = tune.randint(1, 10)                                       # Random seed\n",
    "nhits_config[\"n_pool_kernel_size\"] = tune.choice([[2, 2, 2], [16, 8, 1]])               # MaxPool's Kernelsize"
   ]
  },
  {
   "cell_type": "markdown",
   "metadata": {},
   "source": [
    "### 3.a.2 Custom hyperparameter grid\n",
    "\n",
    "More generally, users can define fully customized search spaces tailored for particular datasets and tasks, by fully specifying a hyperparameter search space dictionary.\n",
    "\n",
    "In the following example we are optimizing the `learning_rate` and two `NHITS` specific hyperparameters: `n_pool_kernel_size` and `n_freq_downsample`. Additionaly, we use the search space to modify default hyperparameters, such as `max_steps` and `val_check_steps`. "
   ]
  },
  {
   "cell_type": "code",
   "execution_count": null,
   "metadata": {},
   "outputs": [],
   "source": [
    "nhits_config = {\n",
    "   \"max_steps\": 100,                                                         # Number of SGD steps\n",
    "   \"input_size\": 24,                                                         # Size of input window\n",
    "   \"learning_rate\": tune.loguniform(1e-5, 1e-1),                             # Initial Learning rate\n",
    "   \"n_pool_kernel_size\": tune.choice([[2, 2, 2], [16, 8, 1]]),               # MaxPool's Kernelsize\n",
    "   \"n_freq_downsample\": tune.choice([[168, 24, 1], [24, 12, 1], [1, 1, 1]]), # Interpolation expressivity ratios\n",
    "   \"val_check_steps\": 50,                                                    # Compute validation every 50 steps\n",
    "   \"random_seed\": tune.randint(1, 10),                                       # Random seed\n",
    "}"
   ]
  },
  {
   "attachments": {},
   "cell_type": "markdown",
   "metadata": {},
   "source": [
    ":::{.callout-important}\n",
    "Configuration dictionaries are not interchangeable between models since they have different hyperparameters. Refer to https://nixtla.github.io/neuralforecast/models.html for a complete list of each model's hyperparameters.\n",
    ":::"
   ]
  },
  {
   "attachments": {},
   "cell_type": "markdown",
   "metadata": {},
   "source": [
    "### 3.b Instantiate `Auto` model"
   ]
  },
  {
   "attachments": {},
   "cell_type": "markdown",
   "metadata": {},
   "source": [
    "To instantiate an `Auto` model you need to define:\n",
    "\n",
    "* `h`: forecasting horizon.\n",
    "* `loss`: training and validation loss from `neuralforecast.losses.pytorch`.\n",
    "* `config`: hyperparameter search space. If `None`, the `Auto` class will use a pre-defined suggested hyperparameter space. \n",
    "* `search_alg`: search algorithm (from `tune.search`), default is random search. Refer to https://docs.ray.io/en/latest/tune/api_docs/suggestion.html for more information on the different search algorithm options.\n",
    "* `backend`: backend to use, default is `ray`. If `optuna`, the `Auto` class will use the `Optuna` backend.\n",
    "* `num_samples`: number of configurations explored."
   ]
  },
  {
   "attachments": {},
   "cell_type": "markdown",
   "metadata": {},
   "source": [
    "In this example we set horizon `h` as 12, use the `MAE` loss for training and validation, and use the `HYPEROPT` search algorithm. "
   ]
  },
  {
   "cell_type": "code",
   "execution_count": null,
   "metadata": {},
   "outputs": [],
   "source": [
    "from ray.tune.search.hyperopt import HyperOptSearch\n",
    "from neuralforecast.losses.pytorch import MAE\n",
    "from neuralforecast.auto import AutoNHITS"
   ]
  },
  {
   "cell_type": "code",
   "execution_count": null,
   "metadata": {},
   "outputs": [],
   "source": [
    "model = AutoNHITS(\n",
    "    h=12,\n",
    "    loss=MAE(),\n",
    "    config=nhits_config,\n",
    "    search_alg=HyperOptSearch(),\n",
    "    backend='ray',\n",
    "    num_samples=10,\n",
    ")"
   ]
  },
  {
   "attachments": {},
   "cell_type": "markdown",
   "metadata": {},
   "source": [
    ":::{.callout-tip}\n",
    "The number of samples, `num_samples`, is a crucial parameter! Larger values will usually produce better results as we explore more configurations in the search space, but it will increase training times. Larger search spaces will usually require more samples. As a general rule, we recommend setting `num_samples` higher than 20. We set 10 in this example for demonstration purposes.\n",
    ":::"
   ]
  },
  {
   "attachments": {},
   "cell_type": "markdown",
   "metadata": {},
   "source": [
    "### 3.c Train model and predict with `Core` class"
   ]
  },
  {
   "attachments": {},
   "cell_type": "markdown",
   "metadata": {},
   "source": [
    "Next, we use the `Neuralforecast` class to train the `Auto` model. In this step, `Auto` models will automatically perform hyperparamter tuning training multiple models with different hyperparameters, producing the forecasts on the validation set, and evaluating them. The best configuration is selected based on the error on a validation set. Only the best model is stored and used during inference."
   ]
  },
  {
   "cell_type": "code",
   "execution_count": null,
   "metadata": {},
   "outputs": [],
   "source": [
    "from neuralforecast import NeuralForecast"
   ]
  },
  {
   "attachments": {},
   "cell_type": "markdown",
   "metadata": {},
   "source": [
    "Use the `val_size` parameter of the `fit` method to control the length of the validation set. In this case we set the validation set as twice the forecasting horizon."
   ]
  },
  {
   "cell_type": "code",
   "execution_count": null,
   "metadata": {},
   "outputs": [
    {
     "name": "stderr",
     "output_type": "stream",
     "text": [
      "2024-11-26 22:33:17,185\tINFO worker.py:1786 -- Started a local Ray instance.\n",
      "2024-11-26 22:33:17,935\tINFO tune.py:253 -- Initializing Ray automatically. For cluster usage or custom Ray initialization, call `ray.init(...)` before `Tuner(...)`.\n",
      "2024-11-26 22:33:17,937\tINFO tune.py:616 -- [output] This uses the legacy output and progress reporter, as Jupyter notebooks are not supported by the new engine, yet. For more information, please see https://github.com/ray-project/ray/issues/36949\n",
      "2024-11-26 22:33:24,269\tINFO tensorboardx.py:308 -- Removed the following hyperparameter values when logging to tensorboard: {'loss': ('__ref_ph', 'de895953'), 'n_freq_downsample': (1, 1, 1), 'n_pool_kernel_size': (16, 8, 1), 'valid_loss': ('__ref_ph', '004b9a7a')}\n",
      "2024-11-26 22:33:31,283\tINFO tensorboardx.py:308 -- Removed the following hyperparameter values when logging to tensorboard: {'loss': ('__ref_ph', 'de895953'), 'n_freq_downsample': (168, 24, 1), 'n_pool_kernel_size': (16, 8, 1), 'valid_loss': ('__ref_ph', '004b9a7a')}\n",
      "2024-11-26 22:33:39,368\tINFO tensorboardx.py:308 -- Removed the following hyperparameter values when logging to tensorboard: {'loss': ('__ref_ph', 'de895953'), 'n_freq_downsample': (24, 12, 1), 'n_pool_kernel_size': (16, 8, 1), 'valid_loss': ('__ref_ph', '004b9a7a')}\n",
      "2024-11-26 22:33:47,528\tINFO tensorboardx.py:308 -- Removed the following hyperparameter values when logging to tensorboard: {'loss': ('__ref_ph', 'de895953'), 'n_freq_downsample': (24, 12, 1), 'n_pool_kernel_size': (16, 8, 1), 'valid_loss': ('__ref_ph', '004b9a7a')}\n",
      "2024-11-26 22:33:54,273\tINFO tensorboardx.py:308 -- Removed the following hyperparameter values when logging to tensorboard: {'loss': ('__ref_ph', 'de895953'), 'n_freq_downsample': (1, 1, 1), 'n_pool_kernel_size': (2, 2, 2), 'valid_loss': ('__ref_ph', '004b9a7a')}\n",
      "2024-11-26 22:34:01,148\tINFO tensorboardx.py:308 -- Removed the following hyperparameter values when logging to tensorboard: {'loss': ('__ref_ph', 'de895953'), 'n_freq_downsample': (168, 24, 1), 'n_pool_kernel_size': (16, 8, 1), 'valid_loss': ('__ref_ph', '004b9a7a')}\n",
      "2024-11-26 22:34:08,180\tINFO tensorboardx.py:308 -- Removed the following hyperparameter values when logging to tensorboard: {'loss': ('__ref_ph', 'de895953'), 'n_freq_downsample': (1, 1, 1), 'n_pool_kernel_size': (16, 8, 1), 'valid_loss': ('__ref_ph', '004b9a7a')}\n",
      "2024-11-26 22:34:15,137\tINFO tensorboardx.py:308 -- Removed the following hyperparameter values when logging to tensorboard: {'loss': ('__ref_ph', 'de895953'), 'n_freq_downsample': (1, 1, 1), 'n_pool_kernel_size': (16, 8, 1), 'valid_loss': ('__ref_ph', '004b9a7a')}\n",
      "2024-11-26 22:34:21,028\tINFO tensorboardx.py:308 -- Removed the following hyperparameter values when logging to tensorboard: {'loss': ('__ref_ph', 'de895953'), 'n_freq_downsample': (24, 12, 1), 'n_pool_kernel_size': (16, 8, 1), 'valid_loss': ('__ref_ph', '004b9a7a')}\n",
      "2024-11-26 22:34:27,260\tINFO tensorboardx.py:308 -- Removed the following hyperparameter values when logging to tensorboard: {'loss': ('__ref_ph', 'de895953'), 'n_freq_downsample': (168, 24, 1), 'n_pool_kernel_size': (2, 2, 2), 'valid_loss': ('__ref_ph', '004b9a7a')}\n",
      "2024-11-26 22:34:27,275\tINFO tune.py:1009 -- Wrote the latest version of all result files and experiment state to '/home/ubuntu/ray_results/_train_tune_2024-11-26_22-33-16' in 0.0115s.\n",
      "Seed set to 3\n"
     ]
    }
   ],
   "source": [
    "%%capture\n",
    "nf = NeuralForecast(models=[model], freq='ME')\n",
    "nf.fit(df=Y_df, val_size=24)"
   ]
  },
  {
   "attachments": {},
   "cell_type": "markdown",
   "metadata": {},
   "source": [
    "The results of the hyperparameter tuning are available in the `results` attribute of the `Auto` model. Use the `get_dataframe` method to get the results in a pandas dataframe."
   ]
  },
  {
   "cell_type": "code",
   "execution_count": null,
   "metadata": {},
   "outputs": [
    {
     "data": {
      "text/html": [
       "<div>\n",
       "<style scoped>\n",
       "    .dataframe tbody tr th:only-of-type {\n",
       "        vertical-align: middle;\n",
       "    }\n",
       "\n",
       "    .dataframe tbody tr th {\n",
       "        vertical-align: top;\n",
       "    }\n",
       "\n",
       "    .dataframe thead th {\n",
       "        text-align: right;\n",
       "    }\n",
       "</style>\n",
       "<table border=\"1\" class=\"dataframe\">\n",
       "  <thead>\n",
       "    <tr style=\"text-align: right;\">\n",
       "      <th></th>\n",
       "      <th>loss</th>\n",
       "      <th>train_loss</th>\n",
       "      <th>timestamp</th>\n",
       "      <th>checkpoint_dir_name</th>\n",
       "      <th>done</th>\n",
       "      <th>training_iteration</th>\n",
       "      <th>trial_id</th>\n",
       "      <th>date</th>\n",
       "      <th>time_this_iter_s</th>\n",
       "      <th>time_total_s</th>\n",
       "      <th>...</th>\n",
       "      <th>config/input_size</th>\n",
       "      <th>config/learning_rate</th>\n",
       "      <th>config/n_pool_kernel_size</th>\n",
       "      <th>config/n_freq_downsample</th>\n",
       "      <th>config/val_check_steps</th>\n",
       "      <th>config/random_seed</th>\n",
       "      <th>config/h</th>\n",
       "      <th>config/loss</th>\n",
       "      <th>config/valid_loss</th>\n",
       "      <th>logdir</th>\n",
       "    </tr>\n",
       "  </thead>\n",
       "  <tbody>\n",
       "    <tr>\n",
       "      <th>0</th>\n",
       "      <td>21.948565</td>\n",
       "      <td>11.748630</td>\n",
       "      <td>1732660404</td>\n",
       "      <td>None</td>\n",
       "      <td>False</td>\n",
       "      <td>2</td>\n",
       "      <td>e684ab59</td>\n",
       "      <td>2024-11-26_22-33-24</td>\n",
       "      <td>0.473169</td>\n",
       "      <td>1.742914</td>\n",
       "      <td>...</td>\n",
       "      <td>24</td>\n",
       "      <td>0.000583</td>\n",
       "      <td>(16, 8, 1)</td>\n",
       "      <td>(1, 1, 1)</td>\n",
       "      <td>50</td>\n",
       "      <td>9</td>\n",
       "      <td>12</td>\n",
       "      <td>MAE()</td>\n",
       "      <td>MAE()</td>\n",
       "      <td>e684ab59</td>\n",
       "    </tr>\n",
       "    <tr>\n",
       "      <th>1</th>\n",
       "      <td>23.497557</td>\n",
       "      <td>13.491600</td>\n",
       "      <td>1732660411</td>\n",
       "      <td>None</td>\n",
       "      <td>False</td>\n",
       "      <td>2</td>\n",
       "      <td>28016d96</td>\n",
       "      <td>2024-11-26_22-33-31</td>\n",
       "      <td>0.467711</td>\n",
       "      <td>1.767644</td>\n",
       "      <td>...</td>\n",
       "      <td>24</td>\n",
       "      <td>0.000222</td>\n",
       "      <td>(16, 8, 1)</td>\n",
       "      <td>(168, 24, 1)</td>\n",
       "      <td>50</td>\n",
       "      <td>5</td>\n",
       "      <td>12</td>\n",
       "      <td>MAE()</td>\n",
       "      <td>MAE()</td>\n",
       "      <td>28016d96</td>\n",
       "    </tr>\n",
       "    <tr>\n",
       "      <th>2</th>\n",
       "      <td>29.214516</td>\n",
       "      <td>16.968582</td>\n",
       "      <td>1732660419</td>\n",
       "      <td>None</td>\n",
       "      <td>False</td>\n",
       "      <td>2</td>\n",
       "      <td>ded66a42</td>\n",
       "      <td>2024-11-26_22-33-39</td>\n",
       "      <td>0.969751</td>\n",
       "      <td>2.623766</td>\n",
       "      <td>...</td>\n",
       "      <td>24</td>\n",
       "      <td>0.009816</td>\n",
       "      <td>(16, 8, 1)</td>\n",
       "      <td>(24, 12, 1)</td>\n",
       "      <td>50</td>\n",
       "      <td>5</td>\n",
       "      <td>12</td>\n",
       "      <td>MAE()</td>\n",
       "      <td>MAE()</td>\n",
       "      <td>ded66a42</td>\n",
       "    </tr>\n",
       "    <tr>\n",
       "      <th>3</th>\n",
       "      <td>45.178616</td>\n",
       "      <td>28.338690</td>\n",
       "      <td>1732660427</td>\n",
       "      <td>None</td>\n",
       "      <td>False</td>\n",
       "      <td>2</td>\n",
       "      <td>2964d41f</td>\n",
       "      <td>2024-11-26_22-33-47</td>\n",
       "      <td>0.985556</td>\n",
       "      <td>2.656381</td>\n",
       "      <td>...</td>\n",
       "      <td>24</td>\n",
       "      <td>0.012083</td>\n",
       "      <td>(16, 8, 1)</td>\n",
       "      <td>(24, 12, 1)</td>\n",
       "      <td>50</td>\n",
       "      <td>7</td>\n",
       "      <td>12</td>\n",
       "      <td>MAE()</td>\n",
       "      <td>MAE()</td>\n",
       "      <td>2964d41f</td>\n",
       "    </tr>\n",
       "    <tr>\n",
       "      <th>4</th>\n",
       "      <td>32.580570</td>\n",
       "      <td>21.667740</td>\n",
       "      <td>1732660434</td>\n",
       "      <td>None</td>\n",
       "      <td>False</td>\n",
       "      <td>2</td>\n",
       "      <td>766cc549</td>\n",
       "      <td>2024-11-26_22-33-54</td>\n",
       "      <td>0.418154</td>\n",
       "      <td>1.465539</td>\n",
       "      <td>...</td>\n",
       "      <td>24</td>\n",
       "      <td>0.000040</td>\n",
       "      <td>(2, 2, 2)</td>\n",
       "      <td>(1, 1, 1)</td>\n",
       "      <td>50</td>\n",
       "      <td>4</td>\n",
       "      <td>12</td>\n",
       "      <td>MAE()</td>\n",
       "      <td>MAE()</td>\n",
       "      <td>766cc549</td>\n",
       "    </tr>\n",
       "  </tbody>\n",
       "</table>\n",
       "<p>5 rows × 26 columns</p>\n",
       "</div>"
      ],
      "text/plain": [
       "        loss  train_loss   timestamp checkpoint_dir_name   done  \\\n",
       "0  21.948565   11.748630  1732660404                None  False   \n",
       "1  23.497557   13.491600  1732660411                None  False   \n",
       "2  29.214516   16.968582  1732660419                None  False   \n",
       "3  45.178616   28.338690  1732660427                None  False   \n",
       "4  32.580570   21.667740  1732660434                None  False   \n",
       "\n",
       "   training_iteration  trial_id                 date  time_this_iter_s  \\\n",
       "0                   2  e684ab59  2024-11-26_22-33-24          0.473169   \n",
       "1                   2  28016d96  2024-11-26_22-33-31          0.467711   \n",
       "2                   2  ded66a42  2024-11-26_22-33-39          0.969751   \n",
       "3                   2  2964d41f  2024-11-26_22-33-47          0.985556   \n",
       "4                   2  766cc549  2024-11-26_22-33-54          0.418154   \n",
       "\n",
       "   time_total_s  ...  config/input_size config/learning_rate  \\\n",
       "0      1.742914  ...                 24             0.000583   \n",
       "1      1.767644  ...                 24             0.000222   \n",
       "2      2.623766  ...                 24             0.009816   \n",
       "3      2.656381  ...                 24             0.012083   \n",
       "4      1.465539  ...                 24             0.000040   \n",
       "\n",
       "  config/n_pool_kernel_size  config/n_freq_downsample  config/val_check_steps  \\\n",
       "0                (16, 8, 1)                 (1, 1, 1)                      50   \n",
       "1                (16, 8, 1)              (168, 24, 1)                      50   \n",
       "2                (16, 8, 1)               (24, 12, 1)                      50   \n",
       "3                (16, 8, 1)               (24, 12, 1)                      50   \n",
       "4                 (2, 2, 2)                 (1, 1, 1)                      50   \n",
       "\n",
       "   config/random_seed  config/h  config/loss config/valid_loss    logdir  \n",
       "0                   9        12        MAE()             MAE()  e684ab59  \n",
       "1                   5        12        MAE()             MAE()  28016d96  \n",
       "2                   5        12        MAE()             MAE()  ded66a42  \n",
       "3                   7        12        MAE()             MAE()  2964d41f  \n",
       "4                   4        12        MAE()             MAE()  766cc549  \n",
       "\n",
       "[5 rows x 26 columns]"
      ]
     },
     "execution_count": null,
     "metadata": {},
     "output_type": "execute_result"
    }
   ],
   "source": [
    "results = nf.models[0].results.get_dataframe()\n",
    "results.head()"
   ]
  },
  {
   "attachments": {},
   "cell_type": "markdown",
   "metadata": {},
   "source": [
    "Next, we use the `predict` method to forecast the next 12 months using the optimal hyperparameters."
   ]
  },
  {
   "cell_type": "code",
   "execution_count": null,
   "metadata": {},
   "outputs": [
    {
     "data": {
      "application/vnd.jupyter.widget-view+json": {
       "model_id": "c3b3486b976847deb4fc0297e3b7e09a",
       "version_major": 2,
       "version_minor": 0
      },
      "text/plain": [
       "Predicting: |                                                                                                 …"
      ]
     },
     "metadata": {},
     "output_type": "display_data"
    },
    {
     "data": {
      "text/html": [
       "<div>\n",
       "<style scoped>\n",
       "    .dataframe tbody tr th:only-of-type {\n",
       "        vertical-align: middle;\n",
       "    }\n",
       "\n",
       "    .dataframe tbody tr th {\n",
       "        vertical-align: top;\n",
       "    }\n",
       "\n",
       "    .dataframe thead th {\n",
       "        text-align: right;\n",
       "    }\n",
       "</style>\n",
       "<table border=\"1\" class=\"dataframe\">\n",
       "  <thead>\n",
       "    <tr style=\"text-align: right;\">\n",
       "      <th></th>\n",
       "      <th>unique_id</th>\n",
       "      <th>ds</th>\n",
       "      <th>AutoNHITS</th>\n",
       "    </tr>\n",
       "  </thead>\n",
       "  <tbody>\n",
       "    <tr>\n",
       "      <th>0</th>\n",
       "      <td>1.0</td>\n",
       "      <td>1961-01-31</td>\n",
       "      <td>438.724091</td>\n",
       "    </tr>\n",
       "    <tr>\n",
       "      <th>1</th>\n",
       "      <td>1.0</td>\n",
       "      <td>1961-02-28</td>\n",
       "      <td>415.593628</td>\n",
       "    </tr>\n",
       "    <tr>\n",
       "      <th>2</th>\n",
       "      <td>1.0</td>\n",
       "      <td>1961-03-31</td>\n",
       "      <td>493.484894</td>\n",
       "    </tr>\n",
       "    <tr>\n",
       "      <th>3</th>\n",
       "      <td>1.0</td>\n",
       "      <td>1961-04-30</td>\n",
       "      <td>493.120728</td>\n",
       "    </tr>\n",
       "    <tr>\n",
       "      <th>4</th>\n",
       "      <td>1.0</td>\n",
       "      <td>1961-05-31</td>\n",
       "      <td>499.806702</td>\n",
       "    </tr>\n",
       "  </tbody>\n",
       "</table>\n",
       "</div>"
      ],
      "text/plain": [
       "   unique_id         ds   AutoNHITS\n",
       "0        1.0 1961-01-31  438.724091\n",
       "1        1.0 1961-02-28  415.593628\n",
       "2        1.0 1961-03-31  493.484894\n",
       "3        1.0 1961-04-30  493.120728\n",
       "4        1.0 1961-05-31  499.806702"
      ]
     },
     "execution_count": null,
     "metadata": {},
     "output_type": "execute_result"
    }
   ],
   "source": [
    "Y_hat_df = nf.predict()\n",
    "Y_hat_df.head()"
   ]
  },
  {
   "cell_type": "markdown",
   "metadata": {},
   "source": [
    "## 4. `Optuna` backend"
   ]
  },
  {
   "cell_type": "markdown",
   "metadata": {},
   "source": [
    "In this section we show how to use the `Optuna` backend. `Optuna` is a lightweight and versatile platform for hyperparameter optimization. If you plan to use the `Tune` backend, you can skip this section."
   ]
  },
  {
   "cell_type": "markdown",
   "metadata": {},
   "source": [
    "### 4.a Define hyperparameter grid"
   ]
  },
  {
   "cell_type": "markdown",
   "metadata": {},
   "source": [
    "Each `Auto` model contains a default search space that was extensively tested on multiple large-scale datasets. Search spaces are specified with a function that returns a dictionary, where keys corresponds to the model's hyperparameter and the value is a `suggest` function to specify how the hyperparameter will be sampled. For example, use `suggest_int` to sample integers uniformly, and `suggest_categorical` to sample values of a list. See https://optuna.readthedocs.io/en/stable/reference/generated/optuna.trial.Trial.html for more details."
   ]
  },
  {
   "cell_type": "markdown",
   "metadata": {},
   "source": [
    "### 4.a.1 Default hyperparameter grid\n",
    "\n",
    "The default search space dictionary can be accessed through the `get_default_config` function of the `Auto` model. This is useful if you wish to use the default parameter configuration but want to change one or more hyperparameter spaces without changing the other default values.\n",
    "\n",
    "To extract the default config, you need to define:\n",
    "* `h`: forecasting horizon.\n",
    "* `backend`: backend to use.\n",
    "* `n_series`: Optional, the number of unique time series, required only for Multivariate models. \n",
    "\n",
    "In this example, we will use `h=12` and we use `optuna` as backend. We will use the default hyperparameter space but only change `random_seed` range and `n_pool_kernel_size`."
   ]
  },
  {
   "cell_type": "code",
   "execution_count": null,
   "metadata": {},
   "outputs": [],
   "source": [
    "import optuna"
   ]
  },
  {
   "cell_type": "code",
   "execution_count": null,
   "metadata": {},
   "outputs": [],
   "source": [
    "optuna.logging.set_verbosity(optuna.logging.WARNING) # Use this to disable training prints from optuna\n",
    "nhits_default_config = AutoNHITS.get_default_config(h = 12, backend=\"optuna\")                   # Extract the default hyperparameter settings\n",
    "\n",
    "def config_nhits(trial):\n",
    "    config = {**nhits_default_config(trial)}\n",
    "    config.update({\n",
    "        \"random_seed\": trial.suggest_int(\"random_seed\", 1, 10), \n",
    "        \"n_pool_kernel_size\": trial.suggest_categorical(\"n_pool_kernel_size\", [[2, 2, 2], [16, 8, 1]])\n",
    "    })\n",
    "    return config    "
   ]
  },
  {
   "cell_type": "markdown",
   "metadata": {},
   "source": [
    "### 3.a.2 Custom hyperparameter grid\n",
    "\n",
    "More generally, users can define fully customized search spaces tailored for particular datasets and tasks, by fully specifying a hyperparameter search space function.\n",
    "\n",
    "In the following example we are optimizing the `learning_rate` and two `NHITS` specific hyperparameters: `n_pool_kernel_size` and `n_freq_downsample`. Additionaly, we use the search space to modify default hyperparameters, such as `max_steps` and `val_check_steps`. "
   ]
  },
  {
   "cell_type": "code",
   "execution_count": null,
   "metadata": {},
   "outputs": [],
   "source": [
    "def config_nhits(trial):\n",
    "    return {\n",
    "        \"max_steps\": 100,                                                                                               # Number of SGD steps\n",
    "        \"input_size\": 24,                                                                                               # Size of input window\n",
    "        \"learning_rate\": trial.suggest_loguniform(\"learning_rate\", 1e-5, 1e-1),                                         # Initial Learning rate\n",
    "        \"n_pool_kernel_size\": trial.suggest_categorical(\"n_pool_kernel_size\", [[2, 2, 2], [16, 8, 1]]),                 # MaxPool's Kernelsize\n",
    "        \"n_freq_downsample\": trial.suggest_categorical(\"n_freq_downsample\", [[168, 24, 1], [24, 12, 1], [1, 1, 1]]),    # Interpolation expressivity ratios\n",
    "        \"val_check_steps\": 50,                                                                                          # Compute validation every 50 steps\n",
    "        \"random_seed\": trial.suggest_int(\"random_seed\", 1, 10),                                                         # Random seed\n",
    "    }"
   ]
  },
  {
   "cell_type": "markdown",
   "metadata": {},
   "source": [
    "### 4.b Instantiate `Auto` model"
   ]
  },
  {
   "cell_type": "markdown",
   "metadata": {},
   "source": [
    "To instantiate an `Auto` model you need to define:\n",
    "\n",
    "* `h`: forecasting horizon.\n",
    "* `loss`: training and validation loss from `neuralforecast.losses.pytorch`.\n",
    "* `config`: hyperparameter search space. If `None`, the `Auto` class will use a pre-defined suggested hyperparameter space.\n",
    "* `search_alg`: search algorithm (from `optuna.samplers`), default is TPESampler (Tree-structured Parzen Estimator). Refer to https://optuna.readthedocs.io/en/stable/reference/samplers/index.html for more information on the different search algorithm options.\n",
    "* `backend`: backend to use, default is `ray`. If `optuna`, the `Auto` class will use the `Optuna` backend.\n",
    "* `num_samples`: number of configurations explored."
   ]
  },
  {
   "cell_type": "code",
   "execution_count": null,
   "metadata": {},
   "outputs": [],
   "source": [
    "model = AutoNHITS(\n",
    "    h=12,\n",
    "    loss=MAE(),\n",
    "    config=config_nhits,\n",
    "    search_alg=optuna.samplers.TPESampler(seed=0),\n",
    "    backend='optuna',\n",
    "    num_samples=10,\n",
    ")"
   ]
  },
  {
   "cell_type": "markdown",
   "metadata": {},
   "source": [
    ":::{.callout-important}\n",
    "Configuration dictionaries and search algorithms for `Tune` and `Optuna` are not interchangeable! Use the appropriate type of search algorithm and custom configuration dictionary for each backend.\n",
    ":::"
   ]
  },
  {
   "cell_type": "markdown",
   "metadata": {},
   "source": [
    "### 4.c Train model and predict with `Core` class"
   ]
  },
  {
   "cell_type": "markdown",
   "metadata": {},
   "source": [
    "Use the `val_size` parameter of the `fit` method to control the length of the validation set. In this case we set the validation set as twice the forecasting horizon."
   ]
  },
  {
   "cell_type": "code",
   "execution_count": null,
   "metadata": {},
   "outputs": [
    {
     "name": "stderr",
     "output_type": "stream",
     "text": [
      "Seed set to 5\n",
      "Seed set to 10\n",
      "Seed set to 10\n",
      "Seed set to 10\n",
      "Seed set to 1\n",
      "Seed set to 5\n",
      "Seed set to 4\n",
      "Seed set to 2\n",
      "Seed set to 7\n",
      "Seed set to 1\n",
      "Seed set to 5\n"
     ]
    }
   ],
   "source": [
    "%%capture\n",
    "nf = NeuralForecast(models=[model], freq='ME')\n",
    "nf.fit(df=Y_df, val_size=24)"
   ]
  },
  {
   "cell_type": "markdown",
   "metadata": {},
   "source": [
    "The results of the hyperparameter tuning are available in the `results` attribute of the `Auto` model. Use the `trials_dataframe` method to get the results in a pandas dataframe."
   ]
  },
  {
   "cell_type": "code",
   "execution_count": null,
   "metadata": {},
   "outputs": [
    {
     "data": {
      "text/html": [
       "<div>\n",
       "<style scoped>\n",
       "    .dataframe tbody tr th:only-of-type {\n",
       "        vertical-align: middle;\n",
       "    }\n",
       "\n",
       "    .dataframe tbody tr th {\n",
       "        vertical-align: top;\n",
       "    }\n",
       "\n",
       "    .dataframe thead th {\n",
       "        text-align: right;\n",
       "    }\n",
       "</style>\n",
       "<table border=\"1\" class=\"dataframe\">\n",
       "  <thead>\n",
       "    <tr style=\"text-align: right;\">\n",
       "      <th></th>\n",
       "      <th>number</th>\n",
       "      <th>value</th>\n",
       "      <th>datetime_start</th>\n",
       "      <th>datetime_complete</th>\n",
       "      <th>duration</th>\n",
       "      <th>params_learning_rate</th>\n",
       "      <th>params_n_freq_downsample</th>\n",
       "      <th>params_n_pool_kernel_size</th>\n",
       "      <th>params_random_seed</th>\n",
       "      <th>user_attrs_METRICS</th>\n",
       "      <th>state</th>\n",
       "    </tr>\n",
       "  </thead>\n",
       "  <tbody>\n",
       "    <tr>\n",
       "      <th>0</th>\n",
       "      <td>0</td>\n",
       "      <td>1.827570e+01</td>\n",
       "      <td>2024-11-26 22:34:29.382448</td>\n",
       "      <td>2024-11-26 22:34:30.773811</td>\n",
       "      <td>0 days 00:00:01.391363</td>\n",
       "      <td>0.001568</td>\n",
       "      <td>[1, 1, 1]</td>\n",
       "      <td>[2, 2, 2]</td>\n",
       "      <td>5</td>\n",
       "      <td>{'loss': tensor(18.2757), 'train_loss': tensor...</td>\n",
       "      <td>COMPLETE</td>\n",
       "    </tr>\n",
       "    <tr>\n",
       "      <th>1</th>\n",
       "      <td>1</td>\n",
       "      <td>9.055198e+06</td>\n",
       "      <td>2024-11-26 22:34:30.774153</td>\n",
       "      <td>2024-11-26 22:34:32.090132</td>\n",
       "      <td>0 days 00:00:01.315979</td>\n",
       "      <td>0.036906</td>\n",
       "      <td>[168, 24, 1]</td>\n",
       "      <td>[2, 2, 2]</td>\n",
       "      <td>10</td>\n",
       "      <td>{'loss': tensor(9055198.), 'train_loss': tenso...</td>\n",
       "      <td>COMPLETE</td>\n",
       "    </tr>\n",
       "    <tr>\n",
       "      <th>2</th>\n",
       "      <td>2</td>\n",
       "      <td>5.554298e+01</td>\n",
       "      <td>2024-11-26 22:34:32.090466</td>\n",
       "      <td>2024-11-26 22:34:33.425103</td>\n",
       "      <td>0 days 00:00:01.334637</td>\n",
       "      <td>0.000019</td>\n",
       "      <td>[1, 1, 1]</td>\n",
       "      <td>[2, 2, 2]</td>\n",
       "      <td>10</td>\n",
       "      <td>{'loss': tensor(55.5430), 'train_loss': tensor...</td>\n",
       "      <td>COMPLETE</td>\n",
       "    </tr>\n",
       "    <tr>\n",
       "      <th>3</th>\n",
       "      <td>3</td>\n",
       "      <td>9.857751e+01</td>\n",
       "      <td>2024-11-26 22:34:33.425460</td>\n",
       "      <td>2024-11-26 22:34:34.962057</td>\n",
       "      <td>0 days 00:00:01.536597</td>\n",
       "      <td>0.015727</td>\n",
       "      <td>[24, 12, 1]</td>\n",
       "      <td>[16, 8, 1]</td>\n",
       "      <td>10</td>\n",
       "      <td>{'loss': tensor(98.5775), 'train_loss': tensor...</td>\n",
       "      <td>COMPLETE</td>\n",
       "    </tr>\n",
       "    <tr>\n",
       "      <th>4</th>\n",
       "      <td>4</td>\n",
       "      <td>1.966841e+01</td>\n",
       "      <td>2024-11-26 22:34:34.962357</td>\n",
       "      <td>2024-11-26 22:34:36.951450</td>\n",
       "      <td>0 days 00:00:01.989093</td>\n",
       "      <td>0.001223</td>\n",
       "      <td>[168, 24, 1]</td>\n",
       "      <td>[2, 2, 2]</td>\n",
       "      <td>1</td>\n",
       "      <td>{'loss': tensor(19.6684), 'train_loss': tensor...</td>\n",
       "      <td>COMPLETE</td>\n",
       "    </tr>\n",
       "    <tr>\n",
       "      <th>5</th>\n",
       "      <td>5</td>\n",
       "      <td>1.524971e+01</td>\n",
       "      <td>2024-11-26 22:34:36.951775</td>\n",
       "      <td>2024-11-26 22:34:38.280982</td>\n",
       "      <td>0 days 00:00:01.329207</td>\n",
       "      <td>0.002955</td>\n",
       "      <td>[168, 24, 1]</td>\n",
       "      <td>[16, 8, 1]</td>\n",
       "      <td>5</td>\n",
       "      <td>{'loss': tensor(15.2497), 'train_loss': tensor...</td>\n",
       "      <td>COMPLETE</td>\n",
       "    </tr>\n",
       "    <tr>\n",
       "      <th>6</th>\n",
       "      <td>6</td>\n",
       "      <td>1.678810e+01</td>\n",
       "      <td>2024-11-26 22:34:38.281381</td>\n",
       "      <td>2024-11-26 22:34:39.648595</td>\n",
       "      <td>0 days 00:00:01.367214</td>\n",
       "      <td>0.006173</td>\n",
       "      <td>[168, 24, 1]</td>\n",
       "      <td>[16, 8, 1]</td>\n",
       "      <td>4</td>\n",
       "      <td>{'loss': tensor(16.7881), 'train_loss': tensor...</td>\n",
       "      <td>COMPLETE</td>\n",
       "    </tr>\n",
       "    <tr>\n",
       "      <th>7</th>\n",
       "      <td>7</td>\n",
       "      <td>2.014485e+01</td>\n",
       "      <td>2024-11-26 22:34:39.649025</td>\n",
       "      <td>2024-11-26 22:34:41.075568</td>\n",
       "      <td>0 days 00:00:01.426543</td>\n",
       "      <td>0.000285</td>\n",
       "      <td>[168, 24, 1]</td>\n",
       "      <td>[2, 2, 2]</td>\n",
       "      <td>2</td>\n",
       "      <td>{'loss': tensor(20.1448), 'train_loss': tensor...</td>\n",
       "      <td>COMPLETE</td>\n",
       "    </tr>\n",
       "    <tr>\n",
       "      <th>8</th>\n",
       "      <td>8</td>\n",
       "      <td>2.109382e+01</td>\n",
       "      <td>2024-11-26 22:34:41.075891</td>\n",
       "      <td>2024-11-26 22:34:42.449451</td>\n",
       "      <td>0 days 00:00:01.373560</td>\n",
       "      <td>0.004097</td>\n",
       "      <td>[168, 24, 1]</td>\n",
       "      <td>[16, 8, 1]</td>\n",
       "      <td>7</td>\n",
       "      <td>{'loss': tensor(21.0938), 'train_loss': tensor...</td>\n",
       "      <td>COMPLETE</td>\n",
       "    </tr>\n",
       "    <tr>\n",
       "      <th>9</th>\n",
       "      <td>9</td>\n",
       "      <td>5.091650e+01</td>\n",
       "      <td>2024-11-26 22:34:42.449762</td>\n",
       "      <td>2024-11-26 22:34:43.804981</td>\n",
       "      <td>0 days 00:00:01.355219</td>\n",
       "      <td>0.000036</td>\n",
       "      <td>[1, 1, 1]</td>\n",
       "      <td>[16, 8, 1]</td>\n",
       "      <td>1</td>\n",
       "      <td>{'loss': tensor(50.9165), 'train_loss': tensor...</td>\n",
       "      <td>COMPLETE</td>\n",
       "    </tr>\n",
       "  </tbody>\n",
       "</table>\n",
       "</div>"
      ],
      "text/plain": [
       "   number         value             datetime_start          datetime_complete  \\\n",
       "0       0  1.827570e+01 2024-11-26 22:34:29.382448 2024-11-26 22:34:30.773811   \n",
       "1       1  9.055198e+06 2024-11-26 22:34:30.774153 2024-11-26 22:34:32.090132   \n",
       "2       2  5.554298e+01 2024-11-26 22:34:32.090466 2024-11-26 22:34:33.425103   \n",
       "3       3  9.857751e+01 2024-11-26 22:34:33.425460 2024-11-26 22:34:34.962057   \n",
       "4       4  1.966841e+01 2024-11-26 22:34:34.962357 2024-11-26 22:34:36.951450   \n",
       "5       5  1.524971e+01 2024-11-26 22:34:36.951775 2024-11-26 22:34:38.280982   \n",
       "6       6  1.678810e+01 2024-11-26 22:34:38.281381 2024-11-26 22:34:39.648595   \n",
       "7       7  2.014485e+01 2024-11-26 22:34:39.649025 2024-11-26 22:34:41.075568   \n",
       "8       8  2.109382e+01 2024-11-26 22:34:41.075891 2024-11-26 22:34:42.449451   \n",
       "9       9  5.091650e+01 2024-11-26 22:34:42.449762 2024-11-26 22:34:43.804981   \n",
       "\n",
       "                duration  params_learning_rate params_n_freq_downsample  \\\n",
       "0 0 days 00:00:01.391363              0.001568                [1, 1, 1]   \n",
       "1 0 days 00:00:01.315979              0.036906             [168, 24, 1]   \n",
       "2 0 days 00:00:01.334637              0.000019                [1, 1, 1]   \n",
       "3 0 days 00:00:01.536597              0.015727              [24, 12, 1]   \n",
       "4 0 days 00:00:01.989093              0.001223             [168, 24, 1]   \n",
       "5 0 days 00:00:01.329207              0.002955             [168, 24, 1]   \n",
       "6 0 days 00:00:01.367214              0.006173             [168, 24, 1]   \n",
       "7 0 days 00:00:01.426543              0.000285             [168, 24, 1]   \n",
       "8 0 days 00:00:01.373560              0.004097             [168, 24, 1]   \n",
       "9 0 days 00:00:01.355219              0.000036                [1, 1, 1]   \n",
       "\n",
       "  params_n_pool_kernel_size  params_random_seed  \\\n",
       "0                 [2, 2, 2]                   5   \n",
       "1                 [2, 2, 2]                  10   \n",
       "2                 [2, 2, 2]                  10   \n",
       "3                [16, 8, 1]                  10   \n",
       "4                 [2, 2, 2]                   1   \n",
       "5                [16, 8, 1]                   5   \n",
       "6                [16, 8, 1]                   4   \n",
       "7                 [2, 2, 2]                   2   \n",
       "8                [16, 8, 1]                   7   \n",
       "9                [16, 8, 1]                   1   \n",
       "\n",
       "                                  user_attrs_METRICS     state  \n",
       "0  {'loss': tensor(18.2757), 'train_loss': tensor...  COMPLETE  \n",
       "1  {'loss': tensor(9055198.), 'train_loss': tenso...  COMPLETE  \n",
       "2  {'loss': tensor(55.5430), 'train_loss': tensor...  COMPLETE  \n",
       "3  {'loss': tensor(98.5775), 'train_loss': tensor...  COMPLETE  \n",
       "4  {'loss': tensor(19.6684), 'train_loss': tensor...  COMPLETE  \n",
       "5  {'loss': tensor(15.2497), 'train_loss': tensor...  COMPLETE  \n",
       "6  {'loss': tensor(16.7881), 'train_loss': tensor...  COMPLETE  \n",
       "7  {'loss': tensor(20.1448), 'train_loss': tensor...  COMPLETE  \n",
       "8  {'loss': tensor(21.0938), 'train_loss': tensor...  COMPLETE  \n",
       "9  {'loss': tensor(50.9165), 'train_loss': tensor...  COMPLETE  "
      ]
     },
     "execution_count": null,
     "metadata": {},
     "output_type": "execute_result"
    }
   ],
   "source": [
    "results = nf.models[0].results.trials_dataframe()\n",
    "results.drop(columns='user_attrs_ALL_PARAMS')"
   ]
  },
  {
   "cell_type": "markdown",
   "metadata": {},
   "source": [
    "Next, we use the `predict` method to forecast the next 12 months using the optimal hyperparameters."
   ]
  },
  {
   "cell_type": "code",
   "execution_count": null,
   "metadata": {},
   "outputs": [
    {
     "data": {
      "application/vnd.jupyter.widget-view+json": {
       "model_id": "d3f3cde4b19b432eac747f3658bba158",
       "version_major": 2,
       "version_minor": 0
      },
      "text/plain": [
       "Predicting: |                                                                                                 …"
      ]
     },
     "metadata": {},
     "output_type": "display_data"
    },
    {
     "data": {
      "text/html": [
       "<div>\n",
       "<style scoped>\n",
       "    .dataframe tbody tr th:only-of-type {\n",
       "        vertical-align: middle;\n",
       "    }\n",
       "\n",
       "    .dataframe tbody tr th {\n",
       "        vertical-align: top;\n",
       "    }\n",
       "\n",
       "    .dataframe thead th {\n",
       "        text-align: right;\n",
       "    }\n",
       "</style>\n",
       "<table border=\"1\" class=\"dataframe\">\n",
       "  <thead>\n",
       "    <tr style=\"text-align: right;\">\n",
       "      <th></th>\n",
       "      <th>unique_id</th>\n",
       "      <th>ds</th>\n",
       "      <th>AutoNHITS</th>\n",
       "    </tr>\n",
       "  </thead>\n",
       "  <tbody>\n",
       "    <tr>\n",
       "      <th>0</th>\n",
       "      <td>1.0</td>\n",
       "      <td>1961-01-31</td>\n",
       "      <td>446.410736</td>\n",
       "    </tr>\n",
       "    <tr>\n",
       "      <th>1</th>\n",
       "      <td>1.0</td>\n",
       "      <td>1961-02-28</td>\n",
       "      <td>422.048523</td>\n",
       "    </tr>\n",
       "    <tr>\n",
       "      <th>2</th>\n",
       "      <td>1.0</td>\n",
       "      <td>1961-03-31</td>\n",
       "      <td>508.271515</td>\n",
       "    </tr>\n",
       "    <tr>\n",
       "      <th>3</th>\n",
       "      <td>1.0</td>\n",
       "      <td>1961-04-30</td>\n",
       "      <td>496.549133</td>\n",
       "    </tr>\n",
       "    <tr>\n",
       "      <th>4</th>\n",
       "      <td>1.0</td>\n",
       "      <td>1961-05-31</td>\n",
       "      <td>506.865723</td>\n",
       "    </tr>\n",
       "  </tbody>\n",
       "</table>\n",
       "</div>"
      ],
      "text/plain": [
       "   unique_id         ds   AutoNHITS\n",
       "0        1.0 1961-01-31  446.410736\n",
       "1        1.0 1961-02-28  422.048523\n",
       "2        1.0 1961-03-31  508.271515\n",
       "3        1.0 1961-04-30  496.549133\n",
       "4        1.0 1961-05-31  506.865723"
      ]
     },
     "execution_count": null,
     "metadata": {},
     "output_type": "execute_result"
    }
   ],
   "source": [
    "Y_hat_df_optuna = nf.predict()\n",
    "Y_hat_df_optuna.head()"
   ]
  },
  {
   "cell_type": "markdown",
   "metadata": {},
   "source": [
    "## 5. Plots"
   ]
  },
  {
   "cell_type": "markdown",
   "metadata": {},
   "source": [
    "Finally, we compare the forecasts produced by the `AutoNHITS` model with both backends."
   ]
  },
  {
   "cell_type": "code",
   "execution_count": null,
   "metadata": {},
   "outputs": [],
   "source": [
    "from utilsforecast.plotting import plot_series"
   ]
  },
  {
   "cell_type": "code",
   "execution_count": null,
   "metadata": {},
   "outputs": [
    {
     "data": {
      "image/png": "[encoded data removed]",
      "text/plain": [
       "<Figure size 1600x350 with 1 Axes>"
      ]
     },
     "execution_count": null,
     "metadata": {},
     "output_type": "execute_result"
    }
   ],
   "source": [
    "plot_series(\n",
    "    Y_df,\n",
    "    Y_hat_df.merge(\n",
    "        Y_hat_df_optuna,\n",
    "        on=['unique_id', 'ds'],\n",
    "        suffixes=['_ray', '_optuna'],\n",
    "    ),\n",
    ")"
   ]
  },
  {
   "attachments": {},
   "cell_type": "markdown",
   "metadata": {},
   "source": [
    "### References\n",
    "- [Cristian Challu, Kin G. Olivares, Boris N. Oreshkin, Federico Garza, Max Mergenthaler-Canseco, Artur Dubrawski (2021). NHITS: Neural Hierarchical Interpolation for Time Series Forecasting. Accepted at AAAI 2023.](https://arxiv.org/abs/2201.12886)\n",
    "- [James Bergstra, Remi Bardenet, Yoshua Bengio, and Balazs Kegl (2011). \"Algorithms for Hyper-Parameter Optimization\". In: Advances in Neural Information Processing Systems. url: https://proceedings.neurips.cc/paper/2011/file/86e8f7ab32cfd12577bc2619bc635690-Paper.pdf](https://proceedings.neurips.cc/paper/2011/file/86e8f7ab32cfd12577bc2619bc635690-Paper.pdf)\n",
    "- [Kirthevasan Kandasamy, Karun Raju Vysyaraju, Willie Neiswanger, Biswajit Paria, Christopher R. Collins, Jeff Schneider, Barnabas Poczos, Eric P. Xing (2019). \"Tuning Hyperparameters without Grad Students: Scalable and Robust Bayesian Optimisation with Dragonfly\". Journal of Machine Learning Research. url: https://arxiv.org/abs/1903.06694](https://arxiv.org/abs/1903.06694)\n",
    "- [Lisha Li, Kevin Jamieson, Giulia DeSalvo, Afshin Rostamizadeh, Ameet Talwalkar (2016). \"Hyperband: A Novel Bandit-Based Approach to Hyperparameter Optimization\". Journal of Machine Learning Research. url: https://arxiv.org/abs/1603.06560](https://arxiv.org/abs/1603.06560)"
   ]
  }
 ],
 "metadata": {
  "kernelspec": {
   "display_name": "python3",
   "language": "python",
   "name": "python3"
  }
 },
 "nbformat": 4,
 "nbformat_minor": 4
}
