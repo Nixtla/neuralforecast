{
 "cells": [
  {
   "cell_type": "markdown",
   "metadata": {},
   "source": [
    "# Optimization Objectives"
   ]
  },
  {
   "cell_type": "markdown",
   "metadata": {},
   "source": [
    "NeuralForecast is a highly modular framework capable of augmenting a wide variety of robust neural network architectures with different point or probability outputs as defined by their optimization objectives.\n",
    "\n",
    "## Point losses \n",
    "\n",
    "| Scale-Dependent                                              | Percentage-Errors                                                     | Scale-Independent                                              | Robust                                                 |\n",
    "|:-------------------------------------------------------------|:----------------------------------------------------------------------|:---------------------------------------------------------------|:-------------------------------------------------------|\n",
    "|[`MAE`](../../losses.pytorch.html#mean-absolute-error-mae)       |[`MAPE`](../../losses.pytorch.html#mean-absolute-percentage-error-mape)   |[`MASE`](../../losses.pytorch.html#mean-absolute-scaled-error-mase)|[`Huber`](../losses.pytorch.html#huber-loss)            |\n",
    "|[`MSE`](../../losses.pytorch.html#mean-squared-error-mse)        |[`sMAPE`](../../losses.pytorch.html#symmetric-mape-smape)                 |                                                                |[`Tukey`](../../losses.pytorch.html#tukey-loss)            |\n",
    "|[`RMSE`](../../losses.pytorch.html#root-mean-squared-error-rmse) |                                                                       |                                                                |[`HuberMQLoss`](../../losses.pytorch.html#huberized-mqloss)|\n",
    ": {tbl-colwidths=\"[25,25]\"}\n",
    "\n",
    "## Probabilistic losses\n",
    "\n",
    "|Parametric Probabilities                                      | Non-Parametric Probabilities                                 |\n",
    "|:-------------------------------------------------------------|:-------------------------------------------------------------|\n",
    "|[`Normal`](../../losses.pytorch.html#distributionloss)           |[`QuantileLoss`](../../losses.pytorch.html#quantile-loss)        |\n",
    "|[`StudenT`](../../losses.pytorch.html#distributionloss)          |[`MQLoss`](../../losses.pytorch.html#multi-quantile-loss-mqloss) |\n",
    "|[`Poisson`](../../losses.pytorch.html#distributionloss)          |[`HuberQLoss`](../../losses.pytorch.html#huberized-quantile-loss)|\n",
    "|[`Negative Binomial`](../../losses.pytorch.html#distributionloss)|[`HuberMQLoss`](../../losses.pytorch.html#huberized-mqloss)      |\n",
    "|[`Tweedie`](../../losses.pytorch.html#distributionloss)          |[`IQLoss`](../../losses.pytorch.html#iqloss)  |\n",
    "|[`PMM`](../../losses.pytorch.html#poisson-mixture-mesh-pmm) /[`GMM`](../../losses.pytorch.html#gaussian-mixture-mesh-gmm)  / [`NBMM`](../../losses.pytorch.html#negative-binomial-mixture-mesh-nbmm)  | [`ISQF`](../../losses.pytorch.html#isqf)  | \n",
    ": {tbl-colwidths=\"[25,25]\"}"
   ]
  }
 ],
 "metadata": {},
 "nbformat": 4,
 "nbformat_minor": 2
}
