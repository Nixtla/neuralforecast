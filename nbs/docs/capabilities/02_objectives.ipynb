{
 "cells": [
  {
   "cell_type": "markdown",
   "metadata": {},
   "source": [
    "# Optimization Objectives"
   ]
  },
  {
   "cell_type": "markdown",
   "metadata": {},
   "source": [
    "NeuralForecast is a highly modular framework capable of augmenting a wide variety of robust neural network architectures with different point or probability outputs as defined by their optimization objectives.\n",
    "\n",
    "## Point losses \n",
    "\n",
    "| Scale-Dependent                                              | Percentage-Errors                                                     | Scale-Independent                                              | Robust                                                 |\n",
    "|:-------------------------------------------------------------|:----------------------------------------------------------------------|:---------------------------------------------------------------|:-------------------------------------------------------|\n",
    "|[**MAE**](../../losses.pytorch#class-mae)       |[**MAPE**](../../losses.pytorch#class-mape)   |[**MASE**](../../losses.pytorch#class-mase)|[**Huber**](../losses.pytorch#class-huberloss)            |\n",
    "|[**MSE**](../../losses.pytorch#class-mse)        |[**sMAPE**](../../losses.pytorch#class-smape)                 |                                                                |[**Tukey**](../../losses.pytorch#class-tukeyloss)            |\n",
    "|[**RMSE**](../../losses.pytorch#class-rmse) |                                                                       |                                                                |[**HuberMQLoss**](../../losses.pytorch#class-hubermqloss)|\n",
    "\n",
    "## Probabilistic losses\n",
    "\n",
    "|Parametric Probabilities                                      | Non-Parametric Probabilities                                 |\n",
    "|:-------------------------------------------------------------|:-------------------------------------------------------------|\n",
    "|[**Normal**](../../losses.pytorch#class-distributionloss)           |[**QuantileLoss**](../../losses.pytorch#class-quantileloss)        |\n",
    "|[**StudenT**](../../losses.pytorch#class-distributionloss)          |[**MQLoss**](../../losses.pytorch#class-mqloss) |\n",
    "|[**Poisson**](../../losses.pytorch#class-distributionloss)          |[**HuberQLoss**](../../losses.pytorch#class-huberiqloss)|\n",
    "|[**Negative Binomial**](../../losses.pytorch#class-distributionloss)|[**HuberMQLoss**](../../losses.pytorch#class-hubermqloss)      |\n",
    "|[**Tweedie**](../../losses.pytorch#class-distributionloss)          |[**IQLoss**](../../losses.pytorch#class-iqloss)  |\n",
    "|[**PMM**](../../losses.pytorch#class-pmm) | [**HuberIQLoss**](../../losses.pytorch#class-huberiqloss)|\n",
    "|[**GMM**](../../losses.pytorch#class-gmm) | [**ISQF**](../../losses.pytorch#class-isqf)  |\n",
    "|[**NBMM**](../../losses.pytorch#class-nbmm) | |"
   ]
  },
  {
   "cell_type": "code",
   "execution_count": null,
   "metadata": {},
   "outputs": [],
   "source": []
  }
 ],
 "metadata": {
  "kernelspec": {
   "display_name": "python3",
   "language": "python",
   "name": "python3"
  }
 },
 "nbformat": 4,
 "nbformat_minor": 2
}
