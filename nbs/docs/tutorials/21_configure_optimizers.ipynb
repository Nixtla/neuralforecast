{
 "cells": [
  {
   "cell_type": "markdown",
   "metadata": {},
   "source": [
    "# Modify the configure_optimizers() behavior of NeuralForecast models\n",
    "> Tutorial on how to achieve a full control of the `configure_optimizers()` behavior of NeuralForecast models"
   ]
  },
  {
   "cell_type": "markdown",
   "metadata": {},
   "source": [
    "NeuralForecast models allow us to customize the default optimizer and learning rate scheduler behaviors via \n",
    "`optimizer`, `optimizer_kwargs`, `lr_scheduler`, `lr_scheduler_kwargs`. However this is not sufficient to support the use of [ReduceLROnPlateau](https://pytorch.org/docs/stable/generated/torch.optim.lr_scheduler.ReduceLROnPlateau.html), for instance, as it requires the specification of `monitor` parameter.\n",
    "\n",
    "This tutorial provides an example of how to support the use of `ReduceLROnPlateau`. "
   ]
  },
  {
   "cell_type": "markdown",
   "metadata": {},
   "source": [
    "## Load libraries"
   ]
  },
  {
   "cell_type": "code",
   "execution_count": null,
   "metadata": {},
   "outputs": [],
   "source": [
    "import numpy as np\n",
    "import pandas as pd\n",
    "import torch\n",
    "import matplotlib.pyplot as plt\n",
    "from neuralforecast import NeuralForecast\n",
    "from neuralforecast.models import NHITS\n",
    "from neuralforecast.utils import AirPassengersPanel\n",
    "\n",
    "from utilsforecast.plotting import plot_series"
   ]
  },
  {
   "cell_type": "markdown",
   "metadata": {},
   "source": [
    "## Data\n",
    "\n",
    "We use the AirPassengers dataset for the demonstration of conformal prediction.\n"
   ]
  },
  {
   "cell_type": "code",
   "execution_count": null,
   "metadata": {},
   "outputs": [],
   "source": [
    "AirPassengersPanel_train = AirPassengersPanel[AirPassengersPanel['ds'] < AirPassengersPanel['ds'].values[-12]].reset_index(drop=True)\n",
    "AirPassengersPanel_test = AirPassengersPanel[AirPassengersPanel['ds'] >= AirPassengersPanel['ds'].values[-12]].reset_index(drop=True)\n",
    "AirPassengersPanel_test['y'] = np.nan\n",
    "AirPassengersPanel_test['y_[lag12]'] = np.nan"
   ]
  },
  {
   "cell_type": "markdown",
   "metadata": {},
   "source": [
    "## Model training\n",
    "\n",
    "We now train a NHITS model on the above dataset. We consider two different predictions:\n",
    "1. Training using the default `configure_optimizers()`.\n",
    "2. Training by overwriting the `configure_optimizers()` of the subclass of NHITS model.\n"
   ]
  },
  {
   "cell_type": "code",
   "execution_count": null,
   "metadata": {},
   "outputs": [],
   "source": [
    "horizon = 12\n",
    "input_size = 24\n",
    "\n",
    "class CustomNHITS(NHITS):\n",
    "    def configure_optimizers(self):\n",
    "        optimizer = torch.optim.Adadelta(params=self.parameters(), rho=0.75)\n",
    "        scheduler=torch.optim.lr_scheduler.ReduceLROnPlateau(\n",
    "            optimizer=optimizer, mode='min',factor=0.5, patience=2,\n",
    "        )\n",
    "        scheduler_config = {\n",
    "            'scheduler': scheduler,\n",
    "            'interval': 'step',\n",
    "            'frequency': 1,\n",
    "            'monitor': 'train_loss',\n",
    "            'strict': True,\n",
    "            'name': None,\n",
    "        }\n",
    "        return {'optimizer': optimizer, 'lr_scheduler': scheduler_config}\n",
    "\n",
    "models = [\n",
    "    NHITS(h=horizon, input_size=input_size, max_steps=100, alias='NHITS-default-scheduler'),\n",
    "    CustomNHITS(h=horizon, input_size=input_size, max_steps=100, alias='NHITS-ReduceLROnPlateau-scheduler'),\n",
    "]\n",
    "nf = NeuralForecast(models=models, freq='ME')\n",
    "nf.fit(AirPassengersPanel_train)\n",
    "preds = nf.predict(futr_df=AirPassengersPanel_test)"
   ]
  },
  {
   "cell_type": "code",
   "execution_count": null,
   "metadata": {},
   "outputs": [],
   "source": [
    "plot_series(AirPassengersPanel_train, preds)"
   ]
  },
  {
   "cell_type": "markdown",
   "metadata": {},
   "source": [
    "We can clearly notice the prediction outputs are different due to the change in `configure_optimizers()`."
   ]
  }
 ],
 "metadata": {
  "kernelspec": {
   "display_name": "python3",
   "language": "python",
   "name": "python3"
  }
 },
 "nbformat": 4,
 "nbformat_minor": 4
}
