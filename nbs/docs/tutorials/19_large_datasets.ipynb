{
 "cells": [
  {
   "cell_type": "markdown",
   "metadata": {},
   "source": [
    "# Using Large Datasets\n",
    "> Tutorial on how to train neuralforecast models on datasets that cannot fit into memory"
   ]
  },
  {
   "cell_type": "markdown",
   "metadata": {},
   "source": [
    "The standard DataLoader class used by NeuralForecast expects the dataset to be represented by a single DataFrame, which is entirely loaded into memory when fitting the model. However, when the dataset is too large for this, we can instead use the custom large-scale DataLoader. This custom loader assumes that each timeseries is split across a collection of Parquet files, and ensure that only one batch is ever loaded into memory at a given time.\n",
    "\n",
    "In this notebook, we will demonstrate the expected format of these files, how to train the model and and how to perform inference using this large-scale DataLoader."
   ]
  },
  {
   "cell_type": "markdown",
   "metadata": {},
   "source": [
    "## Load libraries"
   ]
  },
  {
   "cell_type": "code",
   "execution_count": null,
   "metadata": {},
   "outputs": [],
   "source": [
    "import logging\n",
    "import os\n",
    "import tempfile\n",
    "\n",
    "import numpy as nppackage_name\n",
    "import pandas as pd\n",
    "\n",
    "from neuralforecast import NeuralForecast\n",
    "from neuralforecast.models import NHITS\n",
    "from utilsforecast.evaluation import evaluate\n",
    "from utilsforecast.losses import mae, rmse, smape\n",
    "from neuralforecast.utils import AirPassengersPanel, AirPassengersStatic"
   ]
  },
  {
   "cell_type": "code",
   "execution_count": null,
   "metadata": {},
   "outputs": [],
   "source": [
    "logging.getLogger('pytorch_lightning').setLevel(logging.ERROR)\n",
    "os.environ['NIXTLA_ID_AS_COL'] = '1'"
   ]
  },
  {
   "cell_type": "markdown",
   "metadata": {},
   "source": [
    "## Data\n",
    "\n",
    "Each timeseries should be stored in a directory named **unique_id=timeseries_id**. Within this directory, the timeseries can be entirely contained in a single Parquet file or split across multiple Parquet files. Regardless of the format, the timeseries must be ordered by time.\n",
    "\n",
    "For example, the following code splits the AirPassengers DataFrame (of which each timeseries is already sorted by time) into the below format:\n",
    "<br>\n",
    "<br>\n",
    "\n",
    "**\\>**&nbsp;&nbsp;data  \n",
    "&nbsp;&nbsp;&nbsp;&nbsp;**\\>**&nbsp;&nbsp;unique_id=Airline1  \n",
    "&nbsp;&nbsp;&nbsp;&nbsp;&nbsp;&nbsp;&nbsp;&nbsp; -&nbsp;&nbsp;a59945617fdb40d1bc6caa4aadad881c-0.parquet  \n",
    "&nbsp;&nbsp;&nbsp;&nbsp;**\\>**&nbsp;&nbsp;unique_id=Airline2  \n",
    "&nbsp;&nbsp;&nbsp;&nbsp;&nbsp;&nbsp;&nbsp;&nbsp; -&nbsp;&nbsp;a59945617fdb40d1bc6caa4aadad881c-0.parquet  \n",
    "\n",
    "<br>\n",
    "We then simply input a list of the paths to these directories."
   ]
  },
  {
   "cell_type": "code",
   "execution_count": null,
   "metadata": {},
   "outputs": [],
   "source": [
    "Y_df = AirPassengersPanel.copy()\n",
    "Y_df"
   ]
  },
  {
   "cell_type": "code",
   "execution_count": null,
   "metadata": {},
   "outputs": [],
   "source": [
    "valid = Y_df.groupby('unique_id').tail(72)\n",
    "# from now on we will use the id_col as the unique identifier for the timeseries (this is because we are using the unique_id column to partition the data into parquet files)\n",
    "valid = valid.rename(columns={'unique_id': 'id_col'})\n",
    "\n",
    "train = Y_df.drop(valid.index)\n",
    "train['id_col'] = train['unique_id'].copy()\n",
    "\n",
    "# we generate the files using a temporary directory here to demonstrate the expected file structure\n",
    "tmpdir = tempfile.TemporaryDirectory()\n",
    "train.to_parquet(tmpdir.name, partition_cols=['unique_id'], index=False)\n",
    "files_list = [f\"{tmpdir.name}/{dir}\" for dir in os.listdir(tmpdir.name)]\n",
    "files_list"
   ]
  },
  {
   "cell_type": "markdown",
   "metadata": {},
   "source": [
    "You can also create this directory structure with a spark dataframe using the following:"
   ]
  },
  {
   "cell_type": "code",
   "execution_count": null,
   "metadata": {},
   "outputs": [],
   "source": [
    "\"\"\"\n",
    "spark.conf.set(\"spark.sql.parquet.outputTimestampType\", \"TIMESTAMP_MICROS\")\n",
    "(\n",
    "  spark_df\n",
    "  .repartition(id_col)\n",
    "  .sortWithinPartitions(id_col, time_col)\n",
    "  .write\n",
    "  .partitionBy(id_col)\n",
    "  .parquet(out_dir)\n",
    ")\n",
    "\"\"\""
   ]
  },
  {
   "cell_type": "markdown",
   "metadata": {},
   "source": [
    "The DataLoader class still expects the static data to be passed in as a single DataFrame with one row per timeseries."
   ]
  },
  {
   "cell_type": "code",
   "execution_count": null,
   "metadata": {},
   "outputs": [],
   "source": [
    "static = AirPassengersStatic.rename(columns={'unique_id': 'id_col'})\n",
    "static"
   ]
  },
  {
   "cell_type": "markdown",
   "metadata": {},
   "source": [
    "## Model training\n",
    "\n",
    "We now train a NHITS model on the above dataset. \n",
    "It is worth noting that NeuralForecast currently does not support scaling when using this DataLoader. If you want to scale the timeseries this should be done before passing it in to the `fit` method."
   ]
  },
  {
   "cell_type": "code",
   "execution_count": null,
   "metadata": {},
   "outputs": [],
   "source": [
    "horizon = 12\n",
    "stacks = 3\n",
    "models = [NHITS(input_size=5 * horizon,\n",
    "                h=horizon,\n",
    "                futr_exog_list=['trend', 'y_[lag12]'],\n",
    "                stat_exog_list=['airline1', 'airline2'],\n",
    "                max_steps=100,\n",
    "                stack_types = stacks*['identity'],\n",
    "                n_blocks = stacks*[1],\n",
    "                mlp_units = [[256,256] for _ in range(stacks)],\n",
    "                n_pool_kernel_size = stacks*[1])]\n",
    "nf = NeuralForecast(models=models, freq='ME')\n",
    "nf.fit(df=files_list, static_df=static, id_col='id_col')"
   ]
  },
  {
   "cell_type": "markdown",
   "metadata": {},
   "source": [
    "## Forecasting\n",
    "\n",
    "When working with large datasets, we need to provide a single DataFrame containing the input timesteps of all the timeseries for which wish to generate predictions. If we have future exogenous features, we should also include the future values of these features in the separate `futr_df` DataFrame. \n",
    "\n",
    "For the below prediction we are assuming we only want to predict the next 12 timesteps for Airline2."
   ]
  },
  {
   "cell_type": "code",
   "execution_count": null,
   "metadata": {},
   "outputs": [],
   "source": [
    "valid_df = valid[valid['id_col'] == 'Airline2']\n",
    "# we set input_size=60 and horizon=12 when fitting the model\n",
    "pred_df = valid_df[:60]\n",
    "futr_df = valid_df[60:72]\n",
    "futr_df = futr_df.drop([\"y\"], axis=1)\n",
    "\n",
    "predictions = nf.predict(df=pred_df, futr_df=futr_df, static_df=static)"
   ]
  },
  {
   "cell_type": "code",
   "execution_count": null,
   "metadata": {},
   "outputs": [],
   "source": [
    "predictions"
   ]
  },
  {
   "cell_type": "markdown",
   "metadata": {},
   "source": [
    "## Evaluation"
   ]
  },
  {
   "cell_type": "code",
   "execution_count": null,
   "metadata": {},
   "outputs": [],
   "source": [
    "target = valid_df[60:72]"
   ]
  },
  {
   "cell_type": "code",
   "execution_count": null,
   "metadata": {},
   "outputs": [],
   "source": [
    "evaluate(\n",
    "    predictions.merge(target.drop([\"trend\", \"y_[lag12]\"], axis=1), on=['id_col', 'ds']),\n",
    "    metrics=[mae, rmse, smape],\n",
    "    id_col='id_col',\n",
    "    agg_fn='mean',\n",
    ")"
   ]
  }
 ],
 "metadata": {
  "kernelspec": {
   "display_name": "python3",
   "language": "python",
   "name": "python3"
  }
 },
 "nbformat": 4,
 "nbformat_minor": 0
}
