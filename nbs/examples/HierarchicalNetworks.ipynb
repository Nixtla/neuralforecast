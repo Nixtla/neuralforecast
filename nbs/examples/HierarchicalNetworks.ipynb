{
 "cells": [
  {
   "attachments": {},
   "cell_type": "markdown",
   "metadata": {},
   "source": [
    "# Hierarchical Forecast"
   ]
  },
  {
   "attachments": {},
   "cell_type": "markdown",
   "metadata": {},
   "source": [
    "This notebook offers a step by step guide to create a hierarchical forecasting pipeline.\n",
    "\n",
    "In the pipeline we will use `NeuralForecast` and `HINT` class, to create fit, predict and reconcile forecasts.\n",
    "\n",
    "We will use the TourismL dataset that summarizes large Australian national visitor survey.\n",
    "\n",
    "Outline<br>\n",
    "1. Installing packages<br>\n",
    "2. Load hierarchical dataset<br>\n",
    "3. Fit and Predict HINT<br>\n",
    "4. Forecast Evaluation"
   ]
  },
  {
   "attachments": {},
   "cell_type": "markdown",
   "metadata": {},
   "source": [
    "You can run these experiments using GPU with Google Colab.\n",
    "\n",
    "<a href=\"https://colab.research.google.com/github/Nixtla/neuralforecast/blob/main/nbs/examples/HierarchicalNetworks.ipynb\" target=\"_parent\"><img src=\"https://colab.research.google.com/assets/colab-badge.svg\" alt=\"Open In Colab\"/></a>"
   ]
  },
  {
   "attachments": {},
   "cell_type": "markdown",
   "metadata": {},
   "source": [
    "## 1. Installing packages"
   ]
  },
  {
   "cell_type": "code",
   "execution_count": null,
   "metadata": {},
   "outputs": [],
   "source": [
    "%%capture\n",
    "!pip install datasetsforecast hierarchicalforecast\n",
    "!pip install git+https://github.com/Nixtla/neuralforecast.git"
   ]
  },
  {
   "attachments": {},
   "cell_type": "markdown",
   "metadata": {},
   "source": [
    "## 2. Load hierarchical dataset"
   ]
  },
  {
   "attachments": {},
   "cell_type": "markdown",
   "metadata": {},
   "source": [
    "This detailed Australian Tourism Dataset comes from the National Visitor Survey, managed by the Tourism Research Australia, it is composed of 555 monthly series from 1998 to 2016, it is organized geographically, and purpose of travel. The natural geographical hierarchy comprises seven states, divided further in 27 zones and 76 regions. The purpose of travel categories are holiday, visiting friends and relatives (VFR), business and other. The MinT (Wickramasuriya et al., 2019), among other hierarchical forecasting studies has used the dataset it in the past. The dataset can be accessed in the [MinT reconciliation webpage](https://robjhyndman.com/publications/mint/), although other sources are available.\n",
    "\n",
    "| Geographical Division | Number of series per division | Number of series per purpose | Total |\n",
    "|          ---          |               ---             |              ---             |  ---  |\n",
    "|  Australia            |              1                |               4              |   5   |\n",
    "|  States               |              7                |              28              |  35   |\n",
    "|  Zones                |             27                |              108             |  135  |\n",
    "|  Regions              |             76                |              304             |  380  |\n",
    "|  Total                |            111                |              444             |  555  |\n"
   ]
  },
  {
   "cell_type": "code",
   "execution_count": null,
   "metadata": {},
   "outputs": [],
   "source": [
    "import pandas as pd\n",
    "import matplotlib.pyplot as plt\n",
    "\n",
    "from datasetsforecast.hierarchical import HierarchicalData\n",
    "from hierarchicalforecast.utils import aggregate, HierarchicalPlot\n",
    "\n",
    "from neuralforecast.utils import augment_calendar_df\n",
    "\n",
    "def sort_df_hier(Y_df, S):\n",
    "    # NeuralForecast core, sorts unique_id lexicographically\n",
    "    # by default, this method matches S_df and Y_hat_df hierarchical order.\n",
    "    Y_df.unique_id = Y_df.unique_id.astype('category')\n",
    "    Y_df.unique_id = Y_df.unique_id.cat.set_categories(S.index)\n",
    "    Y_df = Y_df.sort_values(by=['unique_id', 'ds'])\n",
    "    return Y_df\n",
    "\n",
    "# Load hierarchical dataset\n",
    "Y_df, S_df, tags = HierarchicalData.load('./data', 'TourismLarge')\n",
    "Y_df['ds'] = pd.to_datetime(Y_df['ds'])\n",
    "Y_df = sort_df_hier(Y_df, S_df)\n",
    "\n",
    "Y_df, _ = augment_calendar_df(df=Y_df, freq='M')"
   ]
  },
  {
   "attachments": {},
   "cell_type": "markdown",
   "metadata": {},
   "source": [
    "Mathematically a hierarchical multivariate time series can be denoted by the vector $\\mathbf{y}_{[a,b],t}$ defined by the following aggregation constraint:\n",
    "\n",
    "$$\n",
    "\\mathbf{y}_{[a,b],t}  = \\mathbf{S}_{[a,b][b]} \\mathbf{y}_{[b],t} \\quad \\Leftrightarrow \\quad \n",
    "\\begin{bmatrix}\\mathbf{y}_{[a],t}\n",
    "\\\\ %\\hline\n",
    "\\mathbf{y}_{[b],t}\\end{bmatrix} \n",
    "= \\begin{bmatrix}\n",
    "\\mathbf{A}_{[a][b]}\\\\ %\\hline\n",
    "\\mathbf{I}_{[b][b]}\n",
    "\\end{bmatrix}\n",
    "\\mathbf{y}_{[b],t}\n",
    "$$\n",
    "\n",
    "where $\\mathbf{y}_{[a],t}$ are the aggregate series, $\\mathbf{y}_{[b],t}$ are the bottom level series and $\\mathbf{S}_{[a,b][b]}$ are the hierarchical aggregation constraints."
   ]
  },
  {
   "cell_type": "code",
   "execution_count": null,
   "metadata": {},
   "outputs": [],
   "source": [
    "# Here we plot the hierarchical constraints matrix\n",
    "hplot = HierarchicalPlot(S=S_df, tags=tags)\n",
    "hplot.plot_summing_matrix()"
   ]
  },
  {
   "cell_type": "code",
   "execution_count": null,
   "metadata": {},
   "outputs": [],
   "source": [
    "# Here we plot the top most series from the dataset\n",
    "# that corresponds to the total tourist monthly visits to Australia\n",
    "plt.figure(figsize=(10,5))\n",
    "plt.plot(Y_df[Y_df['unique_id']=='TotalAll']['ds'], \n",
    "         Y_df[Y_df['unique_id']=='TotalAll']['y'], label='target')\n",
    "plt.plot(Y_df[Y_df['unique_id']=='TotalAll']['ds'], \n",
    "         Y_df[Y_df['unique_id']=='TotalAll']['month']*80000, label='month dummy')\n",
    "plt.xlabel('Date')\n",
    "plt.ylabel('Tourist Visits')\n",
    "plt.legend()\n",
    "plt.grid()\n",
    "plt.show()\n",
    "plt.close()"
   ]
  },
  {
   "attachments": {},
   "cell_type": "markdown",
   "metadata": {},
   "source": [
    "## 3. Fit and Predict HINT\n",
    "\n",
    "The Hierarchical Forecast Network (HINT) combines into an easy to use model three components:<br>\n",
    "1. SoTA neural forecast model.<br> \n",
    "2. An efficient and flexible multivariate probability distribution.<br>\n",
    "3. Builtin reconciliation capabilities.<br>"
   ]
  },
  {
   "cell_type": "code",
   "execution_count": null,
   "metadata": {},
   "outputs": [],
   "source": [
    "import numpy as np\n",
    "\n",
    "from neuralforecast import NeuralForecast\n",
    "from neuralforecast.models import NBEATSx, NHITS, HINT\n",
    "from neuralforecast.losses.pytorch import GMM, PMM, DistributionLoss, sCRPS"
   ]
  },
  {
   "cell_type": "code",
   "execution_count": null,
   "metadata": {},
   "outputs": [],
   "source": [
    "# Train test splits\n",
    "horizon = 12\n",
    "Y_test_df  = Y_df.groupby('unique_id').tail(horizon)\n",
    "Y_train_df = Y_df.drop(Y_test_df.index)\n",
    "Y_test_df  = Y_test_df.set_index('unique_id')\n",
    "Y_train_df = Y_train_df.set_index('unique_id')"
   ]
  },
  {
   "cell_type": "code",
   "execution_count": null,
   "metadata": {},
   "outputs": [],
   "source": [
    "# Horizon and quantiles\n",
    "level = np.arange(0, 100, 2)\n",
    "qs = [[50-lv/2, 50+lv/2] if lv!=0 else [50] for lv in level]\n",
    "quantiles = np.sort(np.concatenate(qs)/100)\n",
    "\n",
    "# HINT := BaseNetwork + Distribution + Reconciliation\n",
    "nhits = NHITS(h=horizon,\n",
    "              input_size=24,\n",
    "              loss=GMM(n_components=10, quantiles=quantiles),\n",
    "              hist_exog_list=['month'],\n",
    "              max_steps=2000,\n",
    "              early_stop_patience_steps=10,\n",
    "              val_check_steps=50,\n",
    "              scaler_type='robust',\n",
    "              learning_rate=1e-3,\n",
    "              valid_loss=sCRPS(quantiles=quantiles))\n",
    "\n",
    "model = HINT(h=horizon, S=S_df.values,\n",
    "             model=nhits,  reconciliation='BottomUp')"
   ]
  },
  {
   "cell_type": "code",
   "execution_count": null,
   "metadata": {},
   "outputs": [],
   "source": [
    "%%capture\n",
    "Y_df['y'] = Y_df['y'] * (Y_df['y'] > 0)\n",
    "nf = NeuralForecast(models=[model], freq='MS')\n",
    "# Y_hat_df = nf.cross_validation(df=Y_df, val_size=12, n_windows=1)\n",
    "nf.fit(df=Y_train_df, val_size=12)\n",
    "Y_hat_df = nf.predict()"
   ]
  },
  {
   "cell_type": "code",
   "execution_count": null,
   "metadata": {},
   "outputs": [],
   "source": [
    "unique_id = 'TotalAll'\n",
    "Y_plot_df = Y_df[Y_df.unique_id==unique_id].tail(12*5)\n",
    "Y_hat_df = Y_hat_df.reset_index()\n",
    "plot_df = Y_hat_df[Y_hat_df.unique_id==unique_id]\n",
    "plot_df = Y_plot_df.merge(plot_df, on=['unique_id', 'ds'], how='left')\n",
    "\n",
    "plt.plot(plot_df['ds'], plot_df['y'], c='black', label='True')\n",
    "plt.plot(plot_df['ds'], plot_df['HINT-median'], c='blue', label='median')\n",
    "plt.fill_between(x=plot_df['ds'][-12:],\n",
    "                 y1=plot_df['HINT-lo-90.0'][-12:].values,\n",
    "                 y2=plot_df['HINT-hi-90.0'][-12:].values,\n",
    "                 alpha=0.4, label='level 90')\n",
    "plt.legend()\n",
    "plt.grid()\n",
    "plt.plot()"
   ]
  },
  {
   "attachments": {},
   "cell_type": "markdown",
   "metadata": {},
   "source": [
    "## 4. Forecast Evaluation"
   ]
  },
  {
   "attachments": {},
   "cell_type": "markdown",
   "metadata": {},
   "source": [
    "To evaluate the coherent probabilistic predictions we use the scaled Continuous Ranked Probability Score (sCRPS), defined as follows:\n",
    "\n",
    "$$\n",
    "\\mathrm{CRPS}(\\hat{F}_{[a,b],\\tau},\\mathbf{y}_{[a,b],\\tau}) = \n",
    "    \\frac{2}{N_{a}+N_{b}} \\sum_{i} \\int^{1}_{0} \\mathrm{QL}(\\hat{F}_{i,\\tau}, y_{i,\\tau})_{q} dq\n",
    "$$\n",
    "\n",
    "$$\n",
    "\\mathrm{sCRPS}(\\hat{F}_{[a,b\\,],\\tau},\\mathbf{y}_{[a,b\\,],\\tau}) = \n",
    "    \\frac{\\mathrm{CRPS}(\\hat{F}_{[a,b\\,],\\tau},\\mathbf{y}_{[a,b\\,],\\tau})}{\\sum_{i} | y_{i,\\tau} |}\n",
    "$$\n",
    "\n",
    "As you can see the HINT model efficiently achieves state of the art accuracy under minimal tuning."
   ]
  },
  {
   "cell_type": "code",
   "execution_count": null,
   "metadata": {},
   "outputs": [],
   "source": [
    "from hierarchicalforecast.evaluation import scaled_crps    \n",
    "    \n",
    "def _get_hierarchical_scrps(hier_idxs, Y, Yq_hat, quantiles):\n",
    "    # We use the indexes obtained from the aggregation tags\n",
    "    # to compute scaled CRPS across the hierarchy levels \n",
    "    scrps_list = []\n",
    "    for idxs in hier_idxs:\n",
    "        y      = Y[idxs, :]\n",
    "        yq_hat = Yq_hat[idxs, :, :]\n",
    "        scrps  = scaled_crps(y, yq_hat, quantiles)\n",
    "        scrps_list.append(scrps)\n",
    "    return scrps_list\n",
    "\n",
    "hier_idxs = [np.arange(len(S_df))] +\\\n",
    "    [S_df.index.get_indexer(tags[level]) for level in list(tags.keys())]"
   ]
  },
  {
   "cell_type": "code",
   "execution_count": null,
   "metadata": {},
   "outputs": [],
   "source": [
    "%%capture\n",
    "n_series = len(S_df)\n",
    "n_quantiles = len(quantiles)\n",
    "\n",
    "# Bootstrap predictions\n",
    "n_samples = 5\n",
    "Y_hat_df_list = [nf.predict() for _ in range(n_samples)]\n",
    "\n",
    "# Parse y_test and y_rec\n",
    "# Keep only quantile columns from Y_hat_df\n",
    "# Removing mean and median default outputs\n",
    "model_name = type(model).__name__\n",
    "quantile_columns = [model_name + n for n in nhits.loss.output_names]\n",
    "quantile_columns.remove(model_name)\n",
    "Yq_hat = []\n",
    "for sample_idx in range(n_samples):\n",
    "    Y_hat = Y_hat_df_list[sample_idx][quantile_columns].values\n",
    "    Yq_hat.append(Y_hat.reshape(1, n_series, horizon, n_quantiles))\n",
    "\n",
    "Yq_hat = np.concatenate(Yq_hat, axis=0)\n",
    "Y_test = Y_test_df['y'].values.reshape(n_series, horizon)"
   ]
  },
  {
   "cell_type": "code",
   "execution_count": null,
   "metadata": {},
   "outputs": [],
   "source": [
    "print('Y_test.shape [n_series, horizon]', Y_test.shape)\n",
    "print('Yq_hat.shape [n_samples, n_series, horizon, n_quantiles]', Yq_hat.shape)\n",
    "\n",
    "# Compute bootstraped sCRPS\n",
    "scrps_hint = [_get_hierarchical_scrps(hier_idxs, Y_test, Yq_hat[sample_idx], quantiles) \\\n",
    "              for sample_idx in range(n_samples)]\n",
    "crps_mean = np.mean(np.array(scrps_hint), axis=0)\n",
    "crps_std = np.std(np.array(scrps_hint), axis=0)\n",
    "scrps_hint = [f'{crps_mean[level_idx]:.4f}±{(1.96 * crps_std[level_idx]):.4f}' \\\n",
    "              for level_idx in range(len(crps_mean))]\n",
    "\n",
    "# Add reported baselines' performance\n",
    "levels = ['Overall', 'Country', 'State', 'Zone', 'Region',\n",
    "          'Country/Purpose', 'State/Purpose', 'Zone/Purpose', 'Region/Purpose']\n",
    "scrps_dpmn = [\"0.1249±0.0020\",\"0.0431±0.0042\",\"0.0637±0.0032\",\"0.1084±0.0033\",\n",
    "              \"0.1554±0.0025\",\"0.0700±0.0038\",\"0.1070±0.0023\",\"0.1887±0.0032\",\"0.2629±0.0034\"]\n",
    "scrps_hiere2e = [\"0.1472±0.0029\",\"0.0842±0.0051\",\"0.1012±0.0029\",\"0.1317±0.0022\",\n",
    "              \"0.1705±0.0023\",\"0.0995±0.0061\",\"0.1336±0.0042\",\"0.1955±0.0025\",\"0.2615±0.0016\"]\n",
    "scrps_arima_mintrace = [\"0.1313±0.0009\",\"0.0471±0.0018\",\"0.0723±0.0011\",\"0.1143±0.0007\",\n",
    "              \"0.1591±0.0006\",\"0.0723±0.0014\",\"0.1243±0.0014\",\"0.1919±0.0008\",\"0.2694±0.0006\"]\n",
    "scrps_arima_bu = [\"0.1375±0.0013\",\"0.0622±0.0026\",\"0.0820±0.0019\",\"0.1207±0.0010\",\n",
    "              \"0.1646±0.0007\",\"0.0788±0.0018\",\"0.1268±0.0017\",\"0.1949±0.0010\",\"0.2698±0.0008\"]\n",
    "scrps_arima = [\"0.1416\",\"0.0263\",\"0.0904\",\"0.1389\",\"0.1878\",\"0.0770\",\"0.1270\",\"0.2022\",\"0.2834\"]\n",
    "\n",
    "scrps_results = dict(Levels=levels,\n",
    "                     HINT=scrps_hint, \n",
    "                     DPMN=scrps_dpmn,\n",
    "                     HierE2E=scrps_hiere2e, \n",
    "                     ARIMA_MinTrace_B=scrps_arima_mintrace,\n",
    "                     ARIMA_BottomUp_B=scrps_arima_bu,\n",
    "                     ARIMA=scrps_arima)\n",
    "scrps_results = pd.DataFrame(scrps_results)\n",
    "scrps_results"
   ]
  },
  {
   "attachments": {},
   "cell_type": "markdown",
   "metadata": {},
   "source": [
    "## References"
   ]
  },
  {
   "attachments": {},
   "cell_type": "markdown",
   "metadata": {},
   "source": [
    "- [Kin G. Olivares, David Luo, Cristian Challu, Stefania La Vattiata, Max Mergenthaler, Artur Dubrawski (2023). \"HINT: Hierarchical Mixture Networks For Coherent Probabilistic Forecasting\". International Conference on Machine Learning (ICML). Workshop on Structured Probabilistic Inference & Generative Modeling. Available at https://arxiv.org/abs/2305.07089.](https://arxiv.org/abs/2305.07089)<br />\n",
    "- [Kin G. Olivares, O. Nganba Meetei, Ruijun Ma, Rohan Reddy, Mengfei Cao, Lee Dicker (2023).\"Probabilistic Hierarchical Forecasting with Deep Poisson Mixtures\". International Journal Forecasting, accepted paper. URL https://arxiv.org/pdf/2110.13179.pdf.](https://arxiv.org/pdf/2110.13179.pdf)<br />\n",
    "- [Kin G. Olivares, Federico Garza, David Luo, Cristian Challu, Max Mergenthaler, Souhaib Ben Taieb, Shanika Wickramasuriya, and Artur Dubrawski (2023). \"HierarchicalForecast: A reference framework for hierarchical forecasting\". Journal of Machine Learning Research, submitted. URL https://arxiv.org/abs/2207.03517](https://arxiv.org/abs/2207.03517)"
   ]
  }
 ],
 "metadata": {
  "kernelspec": {
   "display_name": "python3",
   "language": "python",
   "name": "python3"
  }
 },
 "nbformat": 4,
 "nbformat_minor": 0
}
