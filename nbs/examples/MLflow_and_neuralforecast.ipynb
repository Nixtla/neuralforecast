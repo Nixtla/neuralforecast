{
 "cells": [
  {
   "cell_type": "markdown",
   "id": "0065a29e-b528-40cb-9b14-5eeb94c98e84",
   "metadata": {},
   "source": [
    "# MLflow and neuralforecast\n",
    "> Log your neuralforecast experiments to MLflow"
   ]
  },
  {
   "cell_type": "markdown",
   "id": "e4fb1958",
   "metadata": {},
   "source": [
    "## Installing dependencies"
   ]
  },
  {
   "cell_type": "markdown",
   "id": "963311a3-2427-4694-981b-438fce1c2981",
   "metadata": {},
   "source": [
    "To install Neuralforecast refer to https://nixtlaverse.nixtla.io/neuralforecast/examples/installation.html.\n",
    "\n",
    "To install mlflow: `pip install mlflow`"
   ]
  },
  {
   "cell_type": "markdown",
   "id": "1125a0bc",
   "metadata": {},
   "source": [
    "## Imports"
   ]
  },
  {
   "cell_type": "code",
   "execution_count": null,
   "id": "687f6677",
   "metadata": {},
   "outputs": [],
   "source": [
    "import logging\n",
    "import os\n",
    "import warnings\n",
    "\n",
    "import matplotlib.pyplot as plt\n",
    "import mlflow\n",
    "import mlflow.data\n",
    "import numpy as np\n",
    "import pandas as pd\n",
    "from mlflow.client import MlflowClient\n",
    "from mlflow.data.pandas_dataset import PandasDataset\n",
    "from utilsforecast.plotting import plot_series\n",
    "\n",
    "from neuralforecast.core import NeuralForecast\n",
    "from neuralforecast.models import NBEATSx\n",
    "from neuralforecast.utils import AirPassengersDF\n",
    "from neuralforecast.losses.pytorch import MAE"
   ]
  },
  {
   "cell_type": "code",
   "execution_count": null,
   "id": "dbafb920-4af8-49d0-abfa-2ff79f2cfd00",
   "metadata": {},
   "outputs": [],
   "source": [
    "os.environ['NIXTLA_ID_AS_COL'] = '1'\n",
    "logging.getLogger(\"mlflow\").setLevel(logging.ERROR)\n",
    "logging.getLogger(\"pytorch_lightning\").setLevel(logging.ERROR)\n",
    "warnings.filterwarnings(\"ignore\")"
   ]
  },
  {
   "cell_type": "markdown",
   "id": "2570db3c-d8f7-4b07-bd43-d79d730b07cb",
   "metadata": {},
   "source": [
    "## Splitting the data"
   ]
  },
  {
   "cell_type": "code",
   "execution_count": null,
   "id": "0d556dc4-8965-4dfd-809a-7b87d348d5ea",
   "metadata": {},
   "outputs": [],
   "source": [
    "# Split data and declare panel dataset\n",
    "Y_df = AirPassengersDF\n",
    "Y_train_df = Y_df[Y_df.ds<='1959-12-31'] # 132 train\n",
    "Y_test_df = Y_df[Y_df.ds>'1959-12-31'] # 12 test\n",
    "Y_df.tail()"
   ]
  },
  {
   "cell_type": "markdown",
   "id": "919711ee-6fe1-442b-a11f-6031cd4b4999",
   "metadata": {},
   "source": [
    "## MLflow UI\n",
    "Run the following command from the terminal to start the UI: `mlflow ui`. You can then go to the printed URL to visualize the experiments."
   ]
  },
  {
   "cell_type": "markdown",
   "id": "00768993-bcf7-43d5-9ac3-2f916e52acc6",
   "metadata": {},
   "source": [
    "## Model training"
   ]
  },
  {
   "cell_type": "code",
   "execution_count": null,
   "id": "a4467763",
   "metadata": {},
   "outputs": [],
   "source": [
    "mlflow.pytorch.autolog(checkpoint=False)\n",
    "\n",
    "with mlflow.start_run() as run:\n",
    "    # Log the dataset to the MLflow Run. Specify the \"training\" context to indicate that the\n",
    "    # dataset is used for model training\n",
    "    dataset: PandasDataset = mlflow.data.from_pandas(Y_df, source=\"AirPassengersDF\")\n",
    "    mlflow.log_input(dataset, context=\"training\")\n",
    "\n",
    "    # Define and log parameters\n",
    "    horizon = len(Y_test_df)\n",
    "    model_params = dict(\n",
    "        input_size=1 * horizon,\n",
    "        h=horizon,\n",
    "        max_steps=300,  \n",
    "        loss=MAE(),\n",
    "        valid_loss=MAE(),  \n",
    "        activation='ReLU',\n",
    "        scaler_type='robust',\n",
    "        random_seed=42,\n",
    "        enable_progress_bar=False,\n",
    "    )\n",
    "    mlflow.log_params(model_params)\n",
    "\n",
    "    # Fit NBEATSx model\n",
    "    models = [NBEATSx(**model_params)]\n",
    "    nf = NeuralForecast(models=models, freq='M')           \n",
    "    train = nf.fit(df=Y_train_df, val_size=horizon)\n",
    "    \n",
    "    # Save conda environment used to run the model\n",
    "    mlflow.pytorch.get_default_conda_env()\n",
    "    \n",
    "    # Save pip requirements\n",
    "    mlflow.pytorch.get_default_pip_requirements()\n",
    "\n",
    "mlflow.pytorch.autolog(disable=True)\n",
    "\n",
    "# Save the neural forecast model\n",
    "nf.save(path='./checkpoints/test_run_1/',\n",
    "        model_index=None, \n",
    "        overwrite=True,\n",
    "        save_dataset=True)"
   ]
  },
  {
   "cell_type": "markdown",
   "id": "0f72c67d-8d93-4a93-aa15-632c1ca3ae00",
   "metadata": {},
   "source": [
    "## Forecasting the future"
   ]
  },
  {
   "cell_type": "code",
   "execution_count": null,
   "id": "62bec1b2-c07f-4ffd-8e2f-d2581ec3fcf5",
   "metadata": {},
   "outputs": [],
   "source": [
    "Y_hat_df = nf.predict(futr_df=Y_test_df)\n",
    "plot_series(Y_train_df, Y_hat_df, palette='tab20b')"
   ]
  }
 ],
 "metadata": {
  "kernelspec": {
   "display_name": "python3",
   "language": "python",
   "name": "python3"
  }
 },
 "nbformat": 4,
 "nbformat_minor": 5
}
