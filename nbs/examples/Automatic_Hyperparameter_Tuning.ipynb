{
 "cells": [
  {
   "attachments": {},
   "cell_type": "markdown",
   "metadata": {},
   "source": [
    "# Hyperparameter Optimization"
   ]
  },
  {
   "attachments": {},
   "cell_type": "markdown",
   "metadata": {},
   "source": [
    "Deep-learning models are the state-of-the-art in time series forecasting. They have outperformed statistical and tree-based approaches in recent large-scale competitions, such as the M series, and are being increasingly adopted in industry. However, their performance is greatly affected by the choice of hyperparameters. Selecting the optimal configuration, a process called hyperparameter tuning, is essential to achieve the best performance.\n",
    "\n",
    "The main steps of hyperparameter tuning are:\n",
    "\n",
    " 1. Define training and validation sets.\n",
    " 2. Define search space.\n",
    " 3. Sample configurations with a search algorithm, train models, and evaluate them on the validation set.\n",
    " 4. Select and store the best model.\n",
    "\n",
    "With `Neuralforecast`, we automatize and simplify the hyperparameter tuning process with the `Auto` models. Every model in the library has an `Auto` version (for example, `AutoNHITS`, `AutoTFT`) which can perform automatic hyperparameter selection on default or user-defined search space.\n",
    "\n",
    "The `Auto` models can be used with two backends: Ray's `Tune` library and `Optuna`, with a user-friendly and simplified API, with most of their capabilities.\n",
    "\n",
    "In this tutorial, we show in detail how to instantiate and train an `AutoNHITS` model with a custom search space with both `Tune` and `Optuna` backends, install and use `HYPEROPT` search algorithm, and use the model with optimal hyperparameters to forecast."
   ]
  },
  {
   "attachments": {},
   "cell_type": "markdown",
   "metadata": {},
   "source": [
    "You can run these experiments using GPU with Google Colab.\n",
    "\n",
    "<a href=\"https://colab.research.google.com/github/Nixtla/neuralforecast/blob/main/nbs/examples/Automatic_Hyperparameter_Tuning.ipynb\" target=\"_parent\"><img src=\"https://colab.research.google.com/assets/colab-badge.svg\" alt=\"Open In Colab\"/></a>"
   ]
  },
  {
   "attachments": {},
   "cell_type": "markdown",
   "metadata": {},
   "source": [
    "## 1. Install `Neuralforecast`"
   ]
  },
  {
   "cell_type": "code",
   "execution_count": null,
   "metadata": {},
   "outputs": [],
   "source": [
    "%%capture\n",
    "# !pip install neuralforecast hyperopt"
   ]
  },
  {
   "attachments": {},
   "cell_type": "markdown",
   "metadata": {},
   "source": [
    "## 2. Load Data\n",
    "\n",
    "In this example we will use the `AirPasengers`, a popular dataset with monthly airline passengers in the US from 1949 to 1960. Load the data, available at our `utils` methods in the required format. See https://nixtla.github.io/neuralforecast/examples/data_format.html for more details on the data input format."
   ]
  },
  {
   "cell_type": "code",
   "execution_count": null,
   "metadata": {},
   "outputs": [
    {
     "data": {
      "text/html": [
       "<div>\n",
       "<style scoped>\n",
       "    .dataframe tbody tr th:only-of-type {\n",
       "        vertical-align: middle;\n",
       "    }\n",
       "\n",
       "    .dataframe tbody tr th {\n",
       "        vertical-align: top;\n",
       "    }\n",
       "\n",
       "    .dataframe thead th {\n",
       "        text-align: right;\n",
       "    }\n",
       "</style>\n",
       "<table border=\"1\" class=\"dataframe\">\n",
       "  <thead>\n",
       "    <tr style=\"text-align: right;\">\n",
       "      <th></th>\n",
       "      <th>unique_id</th>\n",
       "      <th>ds</th>\n",
       "      <th>y</th>\n",
       "    </tr>\n",
       "  </thead>\n",
       "  <tbody>\n",
       "    <tr>\n",
       "      <th>0</th>\n",
       "      <td>1.0</td>\n",
       "      <td>1949-01-31</td>\n",
       "      <td>112.0</td>\n",
       "    </tr>\n",
       "    <tr>\n",
       "      <th>1</th>\n",
       "      <td>1.0</td>\n",
       "      <td>1949-02-28</td>\n",
       "      <td>118.0</td>\n",
       "    </tr>\n",
       "    <tr>\n",
       "      <th>2</th>\n",
       "      <td>1.0</td>\n",
       "      <td>1949-03-31</td>\n",
       "      <td>132.0</td>\n",
       "    </tr>\n",
       "    <tr>\n",
       "      <th>3</th>\n",
       "      <td>1.0</td>\n",
       "      <td>1949-04-30</td>\n",
       "      <td>129.0</td>\n",
       "    </tr>\n",
       "    <tr>\n",
       "      <th>4</th>\n",
       "      <td>1.0</td>\n",
       "      <td>1949-05-31</td>\n",
       "      <td>121.0</td>\n",
       "    </tr>\n",
       "  </tbody>\n",
       "</table>\n",
       "</div>"
      ],
      "text/plain": [
       "   unique_id         ds      y\n",
       "0        1.0 1949-01-31  112.0\n",
       "1        1.0 1949-02-28  118.0\n",
       "2        1.0 1949-03-31  132.0\n",
       "3        1.0 1949-04-30  129.0\n",
       "4        1.0 1949-05-31  121.0"
      ]
     },
     "execution_count": null,
     "metadata": {},
     "output_type": "execute_result"
    }
   ],
   "source": [
    "from neuralforecast.utils import AirPassengersDF\n",
    "\n",
    "Y_df = AirPassengersDF\n",
    "Y_df.head()"
   ]
  },
  {
   "cell_type": "markdown",
   "metadata": {},
   "source": [
    "## 3. Ray's `Tune` backend"
   ]
  },
  {
   "cell_type": "markdown",
   "metadata": {},
   "source": [
    "First, we show how to use the `Tune` backend. This backend is based on Ray's `Tune` library, which is a scalable framework for hyperparameter tuning. It is a popular library in the machine learning community, and it is used by many companies and research labs. If you plan to use the `Optuna` backend, you can skip this section."
   ]
  },
  {
   "attachments": {},
   "cell_type": "markdown",
   "metadata": {},
   "source": [
    "### 3.a Define hyperparameter grid"
   ]
  },
  {
   "attachments": {},
   "cell_type": "markdown",
   "metadata": {},
   "source": [
    "Each `Auto` model contains a default search space that was extensively tested on multiple large-scale datasets. Search spaces are specified with dictionaries, where keys corresponds to the model's hyperparameter and the value is a `Tune` function to specify how the hyperparameter will be sampled. For example, use `randint` to sample integers uniformly, and `choice` to sample values of a list. "
   ]
  },
  {
   "cell_type": "markdown",
   "metadata": {},
   "source": [
    "### 3.a.1 Default hyperparameter grid\n",
    "\n",
    "The default search space dictionary can be accessed through the `get_default_config` function of the `Auto` model. This is useful if you wish to use the default parameter configuration but want to change one or more hyperparameter spaces without changing the other default values.\n",
    "\n",
    "To extract the default config, you need to define:\n",
    "* `h`: forecasting horizon.\n",
    "* `backend`: backend to use.\n",
    "* `n_series`: Optional, the number of unique time series, required only for Multivariate models. \n",
    "\n",
    "In this example, we will use `h=12` and we use `ray` as backend. We will use the default hyperparameter space but only change `random_seed` range and `n_pool_kernel_size`."
   ]
  },
  {
   "cell_type": "code",
   "execution_count": null,
   "metadata": {},
   "outputs": [],
   "source": [
    "from ray import tune\n",
    "from neuralforecast.auto import AutoNHITS\n",
    "\n",
    "nhits_config = AutoNHITS.get_default_config(h = 12, backend=\"ray\")                      # Extract the default hyperparameter settings\n",
    "nhits_config[\"random_seed\"] = tune.randint(1, 10)                                       # Random seed\n",
    "nhits_config[\"n_pool_kernel_size\"] = tune.choice([[2, 2, 2], [16, 8, 1]])               # MaxPool's Kernelsize"
   ]
  },
  {
   "cell_type": "markdown",
   "metadata": {},
   "source": [
    "### 3.a.2 Custom hyperparameter grid\n",
    "\n",
    "More generally, users can define fully customized search spaces tailored for particular datasets and tasks, by fully specifying a hyperparameter search space dictionary.\n",
    "\n",
    "In the following example we are optimizing the `learning_rate` and two `NHITS` specific hyperparameters: `n_pool_kernel_size` and `n_freq_downsample`. Additionaly, we use the search space to modify default hyperparameters, such as `max_steps` and `val_check_steps`. "
   ]
  },
  {
   "cell_type": "code",
   "execution_count": null,
   "metadata": {},
   "outputs": [],
   "source": [
    "nhits_config = {\n",
    "       \"max_steps\": 100,                                                         # Number of SGD steps\n",
    "       \"input_size\": 24,                                                         # Size of input window\n",
    "       \"learning_rate\": tune.loguniform(1e-5, 1e-1),                             # Initial Learning rate\n",
    "       \"n_pool_kernel_size\": tune.choice([[2, 2, 2], [16, 8, 1]]),               # MaxPool's Kernelsize\n",
    "       \"n_freq_downsample\": tune.choice([[168, 24, 1], [24, 12, 1], [1, 1, 1]]), # Interpolation expressivity ratios\n",
    "       \"val_check_steps\": 50,                                                    # Compute validation every 50 steps\n",
    "       \"random_seed\": tune.randint(1, 10),                                       # Random seed\n",
    "    }"
   ]
  },
  {
   "attachments": {},
   "cell_type": "markdown",
   "metadata": {},
   "source": [
    ":::{.callout-important}\n",
    "Configuration dictionaries are not interchangeable between models since they have different hyperparameters. Refer to https://nixtla.github.io/neuralforecast/models.html for a complete list of each model's hyperparameters.\n",
    ":::"
   ]
  },
  {
   "attachments": {},
   "cell_type": "markdown",
   "metadata": {},
   "source": [
    "### 3.b Instantiate `Auto` model"
   ]
  },
  {
   "attachments": {},
   "cell_type": "markdown",
   "metadata": {},
   "source": [
    "To instantiate an `Auto` model you need to define:\n",
    "\n",
    "* `h`: forecasting horizon.\n",
    "* `loss`: training and validation loss from `neuralforecast.losses.pytorch`.\n",
    "* `config`: hyperparameter search space. If `None`, the `Auto` class will use a pre-defined suggested hyperparameter space. \n",
    "* `search_alg`: search algorithm (from `tune.search`), default is random search. Refer to https://docs.ray.io/en/latest/tune/api_docs/suggestion.html for more information on the different search algorithm options.\n",
    "* `backend`: backend to use, default is `ray`. If `optuna`, the `Auto` class will use the `Optuna` backend.\n",
    "* `num_samples`: number of configurations explored."
   ]
  },
  {
   "attachments": {},
   "cell_type": "markdown",
   "metadata": {},
   "source": [
    "In this example we set horizon `h` as 12, use the `MAE` loss for training and validation, and use the `HYPEROPT` search algorithm. "
   ]
  },
  {
   "cell_type": "code",
   "execution_count": null,
   "metadata": {},
   "outputs": [],
   "source": [
    "from ray.tune.search.hyperopt import HyperOptSearch\n",
    "from neuralforecast.losses.pytorch import MAE\n",
    "from neuralforecast.auto import AutoNHITS"
   ]
  },
  {
   "cell_type": "code",
   "execution_count": null,
   "metadata": {},
   "outputs": [],
   "source": [
    "model = AutoNHITS(h=12,\n",
    "                  loss=MAE(),\n",
    "                  config=nhits_config,\n",
    "                  search_alg=HyperOptSearch(),\n",
    "                  backend='ray',\n",
    "                  num_samples=10)"
   ]
  },
  {
   "attachments": {},
   "cell_type": "markdown",
   "metadata": {},
   "source": [
    ":::{.callout-tip}\n",
    "The number of samples, `num_samples`, is a crucial parameter! Larger values will usually produce better results as we explore more configurations in the search space, but it will increase training times. Larger search spaces will usually require more samples. As a general rule, we recommend setting `num_samples` higher than 20. We set 10 in this example for demonstration purposes.\n",
    ":::"
   ]
  },
  {
   "attachments": {},
   "cell_type": "markdown",
   "metadata": {},
   "source": [
    "### 3.c Train model and predict with `Core` class"
   ]
  },
  {
   "attachments": {},
   "cell_type": "markdown",
   "metadata": {},
   "source": [
    "Next, we use the `Neuralforecast` class to train the `Auto` model. In this step, `Auto` models will automatically perform hyperparamter tuning training multiple models with different hyperparameters, producing the forecasts on the validation set, and evaluating them. The best configuration is selected based on the error on a validation set. Only the best model is stored and used during inference."
   ]
  },
  {
   "cell_type": "code",
   "execution_count": null,
   "metadata": {},
   "outputs": [],
   "source": [
    "from neuralforecast import NeuralForecast"
   ]
  },
  {
   "attachments": {},
   "cell_type": "markdown",
   "metadata": {},
   "source": [
    "Use the `val_size` parameter of the `fit` method to control the length of the validation set. In this case we set the validation set as twice the forecasting horizon."
   ]
  },
  {
   "cell_type": "code",
   "execution_count": null,
   "metadata": {},
   "outputs": [
    {
     "name": "stderr",
     "output_type": "stream",
     "text": [
      "Global seed set to 8\n"
     ]
    }
   ],
   "source": [
    "%%capture\n",
    "nf = NeuralForecast(models=[model], freq='M')\n",
    "nf.fit(df=Y_df, val_size=24)"
   ]
  },
  {
   "attachments": {},
   "cell_type": "markdown",
   "metadata": {},
   "source": [
    "The results of the hyperparameter tuning are available in the `results` attribute of the `Auto` model. Use the `get_dataframe` method to get the results in a pandas dataframe."
   ]
  },
  {
   "cell_type": "code",
   "execution_count": null,
   "metadata": {},
   "outputs": [
    {
     "data": {
      "text/html": [
       "<div>\n",
       "<style scoped>\n",
       "    .dataframe tbody tr th:only-of-type {\n",
       "        vertical-align: middle;\n",
       "    }\n",
       "\n",
       "    .dataframe tbody tr th {\n",
       "        vertical-align: top;\n",
       "    }\n",
       "\n",
       "    .dataframe thead th {\n",
       "        text-align: right;\n",
       "    }\n",
       "</style>\n",
       "<table border=\"1\" class=\"dataframe\">\n",
       "  <thead>\n",
       "    <tr style=\"text-align: right;\">\n",
       "      <th></th>\n",
       "      <th>loss</th>\n",
       "      <th>time_this_iter_s</th>\n",
       "      <th>done</th>\n",
       "      <th>timesteps_total</th>\n",
       "      <th>episodes_total</th>\n",
       "      <th>training_iteration</th>\n",
       "      <th>trial_id</th>\n",
       "      <th>experiment_id</th>\n",
       "      <th>date</th>\n",
       "      <th>timestamp</th>\n",
       "      <th>...</th>\n",
       "      <th>config/input_size</th>\n",
       "      <th>config/learning_rate</th>\n",
       "      <th>config/loss</th>\n",
       "      <th>config/max_steps</th>\n",
       "      <th>config/n_freq_downsample</th>\n",
       "      <th>config/n_pool_kernel_size</th>\n",
       "      <th>config/random_seed</th>\n",
       "      <th>config/val_check_steps</th>\n",
       "      <th>config/valid_loss</th>\n",
       "      <th>logdir</th>\n",
       "    </tr>\n",
       "  </thead>\n",
       "  <tbody>\n",
       "    <tr>\n",
       "      <th>0</th>\n",
       "      <td>21.173204</td>\n",
       "      <td>3.645993</td>\n",
       "      <td>False</td>\n",
       "      <td>NaN</td>\n",
       "      <td>NaN</td>\n",
       "      <td>2</td>\n",
       "      <td>e20dbd9b</td>\n",
       "      <td>f62650f116914e18889bb96963c6b202</td>\n",
       "      <td>2023-10-03_11-19-14</td>\n",
       "      <td>1696346354</td>\n",
       "      <td>...</td>\n",
       "      <td>24</td>\n",
       "      <td>0.000415</td>\n",
       "      <td>MAE()</td>\n",
       "      <td>100</td>\n",
       "      <td>[168, 24, 1]</td>\n",
       "      <td>[16, 8, 1]</td>\n",
       "      <td>7</td>\n",
       "      <td>50</td>\n",
       "      <td>MAE()</td>\n",
       "      <td>/Users/cchallu/ray_results/_train_tune_2023-10...</td>\n",
       "    </tr>\n",
       "    <tr>\n",
       "      <th>1</th>\n",
       "      <td>33.843426</td>\n",
       "      <td>3.756614</td>\n",
       "      <td>False</td>\n",
       "      <td>NaN</td>\n",
       "      <td>NaN</td>\n",
       "      <td>2</td>\n",
       "      <td>75e09199</td>\n",
       "      <td>f62650f116914e18889bb96963c6b202</td>\n",
       "      <td>2023-10-03_11-19-22</td>\n",
       "      <td>1696346362</td>\n",
       "      <td>...</td>\n",
       "      <td>24</td>\n",
       "      <td>0.000068</td>\n",
       "      <td>MAE()</td>\n",
       "      <td>100</td>\n",
       "      <td>[24, 12, 1]</td>\n",
       "      <td>[16, 8, 1]</td>\n",
       "      <td>4</td>\n",
       "      <td>50</td>\n",
       "      <td>MAE()</td>\n",
       "      <td>/Users/cchallu/ray_results/_train_tune_2023-10...</td>\n",
       "    </tr>\n",
       "    <tr>\n",
       "      <th>2</th>\n",
       "      <td>17.750280</td>\n",
       "      <td>8.573898</td>\n",
       "      <td>False</td>\n",
       "      <td>NaN</td>\n",
       "      <td>NaN</td>\n",
       "      <td>2</td>\n",
       "      <td>0dc5925a</td>\n",
       "      <td>f62650f116914e18889bb96963c6b202</td>\n",
       "      <td>2023-10-03_11-19-36</td>\n",
       "      <td>1696346376</td>\n",
       "      <td>...</td>\n",
       "      <td>24</td>\n",
       "      <td>0.001615</td>\n",
       "      <td>MAE()</td>\n",
       "      <td>100</td>\n",
       "      <td>[1, 1, 1]</td>\n",
       "      <td>[2, 2, 2]</td>\n",
       "      <td>8</td>\n",
       "      <td>50</td>\n",
       "      <td>MAE()</td>\n",
       "      <td>/Users/cchallu/ray_results/_train_tune_2023-10...</td>\n",
       "    </tr>\n",
       "    <tr>\n",
       "      <th>3</th>\n",
       "      <td>24.573055</td>\n",
       "      <td>6.987517</td>\n",
       "      <td>False</td>\n",
       "      <td>NaN</td>\n",
       "      <td>NaN</td>\n",
       "      <td>2</td>\n",
       "      <td>352e03ff</td>\n",
       "      <td>f62650f116914e18889bb96963c6b202</td>\n",
       "      <td>2023-10-03_11-19-50</td>\n",
       "      <td>1696346390</td>\n",
       "      <td>...</td>\n",
       "      <td>24</td>\n",
       "      <td>0.003405</td>\n",
       "      <td>MAE()</td>\n",
       "      <td>100</td>\n",
       "      <td>[1, 1, 1]</td>\n",
       "      <td>[2, 2, 2]</td>\n",
       "      <td>5</td>\n",
       "      <td>50</td>\n",
       "      <td>MAE()</td>\n",
       "      <td>/Users/cchallu/ray_results/_train_tune_2023-10...</td>\n",
       "    </tr>\n",
       "    <tr>\n",
       "      <th>4</th>\n",
       "      <td>474221.937500</td>\n",
       "      <td>4.912362</td>\n",
       "      <td>False</td>\n",
       "      <td>NaN</td>\n",
       "      <td>NaN</td>\n",
       "      <td>2</td>\n",
       "      <td>289bdd5e</td>\n",
       "      <td>f62650f116914e18889bb96963c6b202</td>\n",
       "      <td>2023-10-03_11-20-00</td>\n",
       "      <td>1696346400</td>\n",
       "      <td>...</td>\n",
       "      <td>24</td>\n",
       "      <td>0.080117</td>\n",
       "      <td>MAE()</td>\n",
       "      <td>100</td>\n",
       "      <td>[168, 24, 1]</td>\n",
       "      <td>[16, 8, 1]</td>\n",
       "      <td>5</td>\n",
       "      <td>50</td>\n",
       "      <td>MAE()</td>\n",
       "      <td>/Users/cchallu/ray_results/_train_tune_2023-10...</td>\n",
       "    </tr>\n",
       "  </tbody>\n",
       "</table>\n",
       "<p>5 rows × 29 columns</p>\n",
       "</div>"
      ],
      "text/plain": [
       "            loss  time_this_iter_s   done  timesteps_total  episodes_total  \\\n",
       "0      21.173204          3.645993  False              NaN             NaN   \n",
       "1      33.843426          3.756614  False              NaN             NaN   \n",
       "2      17.750280          8.573898  False              NaN             NaN   \n",
       "3      24.573055          6.987517  False              NaN             NaN   \n",
       "4  474221.937500          4.912362  False              NaN             NaN   \n",
       "\n",
       "   training_iteration  trial_id                     experiment_id  \\\n",
       "0                   2  e20dbd9b  f62650f116914e18889bb96963c6b202   \n",
       "1                   2  75e09199  f62650f116914e18889bb96963c6b202   \n",
       "2                   2  0dc5925a  f62650f116914e18889bb96963c6b202   \n",
       "3                   2  352e03ff  f62650f116914e18889bb96963c6b202   \n",
       "4                   2  289bdd5e  f62650f116914e18889bb96963c6b202   \n",
       "\n",
       "                  date   timestamp  ...  config/input_size  \\\n",
       "0  2023-10-03_11-19-14  1696346354  ...                 24   \n",
       "1  2023-10-03_11-19-22  1696346362  ...                 24   \n",
       "2  2023-10-03_11-19-36  1696346376  ...                 24   \n",
       "3  2023-10-03_11-19-50  1696346390  ...                 24   \n",
       "4  2023-10-03_11-20-00  1696346400  ...                 24   \n",
       "\n",
       "   config/learning_rate config/loss config/max_steps  \\\n",
       "0              0.000415       MAE()              100   \n",
       "1              0.000068       MAE()              100   \n",
       "2              0.001615       MAE()              100   \n",
       "3              0.003405       MAE()              100   \n",
       "4              0.080117       MAE()              100   \n",
       "\n",
       "   config/n_freq_downsample  config/n_pool_kernel_size  config/random_seed  \\\n",
       "0              [168, 24, 1]                 [16, 8, 1]                   7   \n",
       "1               [24, 12, 1]                 [16, 8, 1]                   4   \n",
       "2                 [1, 1, 1]                  [2, 2, 2]                   8   \n",
       "3                 [1, 1, 1]                  [2, 2, 2]                   5   \n",
       "4              [168, 24, 1]                 [16, 8, 1]                   5   \n",
       "\n",
       "   config/val_check_steps  config/valid_loss  \\\n",
       "0                      50              MAE()   \n",
       "1                      50              MAE()   \n",
       "2                      50              MAE()   \n",
       "3                      50              MAE()   \n",
       "4                      50              MAE()   \n",
       "\n",
       "                                              logdir  \n",
       "0  /Users/cchallu/ray_results/_train_tune_2023-10...  \n",
       "1  /Users/cchallu/ray_results/_train_tune_2023-10...  \n",
       "2  /Users/cchallu/ray_results/_train_tune_2023-10...  \n",
       "3  /Users/cchallu/ray_results/_train_tune_2023-10...  \n",
       "4  /Users/cchallu/ray_results/_train_tune_2023-10...  \n",
       "\n",
       "[5 rows x 29 columns]"
      ]
     },
     "execution_count": null,
     "metadata": {},
     "output_type": "execute_result"
    }
   ],
   "source": [
    "results = nf.models[0].results.get_dataframe()\n",
    "results.head()"
   ]
  },
  {
   "attachments": {},
   "cell_type": "markdown",
   "metadata": {},
   "source": [
    "Next, we use the `predict` method to forecast the next 12 months using the optimal hyperparameters."
   ]
  },
  {
   "cell_type": "code",
   "execution_count": null,
   "metadata": {},
   "outputs": [
    {
     "name": "stdout",
     "output_type": "stream",
     "text": [
      "Predicting DataLoader 0: 100%|██████████| 1/1 [00:00<00:00, 113.97it/s]\n"
     ]
    },
    {
     "data": {
      "text/html": [
       "<div>\n",
       "<style scoped>\n",
       "    .dataframe tbody tr th:only-of-type {\n",
       "        vertical-align: middle;\n",
       "    }\n",
       "\n",
       "    .dataframe tbody tr th {\n",
       "        vertical-align: top;\n",
       "    }\n",
       "\n",
       "    .dataframe thead th {\n",
       "        text-align: right;\n",
       "    }\n",
       "</style>\n",
       "<table border=\"1\" class=\"dataframe\">\n",
       "  <thead>\n",
       "    <tr style=\"text-align: right;\">\n",
       "      <th></th>\n",
       "      <th>unique_id</th>\n",
       "      <th>ds</th>\n",
       "      <th>AutoNHITS</th>\n",
       "    </tr>\n",
       "  </thead>\n",
       "  <tbody>\n",
       "    <tr>\n",
       "      <th>0</th>\n",
       "      <td>1.0</td>\n",
       "      <td>1961-01-31</td>\n",
       "      <td>442.346680</td>\n",
       "    </tr>\n",
       "    <tr>\n",
       "      <th>1</th>\n",
       "      <td>1.0</td>\n",
       "      <td>1961-02-28</td>\n",
       "      <td>439.409821</td>\n",
       "    </tr>\n",
       "    <tr>\n",
       "      <th>2</th>\n",
       "      <td>1.0</td>\n",
       "      <td>1961-03-31</td>\n",
       "      <td>477.709930</td>\n",
       "    </tr>\n",
       "    <tr>\n",
       "      <th>3</th>\n",
       "      <td>1.0</td>\n",
       "      <td>1961-04-30</td>\n",
       "      <td>503.884064</td>\n",
       "    </tr>\n",
       "    <tr>\n",
       "      <th>4</th>\n",
       "      <td>1.0</td>\n",
       "      <td>1961-05-31</td>\n",
       "      <td>521.344421</td>\n",
       "    </tr>\n",
       "  </tbody>\n",
       "</table>\n",
       "</div>"
      ],
      "text/plain": [
       "   unique_id         ds   AutoNHITS\n",
       "0        1.0 1961-01-31  442.346680\n",
       "1        1.0 1961-02-28  439.409821\n",
       "2        1.0 1961-03-31  477.709930\n",
       "3        1.0 1961-04-30  503.884064\n",
       "4        1.0 1961-05-31  521.344421"
      ]
     },
     "execution_count": null,
     "metadata": {},
     "output_type": "execute_result"
    }
   ],
   "source": [
    "Y_hat_df = nf.predict()\n",
    "Y_hat_df = Y_hat_df.reset_index()\n",
    "Y_hat_df.head()"
   ]
  },
  {
   "cell_type": "markdown",
   "metadata": {},
   "source": [
    "## 4. `Optuna` backend"
   ]
  },
  {
   "cell_type": "markdown",
   "metadata": {},
   "source": [
    "In this section we show how to use the `Optuna` backend. `Optuna` is a lightweight and versatile platform for hyperparameter optimization. If you plan to use the `Tune` backend, you can skip this section."
   ]
  },
  {
   "cell_type": "markdown",
   "metadata": {},
   "source": [
    "### 4.a Define hyperparameter grid"
   ]
  },
  {
   "cell_type": "markdown",
   "metadata": {},
   "source": [
    "Each `Auto` model contains a default search space that was extensively tested on multiple large-scale datasets. Search spaces are specified with a function that returns a dictionary, where keys corresponds to the model's hyperparameter and the value is a `suggest` function to specify how the hyperparameter will be sampled. For example, use `suggest_int` to sample integers uniformly, and `suggest_categorical` to sample values of a list. See https://optuna.readthedocs.io/en/stable/reference/generated/optuna.trial.Trial.html for more details."
   ]
  },
  {
   "cell_type": "markdown",
   "metadata": {},
   "source": [
    "### 4.a.1 Default hyperparameter grid\n",
    "\n",
    "The default search space dictionary can be accessed through the `get_default_config` function of the `Auto` model. This is useful if you wish to use the default parameter configuration but want to change one or more hyperparameter spaces without changing the other default values.\n",
    "\n",
    "To extract the default config, you need to define:\n",
    "* `h`: forecasting horizon.\n",
    "* `backend`: backend to use.\n",
    "* `n_series`: Optional, the number of unique time series, required only for Multivariate models. \n",
    "\n",
    "In this example, we will use `h=12` and we use `optuna` as backend. We will use the default hyperparameter space but only change `random_seed` range and `n_pool_kernel_size`."
   ]
  },
  {
   "cell_type": "code",
   "execution_count": null,
   "metadata": {},
   "outputs": [],
   "source": [
    "import optuna\n",
    "optuna.logging.set_verbosity(optuna.logging.WARNING) # Use this to disable training prints from optuna"
   ]
  },
  {
   "cell_type": "code",
   "execution_count": null,
   "metadata": {},
   "outputs": [],
   "source": [
    "nhits_default_config = AutoNHITS.get_default_config(h = 12, backend=\"optuna\")                   # Extract the default hyperparameter settings\n",
    "\n",
    "def config_nhits(trial):\n",
    "    config = {**nhits_default_config(trial)}\n",
    "    config.update({\n",
    "                   \"random_seed\": trial.suggest_int(\"random_seed\", 1, 10), \n",
    "                   \"n_pool_kernel_size\": trial.suggest_categorical(\"n_pool_kernel_size\", [[2, 2, 2], [16, 8, 1]])\n",
    "                   })\n",
    "    return config    "
   ]
  },
  {
   "cell_type": "markdown",
   "metadata": {},
   "source": [
    "### 3.a.2 Custom hyperparameter grid\n",
    "\n",
    "More generally, users can define fully customized search spaces tailored for particular datasets and tasks, by fully specifying a hyperparameter search space function.\n",
    "\n",
    "In the following example we are optimizing the `learning_rate` and two `NHITS` specific hyperparameters: `n_pool_kernel_size` and `n_freq_downsample`. Additionaly, we use the search space to modify default hyperparameters, such as `max_steps` and `val_check_steps`. "
   ]
  },
  {
   "cell_type": "code",
   "execution_count": null,
   "metadata": {},
   "outputs": [],
   "source": [
    "def config_nhits(trial):\n",
    "    return {\n",
    "        \"max_steps\": 100,                                                                                               # Number of SGD steps\n",
    "        \"input_size\": 24,                                                                                               # Size of input window\n",
    "        \"learning_rate\": trial.suggest_loguniform(\"learning_rate\", 1e-5, 1e-1),                                         # Initial Learning rate\n",
    "        \"n_pool_kernel_size\": trial.suggest_categorical(\"n_pool_kernel_size\", [[2, 2, 2], [16, 8, 1]]),                 # MaxPool's Kernelsize\n",
    "        \"n_freq_downsample\": trial.suggest_categorical(\"n_freq_downsample\", [[168, 24, 1], [24, 12, 1], [1, 1, 1]]),    # Interpolation expressivity ratios\n",
    "        \"val_check_steps\": 50,                                                                                          # Compute validation every 50 steps\n",
    "        \"random_seed\": trial.suggest_int(\"random_seed\", 1, 10),                                                         # Random seed\n",
    "    }"
   ]
  },
  {
   "cell_type": "markdown",
   "metadata": {},
   "source": [
    "### 4.b Instantiate `Auto` model"
   ]
  },
  {
   "cell_type": "markdown",
   "metadata": {},
   "source": [
    "To instantiate an `Auto` model you need to define:\n",
    "\n",
    "* `h`: forecasting horizon.\n",
    "* `loss`: training and validation loss from `neuralforecast.losses.pytorch`.\n",
    "* `config`: hyperparameter search space. If `None`, the `Auto` class will use a pre-defined suggested hyperparameter space.\n",
    "* `search_alg`: search algorithm (from `optuna.samplers`), default is TPESampler (Tree-structured Parzen Estimator). Refer to https://optuna.readthedocs.io/en/stable/reference/samplers/index.html for more information on the different search algorithm options.\n",
    "* `backend`: backend to use, default is `ray`. If `optuna`, the `Auto` class will use the `Optuna` backend.\n",
    "* `num_samples`: number of configurations explored."
   ]
  },
  {
   "cell_type": "code",
   "execution_count": null,
   "metadata": {},
   "outputs": [],
   "source": [
    "model = AutoNHITS(h=12,\n",
    "                  loss=MAE(),\n",
    "                  config=config_nhits,\n",
    "                  search_alg=optuna.samplers.TPESampler(),\n",
    "                  backend='optuna',\n",
    "                  num_samples=10)"
   ]
  },
  {
   "cell_type": "markdown",
   "metadata": {},
   "source": [
    ":::{.callout-important}\n",
    "Configuration dictionaries and search algorithms for `Tune` and `Optuna` are not interchangeable! Use the appropriate type of search algorithm and custom configuration dictionary for each backend.\n",
    ":::"
   ]
  },
  {
   "cell_type": "markdown",
   "metadata": {},
   "source": [
    "### 4.c Train model and predict with `Core` class"
   ]
  },
  {
   "cell_type": "markdown",
   "metadata": {},
   "source": [
    "Use the `val_size` parameter of the `fit` method to control the length of the validation set. In this case we set the validation set as twice the forecasting horizon."
   ]
  },
  {
   "cell_type": "code",
   "execution_count": null,
   "metadata": {},
   "outputs": [
    {
     "name": "stderr",
     "output_type": "stream",
     "text": [
      "Global seed set to 6\n",
      "Global seed set to 6\n",
      "Global seed set to 1\n",
      "Global seed set to 1\n",
      "Global seed set to 7\n",
      "Global seed set to 4\n",
      "Global seed set to 9\n",
      "Global seed set to 8\n",
      "Global seed set to 7\n",
      "Global seed set to 7\n",
      "Global seed set to 6\n"
     ]
    }
   ],
   "source": [
    "%%capture\n",
    "nf = NeuralForecast(models=[model], freq='M')\n",
    "nf.fit(df=Y_df, val_size=24)"
   ]
  },
  {
   "cell_type": "markdown",
   "metadata": {},
   "source": [
    "The results of the hyperparameter tuning are available in the `results` attribute of the `Auto` model. Use the `trials_dataframe` method to get the results in a pandas dataframe."
   ]
  },
  {
   "cell_type": "code",
   "execution_count": null,
   "metadata": {},
   "outputs": [
    {
     "data": {
      "text/html": [
       "<div>\n",
       "<style scoped>\n",
       "    .dataframe tbody tr th:only-of-type {\n",
       "        vertical-align: middle;\n",
       "    }\n",
       "\n",
       "    .dataframe tbody tr th {\n",
       "        vertical-align: top;\n",
       "    }\n",
       "\n",
       "    .dataframe thead th {\n",
       "        text-align: right;\n",
       "    }\n",
       "</style>\n",
       "<table border=\"1\" class=\"dataframe\">\n",
       "  <thead>\n",
       "    <tr style=\"text-align: right;\">\n",
       "      <th></th>\n",
       "      <th>number</th>\n",
       "      <th>value</th>\n",
       "      <th>datetime_start</th>\n",
       "      <th>datetime_complete</th>\n",
       "      <th>duration</th>\n",
       "      <th>params_learning_rate</th>\n",
       "      <th>params_n_freq_downsample</th>\n",
       "      <th>params_n_pool_kernel_size</th>\n",
       "      <th>params_random_seed</th>\n",
       "      <th>state</th>\n",
       "    </tr>\n",
       "  </thead>\n",
       "  <tbody>\n",
       "    <tr>\n",
       "      <th>0</th>\n",
       "      <td>0</td>\n",
       "      <td>2.964735e+01</td>\n",
       "      <td>2023-10-23 19:13:30.251719</td>\n",
       "      <td>2023-10-23 19:13:33.007086</td>\n",
       "      <td>0 days 00:00:02.755367</td>\n",
       "      <td>0.000074</td>\n",
       "      <td>[24, 12, 1]</td>\n",
       "      <td>[2, 2, 2]</td>\n",
       "      <td>2</td>\n",
       "      <td>COMPLETE</td>\n",
       "    </tr>\n",
       "    <tr>\n",
       "      <th>1</th>\n",
       "      <td>1</td>\n",
       "      <td>2.790444e+03</td>\n",
       "      <td>2023-10-23 19:13:33.007483</td>\n",
       "      <td>2023-10-23 19:13:35.823089</td>\n",
       "      <td>0 days 00:00:02.815606</td>\n",
       "      <td>0.026500</td>\n",
       "      <td>[24, 12, 1]</td>\n",
       "      <td>[2, 2, 2]</td>\n",
       "      <td>10</td>\n",
       "      <td>COMPLETE</td>\n",
       "    </tr>\n",
       "    <tr>\n",
       "      <th>2</th>\n",
       "      <td>2</td>\n",
       "      <td>2.193000e+01</td>\n",
       "      <td>2023-10-23 19:13:35.823607</td>\n",
       "      <td>2023-10-23 19:13:38.599414</td>\n",
       "      <td>0 days 00:00:02.775807</td>\n",
       "      <td>0.000337</td>\n",
       "      <td>[168, 24, 1]</td>\n",
       "      <td>[2, 2, 2]</td>\n",
       "      <td>7</td>\n",
       "      <td>COMPLETE</td>\n",
       "    </tr>\n",
       "    <tr>\n",
       "      <th>3</th>\n",
       "      <td>3</td>\n",
       "      <td>1.147799e+08</td>\n",
       "      <td>2023-10-23 19:13:38.600149</td>\n",
       "      <td>2023-10-23 19:13:41.440307</td>\n",
       "      <td>0 days 00:00:02.840158</td>\n",
       "      <td>0.059274</td>\n",
       "      <td>[1, 1, 1]</td>\n",
       "      <td>[16, 8, 1]</td>\n",
       "      <td>5</td>\n",
       "      <td>COMPLETE</td>\n",
       "    </tr>\n",
       "    <tr>\n",
       "      <th>4</th>\n",
       "      <td>4</td>\n",
       "      <td>2.140740e+01</td>\n",
       "      <td>2023-10-23 19:13:41.440833</td>\n",
       "      <td>2023-10-23 19:13:44.184860</td>\n",
       "      <td>0 days 00:00:02.744027</td>\n",
       "      <td>0.000840</td>\n",
       "      <td>[168, 24, 1]</td>\n",
       "      <td>[16, 8, 1]</td>\n",
       "      <td>5</td>\n",
       "      <td>COMPLETE</td>\n",
       "    </tr>\n",
       "    <tr>\n",
       "      <th>5</th>\n",
       "      <td>5</td>\n",
       "      <td>1.606544e+01</td>\n",
       "      <td>2023-10-23 19:13:44.185291</td>\n",
       "      <td>2023-10-23 19:13:46.945672</td>\n",
       "      <td>0 days 00:00:02.760381</td>\n",
       "      <td>0.005477</td>\n",
       "      <td>[1, 1, 1]</td>\n",
       "      <td>[16, 8, 1]</td>\n",
       "      <td>8</td>\n",
       "      <td>COMPLETE</td>\n",
       "    </tr>\n",
       "    <tr>\n",
       "      <th>6</th>\n",
       "      <td>6</td>\n",
       "      <td>1.301640e+04</td>\n",
       "      <td>2023-10-23 19:13:46.946108</td>\n",
       "      <td>2023-10-23 19:13:49.805633</td>\n",
       "      <td>0 days 00:00:02.859525</td>\n",
       "      <td>0.056746</td>\n",
       "      <td>[1, 1, 1]</td>\n",
       "      <td>[16, 8, 1]</td>\n",
       "      <td>3</td>\n",
       "      <td>COMPLETE</td>\n",
       "    </tr>\n",
       "    <tr>\n",
       "      <th>7</th>\n",
       "      <td>7</td>\n",
       "      <td>4.972713e+01</td>\n",
       "      <td>2023-10-23 19:13:49.806278</td>\n",
       "      <td>2023-10-23 19:13:52.577180</td>\n",
       "      <td>0 days 00:00:02.770902</td>\n",
       "      <td>0.000021</td>\n",
       "      <td>[24, 12, 1]</td>\n",
       "      <td>[2, 2, 2]</td>\n",
       "      <td>9</td>\n",
       "      <td>COMPLETE</td>\n",
       "    </tr>\n",
       "    <tr>\n",
       "      <th>8</th>\n",
       "      <td>8</td>\n",
       "      <td>2.138879e+01</td>\n",
       "      <td>2023-10-23 19:13:52.577678</td>\n",
       "      <td>2023-10-23 19:13:55.372792</td>\n",
       "      <td>0 days 00:00:02.795114</td>\n",
       "      <td>0.007136</td>\n",
       "      <td>[1, 1, 1]</td>\n",
       "      <td>[2, 2, 2]</td>\n",
       "      <td>9</td>\n",
       "      <td>COMPLETE</td>\n",
       "    </tr>\n",
       "    <tr>\n",
       "      <th>9</th>\n",
       "      <td>9</td>\n",
       "      <td>2.094145e+01</td>\n",
       "      <td>2023-10-23 19:13:55.373149</td>\n",
       "      <td>2023-10-23 19:13:58.125058</td>\n",
       "      <td>0 days 00:00:02.751909</td>\n",
       "      <td>0.004655</td>\n",
       "      <td>[1, 1, 1]</td>\n",
       "      <td>[2, 2, 2]</td>\n",
       "      <td>6</td>\n",
       "      <td>COMPLETE</td>\n",
       "    </tr>\n",
       "  </tbody>\n",
       "</table>\n",
       "</div>"
      ],
      "text/plain": [
       "   number         value             datetime_start          datetime_complete  \\\n",
       "0       0  2.964735e+01 2023-10-23 19:13:30.251719 2023-10-23 19:13:33.007086   \n",
       "1       1  2.790444e+03 2023-10-23 19:13:33.007483 2023-10-23 19:13:35.823089   \n",
       "2       2  2.193000e+01 2023-10-23 19:13:35.823607 2023-10-23 19:13:38.599414   \n",
       "3       3  1.147799e+08 2023-10-23 19:13:38.600149 2023-10-23 19:13:41.440307   \n",
       "4       4  2.140740e+01 2023-10-23 19:13:41.440833 2023-10-23 19:13:44.184860   \n",
       "5       5  1.606544e+01 2023-10-23 19:13:44.185291 2023-10-23 19:13:46.945672   \n",
       "6       6  1.301640e+04 2023-10-23 19:13:46.946108 2023-10-23 19:13:49.805633   \n",
       "7       7  4.972713e+01 2023-10-23 19:13:49.806278 2023-10-23 19:13:52.577180   \n",
       "8       8  2.138879e+01 2023-10-23 19:13:52.577678 2023-10-23 19:13:55.372792   \n",
       "9       9  2.094145e+01 2023-10-23 19:13:55.373149 2023-10-23 19:13:58.125058   \n",
       "\n",
       "                duration  params_learning_rate params_n_freq_downsample  \\\n",
       "0 0 days 00:00:02.755367              0.000074              [24, 12, 1]   \n",
       "1 0 days 00:00:02.815606              0.026500              [24, 12, 1]   \n",
       "2 0 days 00:00:02.775807              0.000337             [168, 24, 1]   \n",
       "3 0 days 00:00:02.840158              0.059274                [1, 1, 1]   \n",
       "4 0 days 00:00:02.744027              0.000840             [168, 24, 1]   \n",
       "5 0 days 00:00:02.760381              0.005477                [1, 1, 1]   \n",
       "6 0 days 00:00:02.859525              0.056746                [1, 1, 1]   \n",
       "7 0 days 00:00:02.770902              0.000021              [24, 12, 1]   \n",
       "8 0 days 00:00:02.795114              0.007136                [1, 1, 1]   \n",
       "9 0 days 00:00:02.751909              0.004655                [1, 1, 1]   \n",
       "\n",
       "  params_n_pool_kernel_size  params_random_seed     state  \n",
       "0                 [2, 2, 2]                   2  COMPLETE  \n",
       "1                 [2, 2, 2]                  10  COMPLETE  \n",
       "2                 [2, 2, 2]                   7  COMPLETE  \n",
       "3                [16, 8, 1]                   5  COMPLETE  \n",
       "4                [16, 8, 1]                   5  COMPLETE  \n",
       "5                [16, 8, 1]                   8  COMPLETE  \n",
       "6                [16, 8, 1]                   3  COMPLETE  \n",
       "7                 [2, 2, 2]                   9  COMPLETE  \n",
       "8                 [2, 2, 2]                   9  COMPLETE  \n",
       "9                 [2, 2, 2]                   6  COMPLETE  "
      ]
     },
     "execution_count": null,
     "metadata": {},
     "output_type": "execute_result"
    }
   ],
   "source": [
    "results = nf.models[0].results.trials_dataframe()\n",
    "results.drop(columns='user_attrs_ALL_PARAMS')"
   ]
  },
  {
   "cell_type": "markdown",
   "metadata": {},
   "source": [
    "Next, we use the `predict` method to forecast the next 12 months using the optimal hyperparameters."
   ]
  },
  {
   "cell_type": "code",
   "execution_count": null,
   "metadata": {},
   "outputs": [
    {
     "name": "stdout",
     "output_type": "stream",
     "text": [
      "Predicting DataLoader 0: 100%|██████████| 1/1 [00:00<00:00, 112.75it/s]\n"
     ]
    },
    {
     "data": {
      "text/html": [
       "<div>\n",
       "<style scoped>\n",
       "    .dataframe tbody tr th:only-of-type {\n",
       "        vertical-align: middle;\n",
       "    }\n",
       "\n",
       "    .dataframe tbody tr th {\n",
       "        vertical-align: top;\n",
       "    }\n",
       "\n",
       "    .dataframe thead th {\n",
       "        text-align: right;\n",
       "    }\n",
       "</style>\n",
       "<table border=\"1\" class=\"dataframe\">\n",
       "  <thead>\n",
       "    <tr style=\"text-align: right;\">\n",
       "      <th></th>\n",
       "      <th>unique_id</th>\n",
       "      <th>ds</th>\n",
       "      <th>AutoNHITS</th>\n",
       "    </tr>\n",
       "  </thead>\n",
       "  <tbody>\n",
       "    <tr>\n",
       "      <th>0</th>\n",
       "      <td>1.0</td>\n",
       "      <td>1961-01-31</td>\n",
       "      <td>445.272858</td>\n",
       "    </tr>\n",
       "    <tr>\n",
       "      <th>1</th>\n",
       "      <td>1.0</td>\n",
       "      <td>1961-02-28</td>\n",
       "      <td>469.633423</td>\n",
       "    </tr>\n",
       "    <tr>\n",
       "      <th>2</th>\n",
       "      <td>1.0</td>\n",
       "      <td>1961-03-31</td>\n",
       "      <td>475.265289</td>\n",
       "    </tr>\n",
       "    <tr>\n",
       "      <th>3</th>\n",
       "      <td>1.0</td>\n",
       "      <td>1961-04-30</td>\n",
       "      <td>483.228516</td>\n",
       "    </tr>\n",
       "    <tr>\n",
       "      <th>4</th>\n",
       "      <td>1.0</td>\n",
       "      <td>1961-05-31</td>\n",
       "      <td>516.583496</td>\n",
       "    </tr>\n",
       "  </tbody>\n",
       "</table>\n",
       "</div>"
      ],
      "text/plain": [
       "   unique_id         ds   AutoNHITS\n",
       "0        1.0 1961-01-31  445.272858\n",
       "1        1.0 1961-02-28  469.633423\n",
       "2        1.0 1961-03-31  475.265289\n",
       "3        1.0 1961-04-30  483.228516\n",
       "4        1.0 1961-05-31  516.583496"
      ]
     },
     "execution_count": null,
     "metadata": {},
     "output_type": "execute_result"
    }
   ],
   "source": [
    "Y_hat_df_optuna = nf.predict()\n",
    "Y_hat_df_optuna = Y_hat_df_optuna.reset_index()\n",
    "Y_hat_df_optuna.head()"
   ]
  },
  {
   "cell_type": "markdown",
   "metadata": {},
   "source": [
    "## 5. Plots"
   ]
  },
  {
   "cell_type": "markdown",
   "metadata": {},
   "source": [
    "Finally, we compare the forecasts produced by the `AutoNHITS` model with both backends."
   ]
  },
  {
   "cell_type": "code",
   "execution_count": null,
   "metadata": {},
   "outputs": [],
   "source": [
    "import pandas as pd\n",
    "import matplotlib.pyplot as plt"
   ]
  },
  {
   "cell_type": "code",
   "execution_count": null,
   "metadata": {},
   "outputs": [
    {
     "data": {
      "image/png": "[encoded data removed]",
      "text/plain": [
       "<Figure size 2000x700 with 1 Axes>"
      ]
     },
     "metadata": {},
     "output_type": "display_data"
    }
   ],
   "source": [
    "fig, ax = plt.subplots(1, 1, figsize = (20, 7))\n",
    "plot_df = pd.concat([Y_df, Y_hat_df]).reset_index()\n",
    "\n",
    "plt.plot(plot_df['ds'], plot_df['y'], label='y')\n",
    "plt.plot(plot_df['ds'], plot_df['AutoNHITS'], label='Ray')\n",
    "plt.plot(Y_hat_df_optuna['ds'], Y_hat_df_optuna['AutoNHITS'], label='Optuna')\n",
    "\n",
    "ax.set_title('AirPassengers Forecast', fontsize=22)\n",
    "ax.set_ylabel('Monthly Passengers', fontsize=20)\n",
    "ax.set_xlabel('Timestamp [t]', fontsize=20)\n",
    "ax.legend(prop={'size': 15})\n",
    "ax.grid()"
   ]
  },
  {
   "attachments": {},
   "cell_type": "markdown",
   "metadata": {},
   "source": [
    "### References\n",
    "- [Cristian Challu, Kin G. Olivares, Boris N. Oreshkin, Federico Garza, Max Mergenthaler-Canseco, Artur Dubrawski (2021). NHITS: Neural Hierarchical Interpolation for Time Series Forecasting. Accepted at AAAI 2023.](https://arxiv.org/abs/2201.12886)\n",
    "- [James Bergstra, Remi Bardenet, Yoshua Bengio, and Balazs Kegl (2011). \"Algorithms for Hyper-Parameter Optimization\". In: Advances in Neural Information Processing Systems. url: https://proceedings.neurips.cc/paper/2011/file/86e8f7ab32cfd12577bc2619bc635690-Paper.pdf](https://proceedings.neurips.cc/paper/2011/file/86e8f7ab32cfd12577bc2619bc635690-Paper.pdf)\n",
    "- [Kirthevasan Kandasamy, Karun Raju Vysyaraju, Willie Neiswanger, Biswajit Paria, Christopher R. Collins, Jeff Schneider, Barnabas Poczos, Eric P. Xing (2019). \"Tuning Hyperparameters without Grad Students: Scalable and Robust Bayesian Optimisation with Dragonfly\". Journal of Machine Learning Research. url: https://arxiv.org/abs/1903.06694](https://arxiv.org/abs/1903.06694)\n",
    "- [Lisha Li, Kevin Jamieson, Giulia DeSalvo, Afshin Rostamizadeh, Ameet Talwalkar (2016). \"Hyperband: A Novel Bandit-Based Approach to Hyperparameter Optimization\". Journal of Machine Learning Research. url: https://arxiv.org/abs/1603.06560](https://arxiv.org/abs/1603.06560)"
   ]
  }
 ],
 "metadata": {
  "kernelspec": {
   "display_name": "python3",
   "language": "python",
   "name": "python3"
  }
 },
 "nbformat": 4,
 "nbformat_minor": 2
}
