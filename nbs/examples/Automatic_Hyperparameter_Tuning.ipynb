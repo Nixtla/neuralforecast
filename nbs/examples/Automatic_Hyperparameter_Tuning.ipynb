{
 "cells": [
  {
   "attachments": {},
   "cell_type": "markdown",
   "metadata": {},
   "source": [
    "# Hyperparameter Optimization"
   ]
  },
  {
   "attachments": {},
   "cell_type": "markdown",
   "metadata": {},
   "source": [
    "Deep-learning models are the state-of-the-art in time series forecasting. They have outperformed statistical and tree-based approaches in recent large-scale competitions, such as the M series, and are being increasingly adopted in industry. However, their performance is greatly affected by the choice of hyperparameters. Selecting the optimal configuration, a process called hyperparameter tuning, is essential to achieve the best performance.\n",
    "\n",
    "The main steps of hyperparameter tuning are:\n",
    "\n",
    " 1. Define training and validation sets.\n",
    " 2. Define search space.\n",
    " 3. Sample configurations with a search algorithm, train models, and evaluate them on the validation set.\n",
    " 4. Select and store the best model.\n",
    "\n",
    "With `Neuralforecast`, we automatize and simplify the hyperparameter tuning process with the `Auto` models. Every model in the library has an `Auto` version (for example, `AutoNHITS`, `AutoTFT`) which can perform automatic hyperparameter selection on default or user-defined search space.\n",
    "\n",
    "The `Auto` models can be used with two backends: Ray's `Tune` library and `Optuna`, with a user-friendly and simplified API, with most of their capabilities.\n",
    "\n",
    "In this tutorial, we show in detail how to instantiate and train an `AutoNHITS` model with a custom search space with both `Tune` and `Optuna` backends, install and use `HYPEROPT` search algorithm, and use the model with optimal hyperparameters to forecast."
   ]
  },
  {
   "attachments": {},
   "cell_type": "markdown",
   "metadata": {},
   "source": [
    "You can run these experiments using GPU with Google Colab.\n",
    "\n",
    "<a href=\"https://colab.research.google.com/github/Nixtla/neuralforecast/blob/main/nbs/examples/Automatic_Hyperparameter_Tuning.ipynb\" target=\"_parent\"><img src=\"https://colab.research.google.com/assets/colab-badge.svg\" alt=\"Open In Colab\"/></a>"
   ]
  },
  {
   "attachments": {},
   "cell_type": "markdown",
   "metadata": {},
   "source": [
    "## 1. Install `Neuralforecast`"
   ]
  },
  {
   "cell_type": "code",
   "execution_count": null,
   "metadata": {},
   "outputs": [],
   "source": [
    "%%capture\n",
    "!pip install neuralforecast\n",
    "!pip install hyperopt"
   ]
  },
  {
   "attachments": {},
   "cell_type": "markdown",
   "metadata": {},
   "source": [
    "## 2. Load Data\n",
    "\n",
    "In this example we will use the `AirPasengers`, a popular dataset with monthly airline passengers in the US from 1949 to 1960. Load the data, available at our `utils` methods in the required format. See https://nixtla.github.io/neuralforecast/examples/data_format.html for more details on the data input format."
   ]
  },
  {
   "cell_type": "code",
   "execution_count": null,
   "metadata": {},
   "outputs": [
    {
     "data": {
      "text/html": [
       "<div>\n",
       "<style scoped>\n",
       "    .dataframe tbody tr th:only-of-type {\n",
       "        vertical-align: middle;\n",
       "    }\n",
       "\n",
       "    .dataframe tbody tr th {\n",
       "        vertical-align: top;\n",
       "    }\n",
       "\n",
       "    .dataframe thead th {\n",
       "        text-align: right;\n",
       "    }\n",
       "</style>\n",
       "<table border=\"1\" class=\"dataframe\">\n",
       "  <thead>\n",
       "    <tr style=\"text-align: right;\">\n",
       "      <th></th>\n",
       "      <th>unique_id</th>\n",
       "      <th>ds</th>\n",
       "      <th>y</th>\n",
       "    </tr>\n",
       "  </thead>\n",
       "  <tbody>\n",
       "    <tr>\n",
       "      <th>0</th>\n",
       "      <td>1.0</td>\n",
       "      <td>1949-01-31</td>\n",
       "      <td>112.0</td>\n",
       "    </tr>\n",
       "    <tr>\n",
       "      <th>1</th>\n",
       "      <td>1.0</td>\n",
       "      <td>1949-02-28</td>\n",
       "      <td>118.0</td>\n",
       "    </tr>\n",
       "    <tr>\n",
       "      <th>2</th>\n",
       "      <td>1.0</td>\n",
       "      <td>1949-03-31</td>\n",
       "      <td>132.0</td>\n",
       "    </tr>\n",
       "    <tr>\n",
       "      <th>3</th>\n",
       "      <td>1.0</td>\n",
       "      <td>1949-04-30</td>\n",
       "      <td>129.0</td>\n",
       "    </tr>\n",
       "    <tr>\n",
       "      <th>4</th>\n",
       "      <td>1.0</td>\n",
       "      <td>1949-05-31</td>\n",
       "      <td>121.0</td>\n",
       "    </tr>\n",
       "  </tbody>\n",
       "</table>\n",
       "</div>"
      ],
      "text/plain": [
       "   unique_id         ds      y\n",
       "0        1.0 1949-01-31  112.0\n",
       "1        1.0 1949-02-28  118.0\n",
       "2        1.0 1949-03-31  132.0\n",
       "3        1.0 1949-04-30  129.0\n",
       "4        1.0 1949-05-31  121.0"
      ]
     },
     "execution_count": null,
     "metadata": {},
     "output_type": "execute_result"
    }
   ],
   "source": [
    "from neuralforecast.utils import AirPassengersDF\n",
    "\n",
    "Y_df = AirPassengersDF\n",
    "Y_df.head()"
   ]
  },
  {
   "cell_type": "markdown",
   "metadata": {},
   "source": [
    "## 3. Ray's `Tune` backend"
   ]
  },
  {
   "cell_type": "markdown",
   "metadata": {},
   "source": [
    "First, we show how to use the `Tune` backend. This backend is based on Ray's `Tune` library, which is a scalable framework for hyperparameter tuning. It is a popular library in the machine learning community, and it is used by many companies and research labs. If you plan to use the `Optuna` backend, you can skip this section."
   ]
  },
  {
   "attachments": {},
   "cell_type": "markdown",
   "metadata": {},
   "source": [
    "### 3.a Define hyperparameter grid"
   ]
  },
  {
   "attachments": {},
   "cell_type": "markdown",
   "metadata": {},
   "source": [
    "Each `Auto` model contains a default search space that was extensively tested on multiple large-scale datasets. Additionally, users can define specific search spaces tailored for particular datasets and tasks.\n",
    "\n",
    "First, we create a custom search space for the `AutoNHITS` model. Search spaces are specified with dictionaries, where keys corresponds to the model's hyperparameter and the value is a `Tune` function to specify how the hyperparameter will be sampled. For example, use `randint` to sample integers uniformly, and `choice` to sample values of a list.\n",
    "\n",
    "In the following example we are optimizing the `learning_rate` and two `NHITS` specific hyperparameters: `n_pool_kernel_size` and `n_freq_downsample`. Additionaly, we use the search space to modify default hyperparameters, such as `max_steps` and `val_check_steps`. "
   ]
  },
  {
   "cell_type": "code",
   "execution_count": null,
   "metadata": {},
   "outputs": [],
   "source": [
    "from ray import tune"
   ]
  },
  {
   "cell_type": "code",
   "execution_count": null,
   "metadata": {},
   "outputs": [],
   "source": [
    "nhits_config = {\n",
    "       \"max_steps\": 100,                                                         # Number of SGD steps\n",
    "       \"input_size\": 24,                                                         # Size of input window\n",
    "       \"learning_rate\": tune.loguniform(1e-5, 1e-1),                             # Initial Learning rate\n",
    "       \"n_pool_kernel_size\": tune.choice([[2, 2, 2], [16, 8, 1]]),               # MaxPool's Kernelsize\n",
    "       \"n_freq_downsample\": tune.choice([[168, 24, 1], [24, 12, 1], [1, 1, 1]]), # Interpolation expressivity ratios\n",
    "       \"val_check_steps\": 50,                                                    # Compute validation every 50 steps\n",
    "       \"random_seed\": tune.randint(1, 10),                                       # Random seed\n",
    "    }"
   ]
  },
  {
   "attachments": {},
   "cell_type": "markdown",
   "metadata": {},
   "source": [
    ":::{.callout-important}\n",
    "Configuration dictionaries are not interchangeable between models since they have different hyperparameters. Refer to https://nixtla.github.io/neuralforecast/models.html for a complete list of each model's hyperparameters.\n",
    ":::"
   ]
  },
  {
   "attachments": {},
   "cell_type": "markdown",
   "metadata": {},
   "source": [
    "### 3.b Instantiate `Auto` model"
   ]
  },
  {
   "attachments": {},
   "cell_type": "markdown",
   "metadata": {},
   "source": [
    "To instantiate an `Auto` model you need to define:\n",
    "\n",
    "* `h`: forecasting horizon.\n",
    "* `loss`: training and validation loss from `neuralforecast.losses.pytorch`.\n",
    "* `config`: hyperparameter search space. If `None`, the `Auto` class will use a pre-defined suggested hyperparameter space.\n",
    "* `search_alg`: search algorithm (from `tune.search`), default is random search. Refer to https://docs.ray.io/en/latest/tune/api_docs/suggestion.html for more information on the different search algorithm options.\n",
    "* `backend`: backend to use, default is `ray`. If `optuna`, the `Auto` class will use the `Optuna` backend.\n",
    "* `num_samples`: number of configurations explored."
   ]
  },
  {
   "attachments": {},
   "cell_type": "markdown",
   "metadata": {},
   "source": [
    "In this example we set horizon `h` as 12, use the `MAE` loss for training and validation, and use the `HYPEROPT` search algorithm. "
   ]
  },
  {
   "cell_type": "code",
   "execution_count": null,
   "metadata": {},
   "outputs": [],
   "source": [
    "from ray.tune.search.hyperopt import HyperOptSearch\n",
    "from neuralforecast.losses.pytorch import MAE\n",
    "from neuralforecast.auto import AutoNHITS"
   ]
  },
  {
   "cell_type": "code",
   "execution_count": null,
   "metadata": {},
   "outputs": [],
   "source": [
    "model = AutoNHITS(h=12,\n",
    "                  loss=MAE(),\n",
    "                  config=nhits_config,\n",
    "                  search_alg=HyperOptSearch(),\n",
    "                  backend='ray',\n",
    "                  num_samples=20)"
   ]
  },
  {
   "attachments": {},
   "cell_type": "markdown",
   "metadata": {},
   "source": [
    ":::{.callout-tip}\n",
    "The number of samples, `num_samples`, is a crucial parameter! Larger values will usually produce better results as we explore more configurations in the search space, but it will increase training times. Larger search spaces will usually require more samples. As a general rule, we recommend setting `num_samples` higher than 20.\n",
    ":::"
   ]
  },
  {
   "attachments": {},
   "cell_type": "markdown",
   "metadata": {},
   "source": [
    "### 3.c Train model and predict with `Core` class"
   ]
  },
  {
   "attachments": {},
   "cell_type": "markdown",
   "metadata": {},
   "source": [
    "Next, we use the `Neuralforecast` class to train the `Auto` model. In this step, `Auto` models will automatically perform hyperparamter tuning training multiple models with different hyperparameters, producing the forecasts on the validation set, and evaluating them. The best configuration is selected based on the error on a validation set. Only the best model is stored and used during inference."
   ]
  },
  {
   "cell_type": "code",
   "execution_count": null,
   "metadata": {},
   "outputs": [],
   "source": [
    "from neuralforecast import NeuralForecast"
   ]
  },
  {
   "attachments": {},
   "cell_type": "markdown",
   "metadata": {},
   "source": [
    "Use the `val_size` parameter of the `fit` method to control the length of the validation set. In this case we set the validation set as twice the forecasting horizon."
   ]
  },
  {
   "cell_type": "code",
   "execution_count": null,
   "metadata": {},
   "outputs": [
    {
     "name": "stderr",
     "output_type": "stream",
     "text": [
      "Global seed set to 3\n"
     ]
    }
   ],
   "source": [
    "%%capture\n",
    "nf = NeuralForecast(models=[model], freq='M')\n",
    "nf.fit(df=Y_df, val_size=24)"
   ]
  },
  {
   "attachments": {},
   "cell_type": "markdown",
   "metadata": {},
   "source": [
    "The results of the hyperparameter tuning are available in the `results` attribute of the `Auto` model. Use the `get_dataframe` method to get the results in a pandas dataframe."
   ]
  },
  {
   "cell_type": "code",
   "execution_count": null,
   "metadata": {},
   "outputs": [
    {
     "data": {
      "text/html": [
       "<div>\n",
       "<style scoped>\n",
       "    .dataframe tbody tr th:only-of-type {\n",
       "        vertical-align: middle;\n",
       "    }\n",
       "\n",
       "    .dataframe tbody tr th {\n",
       "        vertical-align: top;\n",
       "    }\n",
       "\n",
       "    .dataframe thead th {\n",
       "        text-align: right;\n",
       "    }\n",
       "</style>\n",
       "<table border=\"1\" class=\"dataframe\">\n",
       "  <thead>\n",
       "    <tr style=\"text-align: right;\">\n",
       "      <th></th>\n",
       "      <th>loss</th>\n",
       "      <th>time_this_iter_s</th>\n",
       "      <th>done</th>\n",
       "      <th>timesteps_total</th>\n",
       "      <th>episodes_total</th>\n",
       "      <th>training_iteration</th>\n",
       "      <th>trial_id</th>\n",
       "      <th>experiment_id</th>\n",
       "      <th>date</th>\n",
       "      <th>timestamp</th>\n",
       "      <th>...</th>\n",
       "      <th>config/input_size</th>\n",
       "      <th>config/learning_rate</th>\n",
       "      <th>config/loss</th>\n",
       "      <th>config/max_steps</th>\n",
       "      <th>config/n_freq_downsample</th>\n",
       "      <th>config/n_pool_kernel_size</th>\n",
       "      <th>config/random_seed</th>\n",
       "      <th>config/val_check_steps</th>\n",
       "      <th>config/valid_loss</th>\n",
       "      <th>logdir</th>\n",
       "    </tr>\n",
       "  </thead>\n",
       "  <tbody>\n",
       "    <tr>\n",
       "      <th>0</th>\n",
       "      <td>32.958260</td>\n",
       "      <td>5.068742</td>\n",
       "      <td>False</td>\n",
       "      <td>NaN</td>\n",
       "      <td>NaN</td>\n",
       "      <td>2</td>\n",
       "      <td>80e2f2ae</td>\n",
       "      <td>e253abe34c8e4e9ca76119a978e12c41</td>\n",
       "      <td>2023-10-02_17-34-01</td>\n",
       "      <td>1696282441</td>\n",
       "      <td>...</td>\n",
       "      <td>24</td>\n",
       "      <td>0.000066</td>\n",
       "      <td>MAE()</td>\n",
       "      <td>100</td>\n",
       "      <td>[1, 1, 1]</td>\n",
       "      <td>[16, 8, 1]</td>\n",
       "      <td>5</td>\n",
       "      <td>50</td>\n",
       "      <td>MAE()</td>\n",
       "      <td>/Users/cchallu/ray_results/_train_tune_2023-10...</td>\n",
       "    </tr>\n",
       "    <tr>\n",
       "      <th>1</th>\n",
       "      <td>64.581337</td>\n",
       "      <td>4.249444</td>\n",
       "      <td>False</td>\n",
       "      <td>NaN</td>\n",
       "      <td>NaN</td>\n",
       "      <td>2</td>\n",
       "      <td>6d8fb7fc</td>\n",
       "      <td>e253abe34c8e4e9ca76119a978e12c41</td>\n",
       "      <td>2023-10-02_17-34-10</td>\n",
       "      <td>1696282450</td>\n",
       "      <td>...</td>\n",
       "      <td>24</td>\n",
       "      <td>0.000015</td>\n",
       "      <td>MAE()</td>\n",
       "      <td>100</td>\n",
       "      <td>[1, 1, 1]</td>\n",
       "      <td>[16, 8, 1]</td>\n",
       "      <td>7</td>\n",
       "      <td>50</td>\n",
       "      <td>MAE()</td>\n",
       "      <td>/Users/cchallu/ray_results/_train_tune_2023-10...</td>\n",
       "    </tr>\n",
       "    <tr>\n",
       "      <th>2</th>\n",
       "      <td>21.545362</td>\n",
       "      <td>4.475191</td>\n",
       "      <td>False</td>\n",
       "      <td>NaN</td>\n",
       "      <td>NaN</td>\n",
       "      <td>2</td>\n",
       "      <td>84449199</td>\n",
       "      <td>e253abe34c8e4e9ca76119a978e12c41</td>\n",
       "      <td>2023-10-02_17-34-19</td>\n",
       "      <td>1696282459</td>\n",
       "      <td>...</td>\n",
       "      <td>24</td>\n",
       "      <td>0.000316</td>\n",
       "      <td>MAE()</td>\n",
       "      <td>100</td>\n",
       "      <td>[24, 12, 1]</td>\n",
       "      <td>[16, 8, 1]</td>\n",
       "      <td>6</td>\n",
       "      <td>50</td>\n",
       "      <td>MAE()</td>\n",
       "      <td>/Users/cchallu/ray_results/_train_tune_2023-10...</td>\n",
       "    </tr>\n",
       "    <tr>\n",
       "      <th>3</th>\n",
       "      <td>20.727100</td>\n",
       "      <td>4.981699</td>\n",
       "      <td>False</td>\n",
       "      <td>NaN</td>\n",
       "      <td>NaN</td>\n",
       "      <td>2</td>\n",
       "      <td>2d0c2934</td>\n",
       "      <td>e253abe34c8e4e9ca76119a978e12c41</td>\n",
       "      <td>2023-10-02_17-34-29</td>\n",
       "      <td>1696282469</td>\n",
       "      <td>...</td>\n",
       "      <td>24</td>\n",
       "      <td>0.000821</td>\n",
       "      <td>MAE()</td>\n",
       "      <td>100</td>\n",
       "      <td>[1, 1, 1]</td>\n",
       "      <td>[16, 8, 1]</td>\n",
       "      <td>2</td>\n",
       "      <td>50</td>\n",
       "      <td>MAE()</td>\n",
       "      <td>/Users/cchallu/ray_results/_train_tune_2023-10...</td>\n",
       "    </tr>\n",
       "    <tr>\n",
       "      <th>4</th>\n",
       "      <td>56.311253</td>\n",
       "      <td>6.184243</td>\n",
       "      <td>False</td>\n",
       "      <td>NaN</td>\n",
       "      <td>NaN</td>\n",
       "      <td>2</td>\n",
       "      <td>953502e0</td>\n",
       "      <td>e253abe34c8e4e9ca76119a978e12c41</td>\n",
       "      <td>2023-10-02_17-34-41</td>\n",
       "      <td>1696282481</td>\n",
       "      <td>...</td>\n",
       "      <td>24</td>\n",
       "      <td>0.000014</td>\n",
       "      <td>MAE()</td>\n",
       "      <td>100</td>\n",
       "      <td>[168, 24, 1]</td>\n",
       "      <td>[2, 2, 2]</td>\n",
       "      <td>6</td>\n",
       "      <td>50</td>\n",
       "      <td>MAE()</td>\n",
       "      <td>/Users/cchallu/ray_results/_train_tune_2023-10...</td>\n",
       "    </tr>\n",
       "  </tbody>\n",
       "</table>\n",
       "<p>5 rows × 29 columns</p>\n",
       "</div>"
      ],
      "text/plain": [
       "        loss  time_this_iter_s   done  timesteps_total  episodes_total  \\\n",
       "0  32.958260          5.068742  False              NaN             NaN   \n",
       "1  64.581337          4.249444  False              NaN             NaN   \n",
       "2  21.545362          4.475191  False              NaN             NaN   \n",
       "3  20.727100          4.981699  False              NaN             NaN   \n",
       "4  56.311253          6.184243  False              NaN             NaN   \n",
       "\n",
       "   training_iteration  trial_id                     experiment_id  \\\n",
       "0                   2  80e2f2ae  e253abe34c8e4e9ca76119a978e12c41   \n",
       "1                   2  6d8fb7fc  e253abe34c8e4e9ca76119a978e12c41   \n",
       "2                   2  84449199  e253abe34c8e4e9ca76119a978e12c41   \n",
       "3                   2  2d0c2934  e253abe34c8e4e9ca76119a978e12c41   \n",
       "4                   2  953502e0  e253abe34c8e4e9ca76119a978e12c41   \n",
       "\n",
       "                  date   timestamp  ...  config/input_size  \\\n",
       "0  2023-10-02_17-34-01  1696282441  ...                 24   \n",
       "1  2023-10-02_17-34-10  1696282450  ...                 24   \n",
       "2  2023-10-02_17-34-19  1696282459  ...                 24   \n",
       "3  2023-10-02_17-34-29  1696282469  ...                 24   \n",
       "4  2023-10-02_17-34-41  1696282481  ...                 24   \n",
       "\n",
       "   config/learning_rate config/loss config/max_steps  \\\n",
       "0              0.000066       MAE()              100   \n",
       "1              0.000015       MAE()              100   \n",
       "2              0.000316       MAE()              100   \n",
       "3              0.000821       MAE()              100   \n",
       "4              0.000014       MAE()              100   \n",
       "\n",
       "   config/n_freq_downsample  config/n_pool_kernel_size  config/random_seed  \\\n",
       "0                 [1, 1, 1]                 [16, 8, 1]                   5   \n",
       "1                 [1, 1, 1]                 [16, 8, 1]                   7   \n",
       "2               [24, 12, 1]                 [16, 8, 1]                   6   \n",
       "3                 [1, 1, 1]                 [16, 8, 1]                   2   \n",
       "4              [168, 24, 1]                  [2, 2, 2]                   6   \n",
       "\n",
       "   config/val_check_steps  config/valid_loss  \\\n",
       "0                      50              MAE()   \n",
       "1                      50              MAE()   \n",
       "2                      50              MAE()   \n",
       "3                      50              MAE()   \n",
       "4                      50              MAE()   \n",
       "\n",
       "                                              logdir  \n",
       "0  /Users/cchallu/ray_results/_train_tune_2023-10...  \n",
       "1  /Users/cchallu/ray_results/_train_tune_2023-10...  \n",
       "2  /Users/cchallu/ray_results/_train_tune_2023-10...  \n",
       "3  /Users/cchallu/ray_results/_train_tune_2023-10...  \n",
       "4  /Users/cchallu/ray_results/_train_tune_2023-10...  \n",
       "\n",
       "[5 rows x 29 columns]"
      ]
     },
     "execution_count": null,
     "metadata": {},
     "output_type": "execute_result"
    }
   ],
   "source": [
    "results = nf.models[0].results.get_dataframe()\n",
    "results.head()"
   ]
  },
  {
   "attachments": {},
   "cell_type": "markdown",
   "metadata": {},
   "source": [
    "Next, we use the `predict` method to forecast the next 12 months using the optimal hyperparameters."
   ]
  },
  {
   "cell_type": "code",
   "execution_count": null,
   "metadata": {},
   "outputs": [
    {
     "name": "stdout",
     "output_type": "stream",
     "text": [
      "Predicting DataLoader 0: 100%|██████████| 1/1 [00:00<00:00, 86.66it/s] \n"
     ]
    },
    {
     "data": {
      "text/html": [
       "<div>\n",
       "<style scoped>\n",
       "    .dataframe tbody tr th:only-of-type {\n",
       "        vertical-align: middle;\n",
       "    }\n",
       "\n",
       "    .dataframe tbody tr th {\n",
       "        vertical-align: top;\n",
       "    }\n",
       "\n",
       "    .dataframe thead th {\n",
       "        text-align: right;\n",
       "    }\n",
       "</style>\n",
       "<table border=\"1\" class=\"dataframe\">\n",
       "  <thead>\n",
       "    <tr style=\"text-align: right;\">\n",
       "      <th></th>\n",
       "      <th>unique_id</th>\n",
       "      <th>ds</th>\n",
       "      <th>AutoNHITS</th>\n",
       "    </tr>\n",
       "  </thead>\n",
       "  <tbody>\n",
       "    <tr>\n",
       "      <th>0</th>\n",
       "      <td>1.0</td>\n",
       "      <td>1961-01-31</td>\n",
       "      <td>452.099854</td>\n",
       "    </tr>\n",
       "    <tr>\n",
       "      <th>1</th>\n",
       "      <td>1.0</td>\n",
       "      <td>1961-02-28</td>\n",
       "      <td>479.276123</td>\n",
       "    </tr>\n",
       "    <tr>\n",
       "      <th>2</th>\n",
       "      <td>1.0</td>\n",
       "      <td>1961-03-31</td>\n",
       "      <td>482.372314</td>\n",
       "    </tr>\n",
       "    <tr>\n",
       "      <th>3</th>\n",
       "      <td>1.0</td>\n",
       "      <td>1961-04-30</td>\n",
       "      <td>484.772736</td>\n",
       "    </tr>\n",
       "    <tr>\n",
       "      <th>4</th>\n",
       "      <td>1.0</td>\n",
       "      <td>1961-05-31</td>\n",
       "      <td>527.752563</td>\n",
       "    </tr>\n",
       "  </tbody>\n",
       "</table>\n",
       "</div>"
      ],
      "text/plain": [
       "   unique_id         ds   AutoNHITS\n",
       "0        1.0 1961-01-31  452.099854\n",
       "1        1.0 1961-02-28  479.276123\n",
       "2        1.0 1961-03-31  482.372314\n",
       "3        1.0 1961-04-30  484.772736\n",
       "4        1.0 1961-05-31  527.752563"
      ]
     },
     "execution_count": null,
     "metadata": {},
     "output_type": "execute_result"
    }
   ],
   "source": [
    "Y_hat_df = nf.predict()\n",
    "Y_hat_df = Y_hat_df.reset_index()\n",
    "Y_hat_df.head()"
   ]
  },
  {
   "cell_type": "markdown",
   "metadata": {},
   "source": [
    "## 4. `Optuna` backend"
   ]
  },
  {
   "cell_type": "markdown",
   "metadata": {},
   "source": [
    "In this section we show how to use the `Optuna` backend. `Optuna` is a lightweight and versatile platform for hyperparameter optimization. If you plan to use the `Tune` backend, you can skip this section."
   ]
  },
  {
   "cell_type": "markdown",
   "metadata": {},
   "source": [
    "### 4.a Define hyperparameter grid"
   ]
  },
  {
   "cell_type": "markdown",
   "metadata": {},
   "source": [
    "Each `Auto` model contains a default search space that was extensively tested on multiple large-scale datasets. Additionally, users can define specific search spaces tailored for particular datasets and tasks.\n",
    "\n",
    "First, we create a custom search space for the `AutoNHITS` model. Search spaces are specified with a function that returns a dictionary, where keys corresponds to the model's hyperparameter and the value is a `suggest` function to specify how the hyperparameter will be sampled. For example, use `suggest_int` to sample integers uniformly, and `suggest_categorical` to sample values of a list. See https://optuna.readthedocs.io/en/stable/reference/generated/optuna.trial.Trial.html for more details.\n",
    "\n",
    "In the following example we are optimizing the `learning_rate` and two `NHITS` specific hyperparameters: `n_pool_kernel_size` and `n_freq_downsample`. Additionaly, we use the search space to modify default hyperparameters, such as `max_steps` and `val_check_steps`. "
   ]
  },
  {
   "cell_type": "code",
   "execution_count": null,
   "metadata": {},
   "outputs": [],
   "source": [
    "import optuna"
   ]
  },
  {
   "cell_type": "code",
   "execution_count": null,
   "metadata": {},
   "outputs": [],
   "source": [
    "def config_nhits(trial):\n",
    "    return {\n",
    "        \"max_steps\": 100,                                                                                               # Number of SGD steps\n",
    "        \"input_size\": 24,                                                                                               # Size of input window\n",
    "        \"learning_rate\": trial.suggest_loguniform(\"learning_rate\", 1e-5, 1e-1),                                         # Initial Learning rate\n",
    "        \"n_pool_kernel_size\": trial.suggest_categorical(\"n_pool_kernel_size\", [[2, 2, 2], [16, 8, 1]]),                 # MaxPool's Kernelsize\n",
    "        \"n_freq_downsample\": trial.suggest_categorical(\"n_freq_downsample\", [[168, 24, 1], [24, 12, 1], [1, 1, 1]]),    # Interpolation expressivity ratios\n",
    "        \"val_check_steps\": 50,                                                                                          # Compute validation every 50 steps\n",
    "        \"random_seed\": trial.suggest_int(\"random_seed\", 1, 10),                                                         # Random seed\n",
    "    }"
   ]
  },
  {
   "cell_type": "markdown",
   "metadata": {},
   "source": [
    "### 4.b Instantiate `Auto` model"
   ]
  },
  {
   "cell_type": "markdown",
   "metadata": {},
   "source": [
    "To instantiate an `Auto` model you need to define:\n",
    "\n",
    "* `h`: forecasting horizon.\n",
    "* `loss`: training and validation loss from `neuralforecast.losses.pytorch`.\n",
    "* `config`: hyperparameter search space. If `None`, the `Auto` class will use a pre-defined suggested hyperparameter space.\n",
    "* `search_alg`: search algorithm (from `optuna.samplers`), default is random search. Refer to https://optuna.readthedocs.io/en/stable/reference/samplers/index.html for more information on the different search algorithm options.\n",
    "* `backend`: backend to use, default is `ray`. If `optuna`, the `Auto` class will use the `Optuna` backend.\n",
    "* `num_samples`: number of configurations explored."
   ]
  },
  {
   "cell_type": "code",
   "execution_count": null,
   "metadata": {},
   "outputs": [],
   "source": [
    "model = AutoNHITS(h=12,\n",
    "                  loss=MAE(),\n",
    "                  config=config_nhits,\n",
    "                  search_alg=optuna.samplers.RandomSampler(),\n",
    "                  backend='optuna',\n",
    "                  num_samples=20)"
   ]
  },
  {
   "cell_type": "markdown",
   "metadata": {},
   "source": [
    ":::{.callout-important}\n",
    "Configuration dictionaries and search algorithms for `Tune` and `Optuna` are not interchangeable! Use the appropriate type of search algorithm and custom configuration dictionary for each backend.\n",
    ":::"
   ]
  },
  {
   "cell_type": "markdown",
   "metadata": {},
   "source": [
    "### 4.c Train model and predict with `Core` class"
   ]
  },
  {
   "cell_type": "markdown",
   "metadata": {},
   "source": [
    "Use the `val_size` parameter of the `fit` method to control the length of the validation set. In this case we set the validation set as twice the forecasting horizon."
   ]
  },
  {
   "cell_type": "code",
   "execution_count": null,
   "metadata": {},
   "outputs": [
    {
     "name": "stderr",
     "output_type": "stream",
     "text": [
      "[I 2023-10-02 17:37:04,830] A new study created in memory with name: no-name-ee6e7a23-d7ba-4c17-8b32-64bbb34f98ec\n",
      "Global seed set to 6\n",
      "[I 2023-10-02 17:37:13,462] Trial 0 finished with value: 46.12255096435547 and parameters: {'learning_rate': 3.1073882994620156e-05, 'n_pool_kernel_size': [2, 2, 2], 'n_freq_downsample': [24, 12, 1], 'random_seed': 6}. Best is trial 0 with value: 46.12255096435547.\n",
      "Global seed set to 10\n",
      "[I 2023-10-02 17:37:22,149] Trial 1 finished with value: 50.47093963623047 and parameters: {'learning_rate': 2.0813421209789296e-05, 'n_pool_kernel_size': [2, 2, 2], 'n_freq_downsample': [168, 24, 1], 'random_seed': 10}. Best is trial 0 with value: 46.12255096435547.\n",
      "Global seed set to 4\n",
      "[I 2023-10-02 17:37:30,964] Trial 2 finished with value: 21.289766311645508 and parameters: {'learning_rate': 0.00028290215412027245, 'n_pool_kernel_size': [2, 2, 2], 'n_freq_downsample': [24, 12, 1], 'random_seed': 4}. Best is trial 2 with value: 21.289766311645508.\n",
      "Global seed set to 7\n",
      "[I 2023-10-02 17:37:39,145] Trial 3 finished with value: 17.80186653137207 and parameters: {'learning_rate': 0.0030990344715228035, 'n_pool_kernel_size': [16, 8, 1], 'n_freq_downsample': [1, 1, 1], 'random_seed': 7}. Best is trial 3 with value: 17.80186653137207.\n",
      "Global seed set to 2\n",
      "[I 2023-10-02 17:37:47,388] Trial 4 finished with value: 31.672515869140625 and parameters: {'learning_rate': 8.682416772250409e-05, 'n_pool_kernel_size': [16, 8, 1], 'n_freq_downsample': [168, 24, 1], 'random_seed': 2}. Best is trial 3 with value: 17.80186653137207.\n",
      "Global seed set to 3\n",
      "[I 2023-10-02 17:37:55,529] Trial 5 finished with value: 15583419.0 and parameters: {'learning_rate': 0.04944407038251605, 'n_pool_kernel_size': [2, 2, 2], 'n_freq_downsample': [24, 12, 1], 'random_seed': 3}. Best is trial 3 with value: 17.80186653137207.\n",
      "Global seed set to 1\n",
      "[I 2023-10-02 17:38:04,233] Trial 6 finished with value: 20.691226959228516 and parameters: {'learning_rate': 0.001286802680972838, 'n_pool_kernel_size': [16, 8, 1], 'n_freq_downsample': [24, 12, 1], 'random_seed': 1}. Best is trial 3 with value: 17.80186653137207.\n",
      "Global seed set to 6\n",
      "[I 2023-10-02 17:38:12,817] Trial 7 finished with value: 91.43367767333984 and parameters: {'learning_rate': 0.021710875017810733, 'n_pool_kernel_size': [2, 2, 2], 'n_freq_downsample': [24, 12, 1], 'random_seed': 6}. Best is trial 3 with value: 17.80186653137207.\n",
      "Global seed set to 8\n",
      "[I 2023-10-02 17:38:21,618] Trial 8 finished with value: 20.509613037109375 and parameters: {'learning_rate': 0.0005028817586614437, 'n_pool_kernel_size': [16, 8, 1], 'n_freq_downsample': [1, 1, 1], 'random_seed': 8}. Best is trial 3 with value: 17.80186653137207.\n",
      "Global seed set to 8\n",
      "[I 2023-10-02 17:38:29,789] Trial 9 finished with value: 68.64360809326172 and parameters: {'learning_rate': 0.016309315238117964, 'n_pool_kernel_size': [16, 8, 1], 'n_freq_downsample': [168, 24, 1], 'random_seed': 8}. Best is trial 3 with value: 17.80186653137207.\n",
      "Global seed set to 7\n",
      "[I 2023-10-02 17:38:38,199] Trial 10 finished with value: 19.881248474121094 and parameters: {'learning_rate': 0.0009976394898408506, 'n_pool_kernel_size': [16, 8, 1], 'n_freq_downsample': [1, 1, 1], 'random_seed': 7}. Best is trial 3 with value: 17.80186653137207.\n",
      "Global seed set to 5\n",
      "[I 2023-10-02 17:38:46,929] Trial 11 finished with value: 894772.625 and parameters: {'learning_rate': 0.04317825025880947, 'n_pool_kernel_size': [2, 2, 2], 'n_freq_downsample': [1, 1, 1], 'random_seed': 5}. Best is trial 3 with value: 17.80186653137207.\n",
      "Global seed set to 2\n",
      "[I 2023-10-02 17:38:55,959] Trial 12 finished with value: 20.437482833862305 and parameters: {'learning_rate': 0.0005812648269615202, 'n_pool_kernel_size': [2, 2, 2], 'n_freq_downsample': [24, 12, 1], 'random_seed': 2}. Best is trial 3 with value: 17.80186653137207.\n",
      "Global seed set to 8\n",
      "[I 2023-10-02 17:39:07,150] Trial 13 finished with value: 25.665157318115234 and parameters: {'learning_rate': 0.00014405382740684903, 'n_pool_kernel_size': [16, 8, 1], 'n_freq_downsample': [24, 12, 1], 'random_seed': 8}. Best is trial 3 with value: 17.80186653137207.\n",
      "Global seed set to 4\n",
      "[I 2023-10-02 17:39:19,922] Trial 14 finished with value: 24.18319320678711 and parameters: {'learning_rate': 0.00397022613726053, 'n_pool_kernel_size': [2, 2, 2], 'n_freq_downsample': [1, 1, 1], 'random_seed': 4}. Best is trial 3 with value: 17.80186653137207.\n",
      "Global seed set to 10\n",
      "[I 2023-10-02 17:39:31,356] Trial 15 finished with value: 21.824085235595703 and parameters: {'learning_rate': 0.00020166524593621452, 'n_pool_kernel_size': [2, 2, 2], 'n_freq_downsample': [24, 12, 1], 'random_seed': 10}. Best is trial 3 with value: 17.80186653137207.\n",
      "Global seed set to 10\n",
      "[I 2023-10-02 17:39:42,764] Trial 16 finished with value: 17.469560623168945 and parameters: {'learning_rate': 0.00480975260095948, 'n_pool_kernel_size': [2, 2, 2], 'n_freq_downsample': [168, 24, 1], 'random_seed': 10}. Best is trial 16 with value: 17.469560623168945.\n",
      "Global seed set to 2\n",
      "[I 2023-10-02 17:39:54,487] Trial 17 finished with value: 24701716.0 and parameters: {'learning_rate': 0.06754016616230117, 'n_pool_kernel_size': [2, 2, 2], 'n_freq_downsample': [168, 24, 1], 'random_seed': 2}. Best is trial 16 with value: 17.469560623168945.\n",
      "Global seed set to 5\n",
      "[I 2023-10-02 17:40:05,744] Trial 18 finished with value: 28.59507179260254 and parameters: {'learning_rate': 8.952165714507115e-05, 'n_pool_kernel_size': [2, 2, 2], 'n_freq_downsample': [24, 12, 1], 'random_seed': 5}. Best is trial 16 with value: 17.469560623168945.\n",
      "Global seed set to 9\n",
      "[I 2023-10-02 17:40:16,384] Trial 19 finished with value: 20.30946159362793 and parameters: {'learning_rate': 0.0016364678471938335, 'n_pool_kernel_size': [2, 2, 2], 'n_freq_downsample': [24, 12, 1], 'random_seed': 9}. Best is trial 16 with value: 17.469560623168945.\n",
      "Global seed set to 10\n"
     ]
    }
   ],
   "source": [
    "nf = NeuralForecast(models=[model], freq='M')\n",
    "nf.fit(df=Y_df, val_size=24)"
   ]
  },
  {
   "cell_type": "markdown",
   "metadata": {},
   "source": [
    "Next, we use the `predict` method to forecast the next 12 months using the optimal hyperparameters."
   ]
  },
  {
   "cell_type": "code",
   "execution_count": null,
   "metadata": {},
   "outputs": [
    {
     "name": "stdout",
     "output_type": "stream",
     "text": [
      "Predicting DataLoader 0: 100%|██████████| 1/1 [00:00<00:00, 24.82it/s]\n"
     ]
    },
    {
     "data": {
      "text/html": [
       "<div>\n",
       "<style scoped>\n",
       "    .dataframe tbody tr th:only-of-type {\n",
       "        vertical-align: middle;\n",
       "    }\n",
       "\n",
       "    .dataframe tbody tr th {\n",
       "        vertical-align: top;\n",
       "    }\n",
       "\n",
       "    .dataframe thead th {\n",
       "        text-align: right;\n",
       "    }\n",
       "</style>\n",
       "<table border=\"1\" class=\"dataframe\">\n",
       "  <thead>\n",
       "    <tr style=\"text-align: right;\">\n",
       "      <th></th>\n",
       "      <th>unique_id</th>\n",
       "      <th>ds</th>\n",
       "      <th>AutoNHITS</th>\n",
       "    </tr>\n",
       "  </thead>\n",
       "  <tbody>\n",
       "    <tr>\n",
       "      <th>0</th>\n",
       "      <td>1.0</td>\n",
       "      <td>1961-01-31</td>\n",
       "      <td>437.836456</td>\n",
       "    </tr>\n",
       "    <tr>\n",
       "      <th>1</th>\n",
       "      <td>1.0</td>\n",
       "      <td>1961-02-28</td>\n",
       "      <td>429.164154</td>\n",
       "    </tr>\n",
       "    <tr>\n",
       "      <th>2</th>\n",
       "      <td>1.0</td>\n",
       "      <td>1961-03-31</td>\n",
       "      <td>499.596802</td>\n",
       "    </tr>\n",
       "    <tr>\n",
       "      <th>3</th>\n",
       "      <td>1.0</td>\n",
       "      <td>1961-04-30</td>\n",
       "      <td>506.988983</td>\n",
       "    </tr>\n",
       "    <tr>\n",
       "      <th>4</th>\n",
       "      <td>1.0</td>\n",
       "      <td>1961-05-31</td>\n",
       "      <td>505.422394</td>\n",
       "    </tr>\n",
       "  </tbody>\n",
       "</table>\n",
       "</div>"
      ],
      "text/plain": [
       "   unique_id         ds   AutoNHITS\n",
       "0        1.0 1961-01-31  437.836456\n",
       "1        1.0 1961-02-28  429.164154\n",
       "2        1.0 1961-03-31  499.596802\n",
       "3        1.0 1961-04-30  506.988983\n",
       "4        1.0 1961-05-31  505.422394"
      ]
     },
     "execution_count": null,
     "metadata": {},
     "output_type": "execute_result"
    }
   ],
   "source": [
    "Y_hat_df_optuna = nf.predict()\n",
    "Y_hat_df_optuna = Y_hat_df_optuna.reset_index()\n",
    "Y_hat_df_optuna.head()"
   ]
  },
  {
   "cell_type": "markdown",
   "metadata": {},
   "source": [
    "## 5. Plots"
   ]
  },
  {
   "cell_type": "markdown",
   "metadata": {},
   "source": [
    "Finally, we compare the forecasts produced by the `AutoNHITS` model with both backends."
   ]
  },
  {
   "cell_type": "code",
   "execution_count": null,
   "metadata": {},
   "outputs": [],
   "source": [
    "import pandas as pd\n",
    "import matplotlib.pyplot as plt"
   ]
  },
  {
   "cell_type": "code",
   "execution_count": null,
   "metadata": {},
   "outputs": [
    {
     "data": {
      "image/png": "[encoded data removed]",
      "text/plain": [
       "<Figure size 2000x700 with 1 Axes>"
      ]
     },
     "metadata": {},
     "output_type": "display_data"
    }
   ],
   "source": [
    "fig, ax = plt.subplots(1, 1, figsize = (20, 7))\n",
    "plot_df = pd.concat([Y_df, Y_hat_df]).reset_index()\n",
    "\n",
    "plt.plot(plot_df['ds'], plot_df['y'], label='y')\n",
    "plt.plot(plot_df['ds'], plot_df['AutoNHITS'], label='Ray')\n",
    "plt.plot(Y_hat_df_optuna['ds'], Y_hat_df_optuna['AutoNHITS'], label='Optuna')\n",
    "\n",
    "ax.set_title('AirPassengers Forecast', fontsize=22)\n",
    "ax.set_ylabel('Monthly Passengers', fontsize=20)\n",
    "ax.set_xlabel('Timestamp [t]', fontsize=20)\n",
    "ax.legend(prop={'size': 15})\n",
    "ax.grid()"
   ]
  },
  {
   "attachments": {},
   "cell_type": "markdown",
   "metadata": {},
   "source": [
    "### References\n",
    "- [Cristian Challu, Kin G. Olivares, Boris N. Oreshkin, Federico Garza, Max Mergenthaler-Canseco, Artur Dubrawski (2021). NHITS: Neural Hierarchical Interpolation for Time Series Forecasting. Accepted at AAAI 2023.](https://arxiv.org/abs/2201.12886)\n",
    "- [James Bergstra, Remi Bardenet, Yoshua Bengio, and Balazs Kegl (2011). \"Algorithms for Hyper-Parameter Optimization\". In: Advances in Neural Information Processing Systems. url: https://proceedings.neurips.cc/paper/2011/file/86e8f7ab32cfd12577bc2619bc635690-Paper.pdf](https://proceedings.neurips.cc/paper/2011/file/86e8f7ab32cfd12577bc2619bc635690-Paper.pdf)\n",
    "- [Kirthevasan Kandasamy, Karun Raju Vysyaraju, Willie Neiswanger, Biswajit Paria, Christopher R. Collins, Jeff Schneider, Barnabas Poczos, Eric P. Xing (2019). \"Tuning Hyperparameters without Grad Students: Scalable and Robust Bayesian Optimisation with Dragonfly\". Journal of Machine Learning Research. url: https://arxiv.org/abs/1903.06694](https://arxiv.org/abs/1903.06694)\n",
    "- [Lisha Li, Kevin Jamieson, Giulia DeSalvo, Afshin Rostamizadeh, Ameet Talwalkar (2016). \"Hyperband: A Novel Bandit-Based Approach to Hyperparameter Optimization\". Journal of Machine Learning Research. url: https://arxiv.org/abs/1603.06560](https://arxiv.org/abs/1603.06560)"
   ]
  }
 ],
 "metadata": {
  "kernelspec": {
   "display_name": "python3",
   "language": "python",
   "name": "python3"
  }
 },
 "nbformat": 4,
 "nbformat_minor": 2
}
